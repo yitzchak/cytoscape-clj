{
 "cells": [
  {
   "cell_type": "code",
   "execution_count": null,
   "metadata": {},
   "outputs": [],
   "source": [
    "(ql:quickload :cytoscape-clj)"
   ]
  },
  {
   "cell_type": "code",
   "execution_count": null,
   "metadata": {},
   "outputs": [],
   "source": [
    "(cytoscape:make-cytoscape-widget\n",
    "  :elements (list (cytoscape:make-element :group \"nodes\" :data (j:make-object \"label\" \"top left\") :classes '(\"top-left\"))\n",
    "                  (cytoscape:make-element :group \"nodes\" :data (j:make-object \"label\" \"top center\") :classes '(\"top-center\"))\n",
    "                  (cytoscape:make-element :group \"nodes\" :data (j:make-object \"label\" \"top right\") :classes '(\"top-right\"))\n",
    "                  (cytoscape:make-element :group \"nodes\" :data (j:make-object \"label\" \"center left\") :classes '(\"center-left\"))\n",
    "                  (cytoscape:make-element :group \"nodes\" :data (j:make-object \"label\" \"center center\") :classes '(\"center-center\"))\n",
    "                  (cytoscape:make-element :group \"nodes\" :data (j:make-object \"label\" \"center right\") :classes '(\"center-right\"))\n",
    "                  (cytoscape:make-element :group \"nodes\" :data (j:make-object \"label\" \"bottom left\") :classes '(\"bottom-left\"))\n",
    "                  (cytoscape:make-element :group \"nodes\" :data (j:make-object \"label\" \"bottom center\") :classes '(\"bottom-center\"))\n",
    "                  (cytoscape:make-element :group \"nodes\" :data (j:make-object \"label\" \"bottom right\") :classes '(\"bottom-right\")))\n",
    "  :graph-layouts (list (cytoscape:make-grid-layout :spacing-factor :null))\n",
    "  :graph-style \"node { font-family: helvetica; font-size: 20px; label: data(label); }\n",
    "               .top-left { text-valign: top; text-halign: left; }\n",
    "               .top-center { text-valign: top; text-halign: center; }\n",
    "               .top-right { text-valign: top; text-halign: right; }\n",
    "               .center-left { text-valign: center; text-halign: left; }\n",
    "               .center-center { text-valign: center; text-halign: center; }\n",
    "               .center-right { text-valign: center; text-halign: right; }\n",
    "               .bottom-left { text-valign: bottom; text-halign: left; }\n",
    "               .bottom-center { text-valign: bottom; text-halign: center; }\n",
    "               .bottom-right { text-valign: bottom; text-halign: right; }\")"
   ]
  },
  {
   "cell_type": "code",
   "execution_count": null,
   "metadata": {},
   "outputs": [],
   "source": []
  }
 ],
 "metadata": {
  "kernelspec": {
   "display_name": "Common Lisp (SBCL)",
   "language": "common-lisp",
   "name": "common-lisp_sbcl"
  },
  "language_info": {
   "codemirror_mode": "text/x-common-lisp",
   "file_extension": ".lisp",
   "mimetype": "text/x-common-lisp",
   "name": "common-lisp",
   "pygments_lexer": "common-lisp",
   "version": "2.1.1"
  },
  "widgets": {
   "application/vnd.jupyter.widget-state+json": {
    "state": {
     "0216653c12264285a1492409d1eda70d": {
      "model_module": "cytoscape-clj",
      "model_module_version": "^0.2.0",
      "model_name": "ElementModel",
      "state": {
       "_model_module_version": "^0.2.0",
       "_view_module_version": "^0.2.0",
       "classes": [
        "bottom-right"
       ],
       "data": {
        "label": "bottom right"
       },
       "position": {
        "x": 889.6999999999999,
        "y": 300
       }
      }
     },
     "022421deb4f844f915f57b376cc553aa": {
      "model_module": "cytoscape-clj",
      "model_module_version": "^0.2.0",
      "model_name": "ElementModel",
      "state": {
       "_model_module_version": "^0.2.0",
       "_view_module_version": "^0.2.0",
       "classes": [
        "bottom-right"
       ],
       "data": {
        "label": "bottom right"
       },
       "position": {
        "x": 889.6999999999999,
        "y": 300
       }
      }
     },
     "04423b3422294ce7c7408422b316010c": {
      "model_module": "cytoscape-clj",
      "model_module_version": "^0.2.0",
      "model_name": "ElementModel",
      "state": {
       "_model_module_version": "^0.2.0",
       "_view_module_version": "^0.2.0",
       "classes": [
        "center-right"
       ],
       "data": {
        "label": "center right"
       },
       "position": {
        "x": 127.1,
        "y": 300
       }
      }
     },
     "0c1e393ddd1848020b7ec7e3e5061291": {
      "model_module": "cytoscape-clj",
      "model_module_version": "^0.2.0",
      "model_name": "ElementModel",
      "state": {
       "_model_module_version": "^0.2.0",
       "_view_module_version": "^0.2.0",
       "classes": [
        "center-center"
       ],
       "data": {
        "label": "center center"
       },
       "position": {
        "x": 1143.8999999999999,
        "y": 100
       }
      }
     },
     "1f9bbc209fa245b59c44910321dc832e": {
      "model_module": "cytoscape-clj",
      "model_module_version": "^0.2.0",
      "model_name": "ElementModel",
      "state": {
       "_model_module_version": "^0.2.0",
       "_view_module_version": "^0.2.0",
       "classes": [
        "center-right"
       ],
       "data": {
        "label": "center right"
       },
       "position": {
        "x": 127.1,
        "y": 300
       }
      }
     },
     "22589ea85e57406d63c5a27e24a2f000": {
      "model_module": "cytoscape-clj",
      "model_module_version": "^0.2.0",
      "model_name": "ElementModel",
      "state": {
       "_model_module_version": "^0.2.0",
       "_view_module_version": "^0.2.0",
       "classes": [
        "center-right"
       ],
       "data": {
        "label": "center right"
       },
       "position": {
        "x": 127.1,
        "y": 300
       }
      }
     },
     "277cbedb5d5f49652ef783c7b8cc1af1": {
      "model_module": "cytoscape-clj",
      "model_module_version": "^0.2.0",
      "model_name": "ElementModel",
      "state": {
       "_model_module_version": "^0.2.0",
       "_view_module_version": "^0.2.0",
       "classes": [
        "bottom-left"
       ],
       "data": {
        "label": "bottom left"
       },
       "position": {
        "x": 381.29999999999995,
        "y": 300
       }
      }
     },
     "282312eafd8a44e24a0cebd5d877b631": {
      "model_module": "cytoscape-clj",
      "model_module_version": "^0.2.0",
      "model_name": "CytoscapeStyleModel",
      "state": {
       "_model_module_version": "^0.2.0"
      }
     },
     "2ec9398a3fba47089e30c4371417cea0": {
      "model_module": "cytoscape-clj",
      "model_module_version": "^0.2.0",
      "model_name": "GridLayoutModel",
      "state": {
       "_model_module_version": "^0.2.0",
       "_view_module_version": "^0.2.0",
       "animate": true,
       "animation_duration": 250
      }
     },
     "2f6b1fa5ceb84066431ca86576fb02f5": {
      "model_module": "cytoscape-clj",
      "model_module_version": "^0.2.0",
      "model_name": "ElementModel",
      "state": {
       "_model_module_version": "^0.2.0",
       "_view_module_version": "^0.2.0",
       "classes": [
        "center-left"
       ],
       "data": {
        "label": "center left"
       },
       "position": {
        "x": 889.6999999999999,
        "y": 100
       }
      }
     },
     "3d8c0b341d8948823245e93c3dd53494": {
      "model_module": "cytoscape-clj",
      "model_module_version": "^0.2.0",
      "model_name": "ElementModel",
      "state": {
       "_model_module_version": "^0.2.0",
       "_view_module_version": "^0.2.0",
       "classes": [
        "center-left"
       ],
       "data": {
        "label": "center left"
       },
       "position": {
        "x": 889.6999999999999,
        "y": 100
       }
      }
     },
     "4f438683d9404924688617927a662ba1": {
      "model_module": "cytoscape-clj",
      "model_module_version": "^0.2.0",
      "model_name": "ElementModel",
      "state": {
       "_model_module_version": "^0.2.0",
       "_view_module_version": "^0.2.0",
       "classes": [
        "top-left"
       ],
       "data": {
        "label": "top left"
       },
       "position": {
        "x": 127.1,
        "y": 100
       }
      }
     },
     "51c729b329cb4023622429263009c5d8": {
      "model_module": "cytoscape-clj",
      "model_module_version": "^0.2.0",
      "model_name": "ElementModel",
      "state": {
       "_model_module_version": "^0.2.0",
       "_view_module_version": "^0.2.0",
       "classes": [
        "top-right"
       ],
       "data": {
        "label": "top right"
       },
       "position": {
        "x": 635.5,
        "y": 100
       }
      }
     },
     "66a20ef3c91c476826066a00ddc96aff": {
      "model_module": "cytoscape-clj",
      "model_module_version": "^0.2.0",
      "model_name": "ElementModel",
      "state": {
       "_model_module_version": "^0.2.0",
       "_view_module_version": "^0.2.0",
       "classes": [
        "bottom-right"
       ],
       "data": {
        "label": "bottom right"
       },
       "position": {
        "x": 889.6999999999999,
        "y": 300
       }
      }
     },
     "68d45662130e4e641c4f6b720e29879f": {
      "model_module": "cytoscape-clj",
      "model_module_version": "^0.2.0",
      "model_name": "CytoscapeStyleModel",
      "state": {
       "_model_module_version": "^0.2.0"
      }
     },
     "7636825fb546410ec3ad508856d2e267": {
      "model_module": "@jupyter-widgets/base",
      "model_module_version": "1.2.0",
      "model_name": "LayoutModel",
      "state": {}
     },
     "7c9bc36120114c0aed52dc2af03cefed": {
      "model_module": "cytoscape-clj",
      "model_module_version": "^0.2.0",
      "model_name": "ElementModel",
      "state": {
       "_model_module_version": "^0.2.0",
       "_view_module_version": "^0.2.0",
       "classes": [
        "top-right"
       ],
       "data": {
        "label": "top right"
       },
       "position": {
        "x": 635.5,
        "y": 100
       }
      }
     },
     "817e345d8e9b4646811894049eeb401f": {
      "model_module": "cytoscape-clj",
      "model_module_version": "^0.2.0",
      "model_name": "ElementModel",
      "state": {
       "_model_module_version": "^0.2.0",
       "_view_module_version": "^0.2.0",
       "classes": [
        "top-center"
       ],
       "data": {
        "label": "top center"
       },
       "position": {
        "x": 381.29999999999995,
        "y": 100
       }
      }
     },
     "854d3cbd032c49b8bd12948144e7e9fe": {
      "model_module": "@jupyter-widgets/base",
      "model_module_version": "1.2.0",
      "model_name": "LayoutModel",
      "state": {}
     },
     "8ce7b966ba574ee5b3473d4a33e9e19a": {
      "model_module": "cytoscape-clj",
      "model_module_version": "^0.2.0",
      "model_name": "ElementModel",
      "state": {
       "_model_module_version": "^0.2.0",
       "_view_module_version": "^0.2.0",
       "classes": [
        "bottom-center"
       ],
       "data": {
        "label": "bottom center"
       },
       "position": {
        "x": 635.5,
        "y": 300
       }
      }
     },
     "974c57a644014314131b9c065130359b": {
      "model_module": "cytoscape-clj",
      "model_module_version": "^0.2.0",
      "model_name": "ElementModel",
      "state": {
       "_model_module_version": "^0.2.0",
       "_view_module_version": "^0.2.0",
       "classes": [
        "center-center"
       ],
       "data": {
        "label": "center center"
       },
       "position": {
        "x": 1143.8999999999999,
        "y": 100
       }
      }
     },
     "9a194f2ad8a244f064f0e62f56fc46ac": {
      "model_module": "cytoscape-clj",
      "model_module_version": "^0.2.0",
      "model_name": "ElementModel",
      "state": {
       "_model_module_version": "^0.2.0",
       "_view_module_version": "^0.2.0",
       "classes": [
        "top-left"
       ],
       "data": {
        "label": "top left"
       },
       "position": {
        "x": 127.1,
        "y": 100
       }
      }
     },
     "9b3461e3ad244fbfc34a6409c6d9a182": {
      "model_module": "cytoscape-clj",
      "model_module_version": "^0.2.0",
      "model_name": "CytoscapeStyleModel",
      "state": {
       "_model_module_version": "^0.2.0"
      }
     },
     "9dd27bd0e1564406e098a37aeefdb184": {
      "model_module": "cytoscape-clj",
      "model_module_version": "^0.2.0",
      "model_name": "ElementModel",
      "state": {
       "_model_module_version": "^0.2.0",
       "_view_module_version": "^0.2.0",
       "classes": [
        "top-center"
       ],
       "data": {
        "label": "top center"
       },
       "position": {
        "x": 381.29999999999995,
        "y": 100
       }
      }
     },
     "a3078804deb64c3852445220ff9aff26": {
      "model_module": "cytoscape-clj",
      "model_module_version": "^0.2.0",
      "model_name": "ElementModel",
      "state": {
       "_model_module_version": "^0.2.0",
       "_view_module_version": "^0.2.0",
       "classes": [
        "bottom-center"
       ],
       "data": {
        "label": "bottom center"
       },
       "position": {
        "x": 635.5,
        "y": 300
       }
      }
     },
     "a476fbda96dd46580902090fce34672c": {
      "model_module": "cytoscape-clj",
      "model_module_version": "^0.2.0",
      "model_name": "CytoscapeModel",
      "state": {
       "_model_module_version": "^0.2.0",
       "_view_module_version": "^0.2.0",
       "box_selection_enabled": true,
       "desktop_tap_threshold": 4,
       "elements": [
        "IPY_MODEL_4f438683d9404924688617927a662ba1",
        "IPY_MODEL_817e345d8e9b4646811894049eeb401f",
        "IPY_MODEL_51c729b329cb4023622429263009c5d8",
        "IPY_MODEL_b2affe476a7a462a500270715769ddac",
        "IPY_MODEL_e99752f955214c761eb5a3d76f9c7dfd",
        "IPY_MODEL_22589ea85e57406d63c5a27e24a2f000",
        "IPY_MODEL_277cbedb5d5f49652ef783c7b8cc1af1",
        "IPY_MODEL_c67466e93c774dea48b47784c20c6282",
        "IPY_MODEL_0216653c12264285a1492409d1eda70d"
       ],
       "graph_layouts": [
        "IPY_MODEL_f651f1dafd204499c9d007b92841356a"
       ],
       "graph_style": "node { font-family: helvetica; font-size: 20px; label: data(label); }\n                            .top-left { text-valign: top; text-halign: left; }\n                            .top-center { text-valign: top; text-halign: center; }\n                            .top-right { text-valign: top; text-halign: right; }\n                            .center-left { text-valign: center; text-halign: left; }\n                            .center-center { text-valign: center; text-halign: center; }\n                            .center-right { text-valign: center; text-halign: right; }\n                            .bottom-left { text-valign: bottom; text-halign: left; }\n                            .bottom-center { text-valign: bottom; text-halign: center; }\n                            .bottom-right { text-valign: bottom; text-halign: right; }",
       "layout": "IPY_MODEL_7636825fb546410ec3ad508856d2e267",
       "pan": {
        "x": -10.356345350720176,
        "y": -6.426318929515048
       },
       "style": "IPY_MODEL_9b3461e3ad244fbfc34a6409c6d9a182",
       "tooltip_source": "tooltip",
       "zoom": 1.0321315946475753
      }
     },
     "b2affe476a7a462a500270715769ddac": {
      "model_module": "cytoscape-clj",
      "model_module_version": "^0.2.0",
      "model_name": "ElementModel",
      "state": {
       "_model_module_version": "^0.2.0",
       "_view_module_version": "^0.2.0",
       "classes": [
        "center-left"
       ],
       "data": {
        "label": "center left"
       },
       "position": {
        "x": 889.6999999999999,
        "y": 100
       }
      }
     },
     "b479b314db7141da67decd8e441b7f84": {
      "model_module": "@jupyter-widgets/base",
      "model_module_version": "1.2.0",
      "model_name": "LayoutModel",
      "state": {}
     },
     "c67466e93c774dea48b47784c20c6282": {
      "model_module": "cytoscape-clj",
      "model_module_version": "^0.2.0",
      "model_name": "ElementModel",
      "state": {
       "_model_module_version": "^0.2.0",
       "_view_module_version": "^0.2.0",
       "classes": [
        "bottom-center"
       ],
       "data": {
        "label": "bottom center"
       },
       "position": {
        "x": 635.5,
        "y": 300
       }
      }
     },
     "cb04da88013441bbc34fe7b1648cbcc4": {
      "model_module": "cytoscape-clj",
      "model_module_version": "^0.2.0",
      "model_name": "CytoscapeModel",
      "state": {
       "_model_module_version": "^0.2.0",
       "_view_module_version": "^0.2.0",
       "box_selection_enabled": true,
       "desktop_tap_threshold": 4,
       "elements": [
        "IPY_MODEL_e6d90f8b651a43078bd7367a08409f12",
        "IPY_MODEL_9dd27bd0e1564406e098a37aeefdb184",
        "IPY_MODEL_e37cb8fe879c4b65a59134b0ac820a11",
        "IPY_MODEL_2f6b1fa5ceb84066431ca86576fb02f5",
        "IPY_MODEL_974c57a644014314131b9c065130359b",
        "IPY_MODEL_1f9bbc209fa245b59c44910321dc832e",
        "IPY_MODEL_f4ae62ff69b64fa66288339b0007196d",
        "IPY_MODEL_8ce7b966ba574ee5b3473d4a33e9e19a",
        "IPY_MODEL_66a20ef3c91c476826066a00ddc96aff"
       ],
       "graph_layouts": [
        "IPY_MODEL_da7ac2081e62459c50a951e3aabff71f"
       ],
       "graph_style": "node { font-family: helvetica; font-size: 50px; label: data(label); }\n                            .top-left { text-valign: top; text-halign: left; }\n                            .top-center { text-valign: top; text-halign: center; }\n                            .top-right { text-valign: top; text-halign: right; }\n                            .center-left { text-valign: center; text-halign: left; }\n                            .center-center { text-valign: center; text-halign: center; }\n                            .center-right { text-valign: center; text-halign: right; }\n                            .bottom-left { text-valign: bottom; text-halign: left; }\n                            .bottom-center { text-valign: bottom; text-halign: center; }\n                            .bottom-right { text-valign: bottom; text-halign: right; }",
       "layout": "IPY_MODEL_b479b314db7141da67decd8e441b7f84",
       "pan": {
        "x": 89.50709219858163,
        "y": 24.72137791286727
       },
       "style": "IPY_MODEL_282312eafd8a44e24a0cebd5d877b631",
       "tooltip_source": "tooltip",
       "zoom": 0.8763931104356637
      }
     },
     "da7ac2081e62459c50a951e3aabff71f": {
      "model_module": "cytoscape-clj",
      "model_module_version": "^0.2.0",
      "model_name": "GridLayoutModel",
      "state": {
       "_model_module_version": "^0.2.0",
       "_view_module_version": "^0.2.0",
       "animate": true,
       "animation_duration": 250
      }
     },
     "e2ceb563409a4f8cd65cbd83b89243d9": {
      "model_module": "cytoscape-clj",
      "model_module_version": "^0.2.0",
      "model_name": "ElementModel",
      "state": {
       "_model_module_version": "^0.2.0",
       "_view_module_version": "^0.2.0",
       "classes": [
        "top-center"
       ],
       "data": {
        "label": "top center"
       },
       "position": {
        "x": 381.29999999999995,
        "y": 100
       }
      }
     },
     "e37cb8fe879c4b65a59134b0ac820a11": {
      "model_module": "cytoscape-clj",
      "model_module_version": "^0.2.0",
      "model_name": "ElementModel",
      "state": {
       "_model_module_version": "^0.2.0",
       "_view_module_version": "^0.2.0",
       "classes": [
        "top-right"
       ],
       "data": {
        "label": "top right"
       },
       "position": {
        "x": 635.5,
        "y": 100
       }
      }
     },
     "e4212dda9e7f4716a92661cb59aa5d46": {
      "model_module": "cytoscape-clj",
      "model_module_version": "^0.2.0",
      "model_name": "CytoscapeModel",
      "state": {
       "_model_module_version": "^0.2.0",
       "_view_module_version": "^0.2.0",
       "box_selection_enabled": true,
       "desktop_tap_threshold": 4,
       "elements": [
        "IPY_MODEL_9a194f2ad8a244f064f0e62f56fc46ac",
        "IPY_MODEL_e2ceb563409a4f8cd65cbd83b89243d9",
        "IPY_MODEL_7c9bc36120114c0aed52dc2af03cefed",
        "IPY_MODEL_3d8c0b341d8948823245e93c3dd53494",
        "IPY_MODEL_0c1e393ddd1848020b7ec7e3e5061291",
        "IPY_MODEL_04423b3422294ce7c7408422b316010c",
        "IPY_MODEL_e71064c9f14449481d1752ec8d069939",
        "IPY_MODEL_a3078804deb64c3852445220ff9aff26",
        "IPY_MODEL_022421deb4f844f915f57b376cc553aa"
       ],
       "graph_layouts": [
        "IPY_MODEL_2ec9398a3fba47089e30c4371417cea0"
       ],
       "graph_style": "node { font-family: helvetica; font-size: 20px; label: data(label); }\n                            .top-left { text-valign: top; text-halign: left; }\n                            .top-center { text-valign: top; text-halign: center; }\n                            .top-right { text-valign: top; text-halign: right; }\n                            .center-left { text-valign: center; text-halign: left; }\n                            .center-center { text-valign: center; text-halign: center; }\n                            .center-right { text-valign: center; text-halign: right; }\n                            .bottom-left { text-valign: bottom; text-halign: left; }\n                            .bottom-center { text-valign: bottom; text-halign: center; }\n                            .bottom-right { text-valign: bottom; text-halign: right; }",
       "layout": "IPY_MODEL_854d3cbd032c49b8bd12948144e7e9fe",
       "pan": {
        "x": -10.356345350720176,
        "y": -6.426318929515048
       },
       "style": "IPY_MODEL_68d45662130e4e641c4f6b720e29879f",
       "tooltip_source": "tooltip",
       "zoom": 1.0321315946475753
      }
     },
     "e6d90f8b651a43078bd7367a08409f12": {
      "model_module": "cytoscape-clj",
      "model_module_version": "^0.2.0",
      "model_name": "ElementModel",
      "state": {
       "_model_module_version": "^0.2.0",
       "_view_module_version": "^0.2.0",
       "classes": [
        "top-left"
       ],
       "data": {
        "label": "top left"
       },
       "position": {
        "x": 127.1,
        "y": 100
       }
      }
     },
     "e71064c9f14449481d1752ec8d069939": {
      "model_module": "cytoscape-clj",
      "model_module_version": "^0.2.0",
      "model_name": "ElementModel",
      "state": {
       "_model_module_version": "^0.2.0",
       "_view_module_version": "^0.2.0",
       "classes": [
        "bottom-left"
       ],
       "data": {
        "label": "bottom left"
       },
       "position": {
        "x": 381.29999999999995,
        "y": 300
       }
      }
     },
     "e99752f955214c761eb5a3d76f9c7dfd": {
      "model_module": "cytoscape-clj",
      "model_module_version": "^0.2.0",
      "model_name": "ElementModel",
      "state": {
       "_model_module_version": "^0.2.0",
       "_view_module_version": "^0.2.0",
       "classes": [
        "center-center"
       ],
       "data": {
        "label": "center center"
       },
       "position": {
        "x": 1143.8999999999999,
        "y": 100
       }
      }
     },
     "f4ae62ff69b64fa66288339b0007196d": {
      "model_module": "cytoscape-clj",
      "model_module_version": "^0.2.0",
      "model_name": "ElementModel",
      "state": {
       "_model_module_version": "^0.2.0",
       "_view_module_version": "^0.2.0",
       "classes": [
        "bottom-left"
       ],
       "data": {
        "label": "bottom left"
       },
       "position": {
        "x": 381.29999999999995,
        "y": 300
       }
      }
     },
     "f651f1dafd204499c9d007b92841356a": {
      "model_module": "cytoscape-clj",
      "model_module_version": "^0.2.0",
      "model_name": "GridLayoutModel",
      "state": {
       "_model_module_version": "^0.2.0",
       "_view_module_version": "^0.2.0",
       "animate": true,
       "animation_duration": 250
      }
     }
    },
    "version_major": 2,
    "version_minor": 0
   }
  }
 },
 "nbformat": 4,
 "nbformat_minor": 4
}
