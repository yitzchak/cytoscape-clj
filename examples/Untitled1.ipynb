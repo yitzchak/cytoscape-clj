{
 "cells": [
  {
   "cell_type": "code",
   "execution_count": 1,
   "metadata": {},
   "outputs": [
    {
     "data": {
      "text/plain": [
       "1"
      ]
     },
     "execution_count": 1,
     "metadata": {},
     "output_type": "execute_result"
    }
   ],
   "source": [
    "1"
   ]
  },
  {
   "cell_type": "code",
   "execution_count": null,
   "metadata": {},
   "outputs": [],
   "source": []
  }
 ],
 "metadata": {
  "kernelspec": {
   "display_name": "Common Lisp (SBCL)",
   "language": "common-lisp",
   "name": "common-lisp_sbcl"
  },
  "language_info": {
   "codemirror_mode": "text/x-common-lisp",
   "file_extension": ".lisp",
   "mimetype": "text/x-common-lisp",
   "name": "common-lisp",
   "pygments_lexer": "common-lisp",
   "version": "2.0.3"
  }
 },
 "nbformat": 4,
 "nbformat_minor": 4
}
