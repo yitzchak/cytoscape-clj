{
 "cells": [
  {
   "cell_type": "code",
   "execution_count": 3,
   "metadata": {},
   "outputs": [
    {
     "name": "stdout",
     "output_type": "stream",
     "text": [
      "To load \"cytoscape-clj\":\n",
      "  Load 1 ASDF system:\n",
      "    cytoscape-clj\n"
     ]
    },
    {
     "data": {
      "text/plain": [
       "(:CYTOSCAPE-CLJ)"
      ]
     },
     "execution_count": 3,
     "metadata": {},
     "output_type": "execute_result"
    },
    {
     "name": "stdout",
     "output_type": "stream",
     "text": [
      "; Loading \"cytoscape-clj\"\n",
      "\n"
     ]
    }
   ],
   "source": [
    "(ql:quickload :cytoscape-clj)"
   ]
  },
  {
   "cell_type": "code",
   "execution_count": null,
   "metadata": {},
   "outputs": [],
   "source": [
    "(defclass editor ()\n",
    "  ((stack\n",
    "     :accessor stack\n",
    "     :initform (make-array 32 :adjustable t :fill-pointer 0))\n",
    "   (stack-index\n",
    "     :accessor stack-index\n",
    "     :initform 0)\n",
    "   (cyto\n",
    "     :accessor cyto\n",
    "     :initform (cytoscape:make-cytoscape-widget\n",
    "                 :graph-layouts (list (cytoscape:make-cose-layout))\n",
    "                 :graph-style \"edge { target-arrow-shape: triangle; curve-style: bezier; }\"))\n",
    "   (undo-command\n",
    "     :accessor undo-command\n",
    "     :initform (cytoscape:make-menu-command\n",
    "                 :content \"<span class='fa fa-undo fa-2x'></span>\"))\n",
    "   (redo-command\n",
    "     :accessor redo-command\n",
    "     :initform (cytoscape:make-menu-command\n",
    "                 :content \"<span class='fa fa-redo fa-2x'></span>\"))\n",
    "   (add-node-command\n",
    "     :accessor add-node-command\n",
    "     :initform (cytoscape:make-menu-command\n",
    "                 :content \"<span class='fa fa-plus-circle fa-2x'></span>\"))\n",
    "   (add-edge-command\n",
    "     :accessor add-edge-command\n",
    "     :initform (cytoscape:make-menu-command\n",
    "                 :content \"<span class='fa fa-arrow-right fa-2x'></span>\"))\n",
    "   (delete-node-command\n",
    "     :accessor delete-node-command\n",
    "     :initform (cytoscape:make-menu-command\n",
    "                 :content \"<span class='fa fa-trash fa-2x'></span>\"))\n",
    "   (delete-edge-command\n",
    "     :accessor delete-edge-command\n",
    "     :initform (cytoscape:make-menu-command\n",
    "                 :content \"<span class='fa fa-trash fa-2x'></span>\"))\n",
    "   (delete-elements-command\n",
    "     :accessor delete-elements-command\n",
    "     :initform (cytoscape:make-menu-command\n",
    "                 :content \"<span class='fa fa-trash fa-2x'></span>\"))\n",
    "   (reverse-edge-command\n",
    "     :accessor reverse-edge-command\n",
    "     :initform (cytoscape:make-menu-command\n",
    "                 :content \"<span class='fa fa-exchange-alt fa-2x'></span>\"))\n",
    "   (edge-source\n",
    "     :accessor edge-source\n",
    "     :initform nil)))\n",
    "\n",
    "\n",
    "(defun update-commands (instance)\n",
    "  (with-slots (delete-elements-command undo-command redo-command stack-index stack cyto)\n",
    "              instance\n",
    "    (setf (cytoscape:enabled delete-elements-command) (some (lambda (element)\n",
    "                                                              (and (cytoscape:selected element)\n",
    "                                                                   (not (cytoscape:removed element))))\n",
    "                                                            (cytoscape:elements cyto)))\n",
    "    (setf (cytoscape:enabled undo-command) (< 0 stack-index))\n",
    "    (setf (cytoscape:enabled redo-command) (< stack-index (length stack)))))\n",
    "\n",
    "\n",
    "(defun undo (instance)\n",
    "  (with-slots (stack-index stack cyto)\n",
    "              instance\n",
    "    (when (< 0 stack-index)\n",
    "      (decf stack-index)\n",
    "      (dolist (element (cytoscape:elements cyto))\n",
    "        (let ((pair (assoc (gethash \"id\" (cytoscape:data element)) (elt stack stack-index) :test #'string=)))\n",
    "          (when pair\n",
    "            (setf (cytoscape:removed element) (cdr pair)))))\n",
    "      (update-commands instance))))\n",
    "\n",
    "\n",
    "(defun redo (instance)\n",
    "  (with-slots (stack-index stack cyto)\n",
    "              instance\n",
    "    (when (< stack-index (length stack))\n",
    "      (dolist (element (cytoscape:elements cyto))\n",
    "        (let ((pair (assoc (gethash \"id\" (cytoscape:data element)) (elt stack stack-index) :test #'string=)))\n",
    "          (when pair\n",
    "            (setf (cytoscape:removed element) (not (cdr pair))))))\n",
    "      (incf stack-index)\n",
    "      (update-commands instance))))\n",
    "\n",
    "\n",
    "(defun add-node (instance)\n",
    "  (with-slots (stack-index stack cyto)\n",
    "              instance\n",
    "    (let* ((new-id (jupyter:make-uuid))\n",
    "           (node (cytoscape:make-element\n",
    "                   :group \"nodes\"\n",
    "                   :data (j:make-object \"id\" new-id))))\n",
    "      (setf (fill-pointer stack) stack-index)\n",
    "      (vector-push-extend (list (cons new-id t)) stack)\n",
    "      (incf stack-index)\n",
    "      (jupyter-widgets:observe node :selected\n",
    "                               (lambda (inst name type old-value new-value source)\n",
    "                                 (declare (ignore inst name type old-value new-value source))\n",
    "                                 (update-commands instance)))\n",
    "      (setf (cytoscape:elements cyto)\n",
    "            (append (cytoscape:elements cyto)\n",
    "                    (list node))))\n",
    "    (update-commands instance)))\n",
    "\n",
    "\n",
    "(defun add-edge (instance id)\n",
    "  (with-slots (stack-index stack cyto edge-source)\n",
    "              instance\n",
    "    (if edge-source\n",
    "      (let* ((new-id (jupyter:make-uuid))\n",
    "             (edge (cytoscape:make-element\n",
    "                     :group \"edges\"\n",
    "                     :data (j:make-object \"id\" new-id\n",
    "                                          \"source\" edge-source\n",
    "                                          \"target\" id))))\n",
    "        (setf (fill-pointer stack) stack-index)\n",
    "        (vector-push-extend (list (cons new-id t)) stack)\n",
    "        (incf stack-index)\n",
    "        (jupyter-widgets:observe edge :selected\n",
    "                                 (lambda (inst name type old-value new-value source)\n",
    "                                   (declare (ignore inst name type old-value new-value source))\n",
    "                                   (update-commands instance)))\n",
    "        (setf (cytoscape:elements cyto)\n",
    "              (append (cytoscape:elements cyto)\n",
    "                      (list edge)))\n",
    "        (setf edge-source nil)\n",
    "        (update-commands instance))\n",
    "      (setf edge-source id))))\n",
    "\n",
    "\n",
    "(defun delete-node (instance id)\n",
    "  (with-slots (stack-index stack cyto)\n",
    "              instance\n",
    "    (setf (fill-pointer stack) stack-index)\n",
    "    (incf stack-index)\n",
    "    (let (actions)\n",
    "      (dolist (element (cytoscape:elements cyto))\n",
    "        (when (or (equal id (gethash \"id\" (cytoscape:data element)))\n",
    "                  (equal id (gethash \"source\" (cytoscape:data element)))\n",
    "                  (equal id (gethash \"target\" (cytoscape:data element))))\n",
    "          (push (cons (gethash \"id\" (cytoscape:data element)) nil) actions)\n",
    "          (setf (cytoscape:removed element) t)))\n",
    "      (vector-push-extend actions stack)\n",
    "      (update-commands instance))))\n",
    "\n",
    "\n",
    "(defun delete-edge (instance id)\n",
    "  (with-slots (stack-index stack cyto)\n",
    "              instance\n",
    "    (setf (fill-pointer stack) stack-index)\n",
    "    (vector-push-extend (list (cons id nil)) stack)\n",
    "    (incf stack-index)\n",
    "    (dolist (element (cytoscape:elements cyto))\n",
    "      (when (equal id (gethash \"id\" (cytoscape:data element)))\n",
    "        (setf (cytoscape:removed element) t)))\n",
    "    (update-commands instance)))\n",
    "\n",
    "\n",
    "(defun delete-elements (instance)\n",
    "  (with-slots (stack-index stack cyto)\n",
    "              instance\n",
    "    (setf (fill-pointer stack) stack-index)\n",
    "    (incf stack-index)\n",
    "    (let (actions nodes)\n",
    "      (dolist (element (cytoscape:elements cyto))\n",
    "        (when (cytoscape:selected element)\n",
    "          (push (cons (gethash \"id\" (cytoscape:data element)) nil) actions)\n",
    "          (setf (cytoscape:removed element) t)\n",
    "          (when (equal \"nodes\" (cytoscape:group element))\n",
    "            (push (gethash \"id\" (cytoscape:data element)) nodes))))\n",
    "      (dolist (element (cytoscape:elements cyto))\n",
    "        (when (or (member (gethash \"source\" (cytoscape:data element)) nodes :test #'equal)\n",
    "                  (member (gethash \"target\" (cytoscape:data element)) nodes :test #'equal))\n",
    "          (push (cons (gethash \"id\" (cytoscape:data element)) nil) actions)\n",
    "          (setf (cytoscape:removed element) t)))\n",
    "      (vector-push-extend actions stack)\n",
    "      (update-commands instance))))\n",
    "\n",
    "\n",
    "(defun reverse-edge (instance id)\n",
    "  (with-slots (stack-index stack cyto)\n",
    "              instance\n",
    "    (let ((new-id (jupyter:make-uuid)))\n",
    "      (setf (fill-pointer stack) stack-index)\n",
    "      (vector-push-extend (list (cons id nil) (cons new-id t)) stack)\n",
    "      (incf stack-index)\n",
    "      (dolist (element (cytoscape:elements cyto))\n",
    "        (when (equal id (gethash \"id\" (cytoscape:data element)))\n",
    "          (setf (cytoscape:removed element) nil)\n",
    "          (setf (cytoscape:elements cyto)\n",
    "                (append (cytoscape:elements cyto)\n",
    "                        (list (cytoscape:make-element :group \"edges\" :data (j:make-object \"id\" new-id\n",
    "                                                                                          \"source\" (gethash \"target\" (cytoscape:data element))\n",
    "                                                                                          \"target\" (gethash \"source\" (cytoscape:data element)))))))))\n",
    "      (update-commands instance))))\n",
    "\n",
    "\n",
    "(defmethod initialize-instance :after ((instance editor) &rest initargs &key &allow-other-keys)\n",
    "  (declare (ignore initargs))\n",
    "  (with-slots (undo-command redo-command add-node-command add-edge-command delete-node-command\n",
    "               delete-edge-command delete-elements-command reverse-edge-command cyto)\n",
    "              instance\n",
    "    (cytoscape:on-menu-command-select undo-command\n",
    "                                      (lambda (command-instance id)\n",
    "                                        (declare (ignore command-instance id))\n",
    "                                        (undo instance)))\n",
    "    (cytoscape:on-menu-command-select redo-command\n",
    "                                      (lambda (command-instance id)\n",
    "                                        (declare (ignore command-instance id))\n",
    "                                        (redo instance)))\n",
    "    (cytoscape:on-menu-command-select add-node-command\n",
    "                                      (lambda (command-instance id)\n",
    "                                        (declare (ignore command-instance id))\n",
    "                                        (add-node instance)))\n",
    "    (cytoscape:on-menu-command-select add-edge-command\n",
    "                                      (lambda (command-instance id)\n",
    "                                        (declare (ignore command-instance))\n",
    "                                        (add-edge instance id)))\n",
    "    (cytoscape:on-menu-command-select delete-node-command\n",
    "                                      (lambda (command-instance id)\n",
    "                                        (declare (ignore command-instance))\n",
    "                                        (delete-node instance id)))\n",
    "    (cytoscape:on-menu-command-select delete-edge-command\n",
    "                                      (lambda (command-instance id)\n",
    "                                        (declare (ignore command-instance))\n",
    "                                        (delete-edge instance id)))\n",
    "    (cytoscape:on-menu-command-select delete-elements-command\n",
    "                                      (lambda (command-instance id)\n",
    "                                        (declare (ignore command-instance id))\n",
    "                                        (delete-elements instance)))\n",
    "    (cytoscape:on-menu-command-select reverse-edge-command\n",
    "                                      (lambda (command-instance id)\n",
    "                                        (declare (ignore command-instance))\n",
    "                                        (reverse-edge instance id)))\n",
    "    (setf (cytoscape:context-menus cyto)\n",
    "          (list (cytoscape:make-context-menu\n",
    "                  :selector \"core\"\n",
    "                  :commands (list undo-command redo-command delete-elements-command add-node-command))\n",
    "                (cytoscape:make-context-menu\n",
    "                  :selector \"node\"\n",
    "                  :commands (list undo-command redo-command delete-node-command add-node-command add-edge-command))\n",
    "                (cytoscape:make-context-menu\n",
    "                  :selector \"edge\"\n",
    "                  :commands (list undo-command redo-command delete-edge-command add-node-command reverse-edge-command))))))\n",
    "\n",
    "(defparameter ce (make-instance 'editor))\n",
    "\n",
    "(cyto ce)"
   ]
  },
  {
   "cell_type": "code",
   "execution_count": null,
   "metadata": {},
   "outputs": [],
   "source": []
  }
 ],
 "metadata": {
  "kernelspec": {
   "display_name": "Common Lisp (SBCL)",
   "language": "common-lisp",
   "name": "common-lisp_sbcl"
  },
  "language_info": {
   "codemirror_mode": "text/x-common-lisp",
   "file_extension": ".lisp",
   "mimetype": "text/x-common-lisp",
   "name": "common-lisp",
   "pygments_lexer": "common-lisp",
   "version": "2.1.1"
  },
  "widgets": {
   "application/vnd.jupyter.widget-state+json": {
    "state": {
     "07690bdda7f947a6b5bb6a6f85843e6f": {
      "model_module": "cytoscape-clj",
      "model_module_version": "^0.2.7",
      "model_name": "CytoscapeModel",
      "state": {
       "_model_module_version": "^0.2.7",
       "_view_module_version": "^0.2.7",
       "box_selection_enabled": true,
       "context_menus": [
        "IPY_MODEL_e34c3d45b3344e25e793cfd53c6f2e25",
        "IPY_MODEL_b4b5928516ad4a031bd7a6177db36357",
        "IPY_MODEL_50b35b99576b4697b0f42711a4913b76"
       ],
       "desktop_tap_threshold": 4,
       "graph_layouts": [
        "IPY_MODEL_cec038c219e741f81484619102928ff2"
       ],
       "graph_style": "edge { target-arrow-shape: triangle; curve-style: bezier; }",
       "layout": "IPY_MODEL_7d0092b543114b1f4b648b4c12a31c52",
       "max_zoom": 9.999999999999999e+49,
       "min_zoom": 1.0000000000000001e-50,
       "pan": {
        "X": 0,
        "Y": 0
       },
       "style": "IPY_MODEL_32b82249f2be499aca87069678a42f84",
       "tooltip_source": "tooltip"
      }
     },
     "0d689bdc00e84cb94b29b15134997171": {
      "model_module": "cytoscape-clj",
      "model_module_version": "^0.2.7",
      "model_name": "MenuCommandModel",
      "state": {
       "_model_module_version": "^0.2.7",
       "_view_module_version": "^0.2.7",
       "content": "<span class='fa fa-exchange-alt fa-2x'></span>",
       "fill_color": []
      }
     },
     "0d6c4270d9d2470d75557f8fed16a737": {
      "model_module": "@jupyter-widgets/base",
      "model_module_version": "1.2.0",
      "model_name": "LayoutModel",
      "state": {}
     },
     "15a9d31b5c5d46a71f9fe903b8a460c8": {
      "model_module": "cytoscape-clj",
      "model_module_version": "^0.2.7",
      "model_name": "MenuCommandModel",
      "state": {
       "_model_module_version": "^0.2.7",
       "_view_module_version": "^0.2.7",
       "content": "<span class='fa fa-trash fa-2x'></span>",
       "fill_color": []
      }
     },
     "1bdaa3b25c804f92483482ea4e39a74b": {
      "model_module": "cytoscape-clj",
      "model_module_version": "^0.2.7",
      "model_name": "MenuCommandModel",
      "state": {
       "_model_module_version": "^0.2.7",
       "_view_module_version": "^0.2.7",
       "content": "<span class='fa fa-redo fa-2x'></span>",
       "fill_color": []
      }
     },
     "1ceb3fe1a81b4eb323b69056b45bd8c9": {
      "model_module": "cytoscape-clj",
      "model_module_version": "^0.2.7",
      "model_name": "MenuCommandModel",
      "state": {
       "_model_module_version": "^0.2.7",
       "_view_module_version": "^0.2.7",
       "content": "<span class='fa fa-arrow-right fa-2x'></span>",
       "fill_color": []
      }
     },
     "266ed2c8408c49e1c4a55745c43f17b9": {
      "model_module": "cytoscape-clj",
      "model_module_version": "^0.2.7",
      "model_name": "MenuCommandModel",
      "state": {
       "_model_module_version": "^0.2.7",
       "_view_module_version": "^0.2.7",
       "content": "<span class='fa fa-trash fa-2x'></span>",
       "fill_color": []
      }
     },
     "2bfe914c79314cd52b1a2859ffdf7628": {
      "model_module": "cytoscape-clj",
      "model_module_version": "^0.2.7",
      "model_name": "CytoscapeModel",
      "state": {
       "_model_module_version": "^0.2.7",
       "_view_module_version": "^0.2.7",
       "box_selection_enabled": true,
       "context_menus": [
        "IPY_MODEL_e50002c5fc3541d70ab8ab3f4ad80f7e",
        "IPY_MODEL_a81bb152e79348d1bc708e1008ed55a8",
        "IPY_MODEL_8eef9e32737c4fa2772827c7ba2876b9"
       ],
       "desktop_tap_threshold": 4,
       "graph_layouts": [
        "IPY_MODEL_6290651db9de485e1ef321484c8c2d76"
       ],
       "graph_style": "edge { target-arrow-shape: triangle; curve-style: bezier; }",
       "layout": "IPY_MODEL_0d6c4270d9d2470d75557f8fed16a737",
       "max_zoom": 9.999999999999999e+49,
       "min_zoom": 1.0000000000000001e-50,
       "pan": {
        "X": 0,
        "Y": 0
       },
       "style": "IPY_MODEL_55a593a381bc46c8e035121a59dba538",
       "tooltip_source": "tooltip"
      }
     },
     "3229e6c06dd147bff1a6a3ef7156ee87": {
      "model_module": "cytoscape-clj",
      "model_module_version": "^0.2.7",
      "model_name": "MenuCommandModel",
      "state": {
       "_model_module_version": "^0.2.7",
       "_view_module_version": "^0.2.7",
       "content": "<span class='fa fa-exchange-alt fa-2x'></span>",
       "fill_color": []
      }
     },
     "32b82249f2be499aca87069678a42f84": {
      "model_module": "cytoscape-clj",
      "model_module_version": "^0.2.7",
      "model_name": "CytoscapeStyleModel",
      "state": {
       "_model_module_version": "^0.2.7"
      }
     },
     "34b69166bab747d76f52a7b4eea97822": {
      "model_module": "cytoscape-clj",
      "model_module_version": "^0.2.7",
      "model_name": "MenuCommandModel",
      "state": {
       "_model_module_version": "^0.2.7",
       "_view_module_version": "^0.2.7",
       "content": "<span class='fa fa-trash fa-2x'></span>",
       "fill_color": []
      }
     },
     "4c298de597a04cfe91e786645e1e0e26": {
      "model_module": "cytoscape-clj",
      "model_module_version": "^0.2.7",
      "model_name": "MenuCommandModel",
      "state": {
       "_model_module_version": "^0.2.7",
       "_view_module_version": "^0.2.7",
       "content": "<span class='fa undo fa-2x'></span>",
       "fill_color": []
      }
     },
     "4ec02243b57f4c3797da3d81e658d436": {
      "model_module": "cytoscape-clj",
      "model_module_version": "^0.2.7",
      "model_name": "MenuCommandModel",
      "state": {
       "_model_module_version": "^0.2.7",
       "_view_module_version": "^0.2.7",
       "content": "<span class='fa fa-plus-circle fa-2x'></span>",
       "fill_color": []
      }
     },
     "50b35b99576b4697b0f42711a4913b76": {
      "model_module": "cytoscape-clj",
      "model_module_version": "^0.2.7",
      "model_name": "ContextMenuModel",
      "state": {
       "_model_module_version": "^0.2.7",
       "_view_module_version": "^0.2.7",
       "commands": [
        "IPY_MODEL_57d1b29581a7400abdfc7132a72dc196",
        "IPY_MODEL_1bdaa3b25c804f92483482ea4e39a74b",
        "IPY_MODEL_729e62ba8d694ad9e1dc62165cfb064c",
        "IPY_MODEL_adfa0d5284824a2c3323fe199e8e508f",
        "IPY_MODEL_3229e6c06dd147bff1a6a3ef7156ee87"
       ],
       "selector": "edge"
      }
     },
     "55a593a381bc46c8e035121a59dba538": {
      "model_module": "cytoscape-clj",
      "model_module_version": "^0.2.7",
      "model_name": "CytoscapeStyleModel",
      "state": {
       "_model_module_version": "^0.2.7"
      }
     },
     "57d1b29581a7400abdfc7132a72dc196": {
      "model_module": "cytoscape-clj",
      "model_module_version": "^0.2.7",
      "model_name": "MenuCommandModel",
      "state": {
       "_model_module_version": "^0.2.7",
       "_view_module_version": "^0.2.7",
       "content": "<span class='fa fa-undo fa-2x'></span>",
       "fill_color": []
      }
     },
     "6290651db9de485e1ef321484c8c2d76": {
      "model_module": "cytoscape-clj",
      "model_module_version": "^0.2.7",
      "model_name": "CoseLayoutModel",
      "state": {
       "_model_module_version": "^0.2.7",
       "_view_module_version": "^0.2.7",
       "animation_duration": 250,
       "refresh": 10
      }
     },
     "66a1bdfd05a94de43dd473674eab71e0": {
      "model_module": "cytoscape-clj",
      "model_module_version": "^0.2.7",
      "model_name": "MenuCommandModel",
      "state": {
       "_model_module_version": "^0.2.7",
       "_view_module_version": "^0.2.7",
       "content": "<span class='fa fa-trash fa-2x'></span>",
       "fill_color": []
      }
     },
     "6a127212de8340950a56c54f4b089b0f": {
      "model_module": "cytoscape-clj",
      "model_module_version": "^0.2.7",
      "model_name": "MenuCommandModel",
      "state": {
       "_model_module_version": "^0.2.7",
       "_view_module_version": "^0.2.7",
       "content": "<span class='fa fa-trash fa-2x'></span>",
       "fill_color": []
      }
     },
     "729e62ba8d694ad9e1dc62165cfb064c": {
      "model_module": "cytoscape-clj",
      "model_module_version": "^0.2.7",
      "model_name": "MenuCommandModel",
      "state": {
       "_model_module_version": "^0.2.7",
       "_view_module_version": "^0.2.7",
       "content": "<span class='fa fa-trash fa-2x'></span>",
       "fill_color": []
      }
     },
     "76a9f7501a2c422560870e3a8f94002d": {
      "model_module": "cytoscape-clj",
      "model_module_version": "^0.2.7",
      "model_name": "MenuCommandModel",
      "state": {
       "_model_module_version": "^0.2.7",
       "_view_module_version": "^0.2.7",
       "content": "<span class='fa fa-redo fa-2x'></span>",
       "fill_color": []
      }
     },
     "7d0092b543114b1f4b648b4c12a31c52": {
      "model_module": "@jupyter-widgets/base",
      "model_module_version": "1.2.0",
      "model_name": "LayoutModel",
      "state": {}
     },
     "8eef9e32737c4fa2772827c7ba2876b9": {
      "model_module": "cytoscape-clj",
      "model_module_version": "^0.2.7",
      "model_name": "ContextMenuModel",
      "state": {
       "_model_module_version": "^0.2.7",
       "_view_module_version": "^0.2.7",
       "commands": [
        "IPY_MODEL_4c298de597a04cfe91e786645e1e0e26",
        "IPY_MODEL_76a9f7501a2c422560870e3a8f94002d",
        "IPY_MODEL_6a127212de8340950a56c54f4b089b0f",
        "IPY_MODEL_4ec02243b57f4c3797da3d81e658d436",
        "IPY_MODEL_0d689bdc00e84cb94b29b15134997171"
       ],
       "selector": "edge"
      }
     },
     "a81bb152e79348d1bc708e1008ed55a8": {
      "model_module": "cytoscape-clj",
      "model_module_version": "^0.2.7",
      "model_name": "ContextMenuModel",
      "state": {
       "_model_module_version": "^0.2.7",
       "_view_module_version": "^0.2.7",
       "commands": [
        "IPY_MODEL_4c298de597a04cfe91e786645e1e0e26",
        "IPY_MODEL_76a9f7501a2c422560870e3a8f94002d",
        "IPY_MODEL_266ed2c8408c49e1c4a55745c43f17b9",
        "IPY_MODEL_4ec02243b57f4c3797da3d81e658d436",
        "IPY_MODEL_1ceb3fe1a81b4eb323b69056b45bd8c9"
       ]
      }
     },
     "adfa0d5284824a2c3323fe199e8e508f": {
      "model_module": "cytoscape-clj",
      "model_module_version": "^0.2.7",
      "model_name": "MenuCommandModel",
      "state": {
       "_model_module_version": "^0.2.7",
       "_view_module_version": "^0.2.7",
       "content": "<span class='fa fa-plus-circle fa-2x'></span>",
       "fill_color": []
      }
     },
     "b4b5928516ad4a031bd7a6177db36357": {
      "model_module": "cytoscape-clj",
      "model_module_version": "^0.2.7",
      "model_name": "ContextMenuModel",
      "state": {
       "_model_module_version": "^0.2.7",
       "_view_module_version": "^0.2.7",
       "commands": [
        "IPY_MODEL_57d1b29581a7400abdfc7132a72dc196",
        "IPY_MODEL_1bdaa3b25c804f92483482ea4e39a74b",
        "IPY_MODEL_15a9d31b5c5d46a71f9fe903b8a460c8",
        "IPY_MODEL_adfa0d5284824a2c3323fe199e8e508f",
        "IPY_MODEL_fe78d5edff094cbb7189e4fa91cfb6b9"
       ]
      }
     },
     "cec038c219e741f81484619102928ff2": {
      "model_module": "cytoscape-clj",
      "model_module_version": "^0.2.7",
      "model_name": "CoseLayoutModel",
      "state": {
       "_model_module_version": "^0.2.7",
       "_view_module_version": "^0.2.7",
       "animation_duration": 250,
       "refresh": 10
      }
     },
     "e34c3d45b3344e25e793cfd53c6f2e25": {
      "model_module": "cytoscape-clj",
      "model_module_version": "^0.2.7",
      "model_name": "ContextMenuModel",
      "state": {
       "_model_module_version": "^0.2.7",
       "_view_module_version": "^0.2.7",
       "commands": [
        "IPY_MODEL_57d1b29581a7400abdfc7132a72dc196",
        "IPY_MODEL_1bdaa3b25c804f92483482ea4e39a74b",
        "IPY_MODEL_66a1bdfd05a94de43dd473674eab71e0",
        "IPY_MODEL_adfa0d5284824a2c3323fe199e8e508f"
       ],
       "selector": "core"
      }
     },
     "e50002c5fc3541d70ab8ab3f4ad80f7e": {
      "model_module": "cytoscape-clj",
      "model_module_version": "^0.2.7",
      "model_name": "ContextMenuModel",
      "state": {
       "_model_module_version": "^0.2.7",
       "_view_module_version": "^0.2.7",
       "commands": [
        "IPY_MODEL_4c298de597a04cfe91e786645e1e0e26",
        "IPY_MODEL_76a9f7501a2c422560870e3a8f94002d",
        "IPY_MODEL_34b69166bab747d76f52a7b4eea97822",
        "IPY_MODEL_4ec02243b57f4c3797da3d81e658d436"
       ],
       "selector": "core"
      }
     },
     "fe78d5edff094cbb7189e4fa91cfb6b9": {
      "model_module": "cytoscape-clj",
      "model_module_version": "^0.2.7",
      "model_name": "MenuCommandModel",
      "state": {
       "_model_module_version": "^0.2.7",
       "_view_module_version": "^0.2.7",
       "content": "<span class='fa fa-arrow-right fa-2x'></span>",
       "fill_color": []
      }
     }
    },
    "version_major": 2,
    "version_minor": 0
   }
  }
 },
 "nbformat": 4,
 "nbformat_minor": 4
}
