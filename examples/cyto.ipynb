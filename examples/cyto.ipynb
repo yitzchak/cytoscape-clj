{
 "cells": [
  {
   "cell_type": "code",
   "execution_count": 1,
   "metadata": {},
   "outputs": [
    {
     "name": "stdout",
     "output_type": "stream",
     "text": [
      "To load \"cl-cytoscape\":\n",
      "  Load 1 ASDF system:\n",
      "    cl-cytoscape\n",
      "\n",
      "; Loading \"cl-cytoscape\"\n",
      "."
     ]
    },
    {
     "data": {
      "text/plain": [
       "(:CL-CYTOSCAPE)"
      ]
     },
     "execution_count": 1,
     "metadata": {},
     "output_type": "execute_result"
    },
    {
     "name": "stdout",
     "output_type": "stream",
     "text": [
      "\n"
     ]
    }
   ],
   "source": [
    "(ql:quickload :cl-cytoscape)"
   ]
  },
  {
   "cell_type": "code",
   "execution_count": 3,
   "metadata": {},
   "outputs": [
    {
     "data": {
      "text/plain": [
       "O"
      ]
     },
     "execution_count": 3,
     "metadata": {},
     "output_type": "execute_result"
    },
    {
     "data": {
      "text/plain": [
       "ON-SELECTION"
      ]
     },
     "execution_count": 3,
     "metadata": {},
     "output_type": "execute_result"
    },
    {
     "data": {
      "text/plain": [
       "C"
      ]
     },
     "execution_count": 3,
     "metadata": {},
     "output_type": "execute_result"
    },
    {
     "data": {
      "text/plain": [
       "NIL"
      ]
     },
     "execution_count": 3,
     "metadata": {},
     "output_type": "execute_result"
    },
    {
     "data": {
      "application/vnd.jupyter.widget-view+json": {
       "model_id": "37f45a664cb645de15cb59d7a59908dd",
       "version_major": 2,
       "version_minor": 0
      },
      "text/plain": [
       "A Jupyter Widget"
      ]
     },
     "metadata": {},
     "output_type": "display_data"
    },
    {
     "data": {
      "application/vnd.jupyter.widget-view+json": {
       "model_id": "ec8103170cf74fd52d084bc35e992479",
       "version_major": 2,
       "version_minor": 0
      },
      "text/plain": [
       "A Jupyter Widget"
      ]
     },
     "metadata": {},
     "output_type": "display_data"
    }
   ],
   "source": [
    "(defparameter o (make-instance 'jupyter-widgets:text-area))\n",
    "\n",
    "(defun on-selection (instance name type old-value new-value source)\n",
    "    (setf (jupyter-widgets:widget-value o)\n",
    "        (format nil \n",
    "                \"~A~&~:[Edge~;Node~] ~A ~:[deselected~;selected~].\" \n",
    "                (jupyter-widgets:widget-value o)\n",
    "                (string= \"nodes\" (cytoscape:group instance))\n",
    "                (cdr (assoc \"id\" (cytoscape:data instance) :test #'string=))\n",
    "                new-value)))\n",
    "\n",
    "(defparameter c (make-instance 'cytoscape:cytoscape-widget :cytoscape-layout '((\"name\" . \"cola\"))\n",
    "                         :elements (list (make-instance 'cytoscape:element :group \"nodes\" :data '((\"id\" . \"a\")))\n",
    "                                         (make-instance 'cytoscape:element :group \"nodes\" :data '((\"id\" . \"b\")))\n",
    "                                         (make-instance 'cytoscape:element :group \"edges\" :data '((\"id\" . \"ab\") (\"source\" . \"a\") (\"target\" . \"b\"))))))\n",
    "\n",
    "(dolist (instance (cytoscape:elements c))\n",
    "    (jupyter-widgets:observe instance :selected #'on-selection))\n",
    "\n",
    "c\n",
    "o"
   ]
  },
  {
   "cell_type": "code",
   "execution_count": null,
   "metadata": {},
   "outputs": [],
   "source": [
    "(setf (cytoscape:graph-layout c) '((\"name\" . \"dagre\")))"
   ]
  },
  {
   "cell_type": "code",
   "execution_count": 4,
   "metadata": {},
   "outputs": [
    {
     "data": {
      "text/plain": [
       "(#<CYTOSCAPE::CONTEXT-MENU>)"
      ]
     },
     "execution_count": 4,
     "metadata": {},
     "output_type": "execute_result"
    }
   ],
   "source": [
    "(setf (cytoscape::context-menus c) (list (make-instance 'cytoscape::context-menu :commands (list (make-instance 'cytoscape::menu-command :content \"fu\")))))"
   ]
  },
  {
   "cell_type": "code",
   "execution_count": null,
   "metadata": {},
   "outputs": [],
   "source": [
    "(defvar o (make-instance 'jupyter-widgets:output))\n",
    "(make-instance 'jupyter-widgets:v-box :children (list c o))"
   ]
  },
  {
   "cell_type": "code",
   "execution_count": null,
   "metadata": {},
   "outputs": [],
   "source": [
    "x"
   ]
  },
  {
   "cell_type": "code",
   "execution_count": null,
   "metadata": {},
   "outputs": [],
   "source": [
    "(dolist (node (cytoscape:nodes (cytoscape:graph c)))\n",
    "    (jupyter-widgets:observe node :selected\n",
    "      (lambda (node name type old-value new-value source)\n",
    "        (jupyter-widgets:with-output o\n",
    "          (format t \"Node ~A ~:[deselected~;selected~].\" (cdr (assoc \"id\" (cytoscape:data node) :test #'string=)) new-value)))))"
   ]
  },
  {
   "cell_type": "code",
   "execution_count": null,
   "metadata": {},
   "outputs": [],
   "source": [
    "(jupyter-widgets:with-output o (print 2))"
   ]
  },
  {
   "cell_type": "code",
   "execution_count": null,
   "metadata": {},
   "outputs": [],
   "source": [
    "(cytoscape:selected (car (cytoscape:nodes (cytoscape:graph c))))"
   ]
  },
  {
   "cell_type": "code",
   "execution_count": null,
   "metadata": {},
   "outputs": [],
   "source": [
    "(setf (cytoscape:box-selection-enabled c) t)"
   ]
  },
  {
   "cell_type": "code",
   "execution_count": null,
   "metadata": {},
   "outputs": [],
   "source": [
    "(setf (cytoscape:auto-unselectify c) nil)"
   ]
  },
  {
   "cell_type": "code",
   "execution_count": null,
   "metadata": {},
   "outputs": [],
   "source": []
  }
 ],
 "metadata": {
  "kernelspec": {
   "display_name": "Common Lisp (clasp)",
   "language": "common-lisp",
   "name": "common-lisp_clasp"
  },
  "language_info": {
   "codemirror_mode": "text/x-common-lisp",
   "file_extension": ".lisp",
   "mimetype": "text/x-common-lisp",
   "name": "common-lisp",
   "pygments_lexer": "common-lisp",
   "version": "cclasp-boehm-0.4.2-2694-g6630803ac-cst"
  },
  "widgets": {
   "application/vnd.jupyter.widget-state+json": {
    "state": {
     "085f6bf679e4492b9e3e77a29531f4bc": {
      "model_module": "cl-cytoscape",
      "model_module_version": "0.1.49",
      "model_name": "MenuCommandModel",
      "state": {
       "_model_module": "cl-cytoscape",
       "_model_module_version": "0.1.49",
       "_model_name": "MenuCommandModel",
       "_view_module": "cl-cytoscape",
       "_view_module_version": "0.1.49",
       "_view_name": "MenuCommandView",
       "content": "fu",
       "fill_color": []
      }
     },
     "0fe169cda0334f854e75c5d89b6ab12d": {
      "model_module": "@jupyter-widgets/controls",
      "model_module_version": "1.5.0",
      "model_name": "TextareaModel",
      "state": {
       "layout": "IPY_MODEL_6b45d055353d4c07cb38d9c15431d0f8",
       "style": "IPY_MODEL_c0081c7724c5433fb31297d888ade721"
      }
     },
     "19f0303221d1493be61a5f3b16da28d0": {
      "model_module": "cl-cytoscape",
      "model_module_version": "0.1.49",
      "model_name": "ElementModel",
      "state": {
       "data": {
        "id": "a"
       },
       "group": "nodes"
      }
     },
     "29980b3a86614ac392b77554f12358ad": {
      "model_module": "cl-cytoscape",
      "model_module_version": "0.1.49",
      "model_name": "CytoscapeModel",
      "state": {
       "box_selection_enabled": true,
       "context_menus": [
        "IPY_MODEL_7e252adfd1b14e2ff89790e4bc25feae"
       ],
       "desktop_tap_threshold": 4,
       "elements": [
        "IPY_MODEL_7dedd76ef6644648ce4ab16e33931509",
        "IPY_MODEL_de04a3507a28487b3ac71a5e23688dbd",
        "IPY_MODEL_2bc79399c2704d5327c065e073904ee6"
       ],
       "graph_layout": {
        "name": "dagre"
       },
       "layout": "IPY_MODEL_6069831e72e04a4559533b9bbc991847",
       "max_zoom": 9.999999999999999e+49,
       "min_zoom": 1.0000000000000001e-50,
       "tooltip_source": "tooltip",
       "zoom": 2
      }
     },
     "2bc79399c2704d5327c065e073904ee6": {
      "model_module": "cl-cytoscape",
      "model_module_version": "0.1.49",
      "model_name": "ElementModel",
      "state": {
       "data": {
        "id": "ab",
        "source": "a",
        "target": "b"
       },
       "group": "edges"
      }
     },
     "6069831e72e04a4559533b9bbc991847": {
      "model_module": "@jupyter-widgets/base",
      "model_module_version": "1.2.0",
      "model_name": "LayoutModel",
      "state": {}
     },
     "6b45d055353d4c07cb38d9c15431d0f8": {
      "model_module": "@jupyter-widgets/base",
      "model_module_version": "1.2.0",
      "model_name": "LayoutModel",
      "state": {}
     },
     "7dedd76ef6644648ce4ab16e33931509": {
      "model_module": "cl-cytoscape",
      "model_module_version": "0.1.49",
      "model_name": "ElementModel",
      "state": {
       "data": {
        "id": "a"
       },
       "group": "nodes",
       "position": {
        "x": 15,
        "y": 15
       }
      }
     },
     "7e252adfd1b14e2ff89790e4bc25feae": {
      "model_module": "cl-cytoscape",
      "model_module_version": "0.1.49",
      "model_name": "ContextMenuModel",
      "state": {
       "_model_module": "cl-cytoscape",
       "_model_module_version": "0.1.49",
       "_model_name": "ContextMenuModel",
       "_view_module": "cl-cytoscape",
       "_view_module_version": "0.1.49",
       "_view_name": "ContextMenuView",
       "commands": [
        "IPY_MODEL_085f6bf679e4492b9e3e77a29531f4bc"
       ]
      }
     },
     "96026a250eb44d7683673f20e6baf68f": {
      "model_module": "@jupyter-widgets/controls",
      "model_module_version": "1.5.0",
      "model_name": "DescriptionStyleModel",
      "state": {}
     },
     "ada89d9ce20348cc8fd2d84a5ff20318": {
      "model_module": "@jupyter-widgets/controls",
      "model_module_version": "1.5.0",
      "model_name": "TextareaModel",
      "state": {
       "layout": "IPY_MODEL_c93ddf6d526a4b5d8c04a72328590164",
       "style": "IPY_MODEL_96026a250eb44d7683673f20e6baf68f",
       "value": "Node b selected.\nNode b deselected.\nEdge ab selected.\nEdge ab deselected.\nNode a selected.\nNode a deselected.\nEdge ab selected.\nEdge ab deselected.\nNode b selected."
      }
     },
     "c0081c7724c5433fb31297d888ade721": {
      "model_module": "@jupyter-widgets/controls",
      "model_module_version": "1.5.0",
      "model_name": "DescriptionStyleModel",
      "state": {}
     },
     "c93ddf6d526a4b5d8c04a72328590164": {
      "model_module": "@jupyter-widgets/base",
      "model_module_version": "1.2.0",
      "model_name": "LayoutModel",
      "state": {}
     },
     "de04a3507a28487b3ac71a5e23688dbd": {
      "model_module": "cl-cytoscape",
      "model_module_version": "0.1.49",
      "model_name": "ElementModel",
      "state": {
       "data": {
        "id": "b"
       },
       "group": "nodes",
       "position": {
        "x": 15,
        "y": 95
       },
       "selected": true
      }
     }
    },
    "version_major": 2,
    "version_minor": 0
   }
  }
 },
 "nbformat": 4,
 "nbformat_minor": 4
}
