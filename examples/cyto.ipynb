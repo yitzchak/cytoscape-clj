{
 "cells": [
  {
   "cell_type": "code",
   "execution_count": null,
   "metadata": {},
   "outputs": [],
   "source": [
    "(ql:quickload :cytoscape-clj)"
   ]
  },
  {
   "cell_type": "code",
   "execution_count": null,
   "metadata": {},
   "outputs": [],
   "source": [
    "(defparameter o (jw:make-text-area))\n",
    "\n",
    "(defun on-selection (instance name type old-value new-value source)\n",
    "  (setf (jupyter-widgets:widget-value o)\n",
    "        (format nil\n",
    "                \"~A~&~:[Edge~;Node~] ~A ~:[deselected~;selected~].\"\n",
    "                (jupyter-widgets:widget-value o)\n",
    "                (string= \"nodes\" (cytoscape:group instance))\n",
    "                (gethash \"id\" (cytoscape:data instance))\n",
    "                new-value)))\n",
    "\n",
    "(defparameter c (cytoscape:make-cytoscape-widget :graph-layouts (list (cytoscape:make-cose-layout))\n",
    "                                                 :elements (list (cytoscape:make-element :group \"nodes\" :data (j:make-object \"id\" \"a\"))\n",
    "                                                                 (cytoscape:make-element :group \"nodes\" :data (j:make-object \"id\" \"b\"))\n",
    "                                                                 (cytoscape:make-element :group \"edges\" :data (j:make-object \"id\" \"ab\"\n",
    "                                                                                                                             \"source\" \"a\"\n",
    "                                                                                                                             \"target\" \"b\")))))\n",
    "\n",
    "(dolist (instance (cytoscape:elements c))\n",
    "  (jupyter-widgets:observe instance :selected #'on-selection))\n",
    "\n",
    "c\n",
    "o"
   ]
  },
  {
   "cell_type": "code",
   "execution_count": null,
   "metadata": {},
   "outputs": [],
   "source": [
    "(cytoscape:elements c)"
   ]
  },
  {
   "cell_type": "code",
   "execution_count": null,
   "metadata": {},
   "outputs": [],
   "source": [
    "(cytoscape:layout c)"
   ]
  },
  {
   "cell_type": "code",
   "execution_count": null,
   "metadata": {},
   "outputs": [],
   "source": [
    "(cytoscape:make-cytoscape-widget\n",
    "  :box-selection-enabled nil\n",
    "  :auto-unselectify t\n",
    "  :layout (make-instance 'jw:layout :height \"640px\")\n",
    "  :graph-layouts (list (cytoscape:make-breadth-first-layout :directed t :padding 10))\n",
    "  :elements (list (cytoscape:make-element :group \"nodes\" :data (j:make-object \"id\" \"cat\"))\n",
    "                  (cytoscape:make-element :group \"nodes\" :data (j:make-object \"id\" \"bird\"))\n",
    "                  (cytoscape:make-element :group \"nodes\" :data (j:make-object \"id\" \"ladybug\"))\n",
    "                  (cytoscape:make-element :group \"nodes\" :data (j:make-object \"id\" \"aphid\"))\n",
    "                  (cytoscape:make-element :group \"nodes\" :data (j:make-object \"id\" \"rose\"))\n",
    "                  (cytoscape:make-element :group \"nodes\" :data (j:make-object \"id\" \"grasshopper\"))\n",
    "                  (cytoscape:make-element :group \"nodes\" :data (j:make-object \"id\" \"plant\"))\n",
    "                  (cytoscape:make-element :group \"nodes\" :data (j:make-object \"id\" \"wheat\"))\n",
    "                  (cytoscape:make-element :group \"edges\" :data (j:make-object \"source\" \"cat\"\n",
    "                                                                              \"target\" \"bird\"))\n",
    "                  (cytoscape:make-element :group \"edges\" :data (j:make-object \"source\" \"bird\"\n",
    "                                                                              \"target\" \"ladybug\"))\n",
    "                  (cytoscape:make-element :group \"edges\" :data (j:make-object \"source\" \"bird\"\n",
    "                                                                              \"target\" \"grasshopper\"))\n",
    "                  (cytoscape:make-element :group \"edges\" :data (j:make-object \"source\" \"grasshopper\"\n",
    "                                                                              \"target\" \"plant\"))\n",
    "                  (cytoscape:make-element :group \"edges\" :data (j:make-object \"source\" \"grasshopper\"\n",
    "                                                                              \"target\" \"wheat\"))\n",
    "                  (cytoscape:make-element :group \"edges\" :data (j:make-object \"source\" \"ladybug\"\n",
    "                                                                              \"target\" \"aphid\"))\n",
    "                  (cytoscape:make-element :group \"edges\" :data (j:make-object \"source\" \"aphid\"\n",
    "                                                                              \"target\" \"rose\")))\n",
    "  :graph-style \"node {\n",
    "                  height: 80;\n",
    "                  width: 80;\n",
    "                  background-fit: cover;\n",
    "                  border-color: #000;\n",
    "                  border-width: 3;\n",
    "                  border-opacity: 0.5;\n",
    "                }\n",
    "                .eating {\n",
    "                  border-color: red;\n",
    "                }\n",
    "                .eater {\n",
    "                  border-width: 9;\n",
    "                }\n",
    "                edge {\n",
    "                  curve-style: bezier;\n",
    "                  width: 6;\n",
    "                  target-arrow-shape: triangle;\n",
    "                  line-color: #ffaaaa;\n",
    "                  target-arrow-color: #ffaaaa;\n",
    "                }\n",
    "                #bird {\n",
    "                  background-image: https://live.staticflickr.com/7272/7633179468_3e19e45a0c_b.jpg;\n",
    "                }\n",
    "                #cat {\n",
    "                  background-image: https://live.staticflickr.com/1261/1413379559_412a540d29_b.jpg;\n",
    "                }\n",
    "                #ladybug {\n",
    "                  background-image: https://live.staticflickr.com/3063/2751740612_af11fb090b_b.jpg;\n",
    "                }\n",
    "                #aphid {\n",
    "                  background-image: https://live.staticflickr.com/8316/8003798443_32d01257c8_b.jpg;\n",
    "                }\n",
    "                #rose {\n",
    "                  background-image: https://live.staticflickr.com/5109/5817854163_eaccd688f5_b.jpg;\n",
    "                }\n",
    "                #grasshopper {\n",
    "                  background-image: https://live.staticflickr.com/6098/6224655456_f4c3c98589_b.jpg;\n",
    "                }\n",
    "                #plant {\n",
    "                  background-image: https://live.staticflickr.com/3866/14420309584_78bf471658_b.jpg;\n",
    "                }\n",
    "                #wheat {\n",
    "                  background-image: https://live.staticflickr.com/2660/3715569167_7e978e8319_b.jpg;\n",
    "                }\")"
   ]
  },
  {
   "cell_type": "code",
   "execution_count": null,
   "metadata": {},
   "outputs": [],
   "source": []
  }
 ],
 "metadata": {
  "kernelspec": {
   "display_name": "Common Lisp (SBCL)",
   "language": "common-lisp",
   "name": "common-lisp_sbcl"
  },
  "language_info": {
   "codemirror_mode": "text/x-common-lisp",
   "file_extension": ".lisp",
   "mimetype": "text/x-common-lisp",
   "name": "common-lisp",
   "pygments_lexer": "common-lisp",
   "version": "2.1.1"
  },
  "widgets": {
   "application/vnd.jupyter.widget-state+json": {
    "state": {
     "06cb22fdb99846c00f3ed395c07d6673": {
      "model_module": "@jupyter-widgets/base",
      "model_module_version": "1.2.0",
      "model_name": "LayoutModel",
      "state": {}
     },
     "091e0bb35505490ec139c0e90fed98ec": {
      "model_module": "@jupyter-widgets/base",
      "model_module_version": "1.2.0",
      "model_name": "LayoutModel",
      "state": {}
     },
     "2992612fab3741cf8e9c0f0919e2cb8c": {
      "model_module": "@jupyter-widgets/controls",
      "model_module_version": "1.5.0",
      "model_name": "TextareaModel",
      "state": {
       "layout": "IPY_MODEL_06cb22fdb99846c00f3ed395c07d6673",
       "style": "IPY_MODEL_30639a2b859849ad97e682e9d2eb82bd",
       "value": "Node b selected.\nNode b deselected.\nEdge ab selected.\nEdge ab deselected.\nNode a selected."
      }
     },
     "30639a2b859849ad97e682e9d2eb82bd": {
      "model_module": "@jupyter-widgets/controls",
      "model_module_version": "1.5.0",
      "model_name": "DescriptionStyleModel",
      "state": {}
     },
     "32f750a2399247ae95b318d0240f801c": {
      "model_module": "cytoscape-clj",
      "model_module_version": "^0.2.3",
      "model_name": "CoseLayoutModel",
      "state": {
       "_model_module_version": "^0.2.3",
       "_view_module_version": "^0.2.3",
       "animation_duration": 250,
       "refresh": 10
      }
     },
     "4bf8416943ac4eff3271ce41f47b2130": {
      "model_module": "cytoscape-clj",
      "model_module_version": "^0.2.3",
      "model_name": "ElementModel",
      "state": {
       "_model_module_version": "^0.2.3",
       "_view_module_version": "^0.2.3",
       "data": {
        "id": "ab",
        "source": "a",
        "target": "b"
       },
       "group": "edges"
      }
     },
     "8968f596fa934cb73e268a252d79f7c2": {
      "model_module": "cytoscape-clj",
      "model_module_version": "^0.2.3",
      "model_name": "CytoscapeModel",
      "state": {
       "_model_module_version": "^0.2.3",
       "_view_module_version": "^0.2.3",
       "box_selection_enabled": true,
       "desktop_tap_threshold": 4,
       "elements": [
        "IPY_MODEL_f8298b7b4dab483125fa9c114a47a30c",
        "IPY_MODEL_a66fd023463e458a0d9918385b6504c0",
        "IPY_MODEL_4bf8416943ac4eff3271ce41f47b2130"
       ],
       "graph_layouts": [
        "IPY_MODEL_32f750a2399247ae95b318d0240f801c"
       ],
       "layout": "IPY_MODEL_091e0bb35505490ec139c0e90fed98ec",
       "max_zoom": 9.999999999999999e+49,
       "min_zoom": 1.0000000000000001e-50,
       "pan": {
        "x": 249.29845955051528,
        "y": 33.645867395679545
       },
       "style": "IPY_MODEL_fa1d18fa51ae4efb7d07506dfe6604a3",
       "tooltip_source": "tooltip",
       "zoom": 3.64586739567953
      }
     },
     "a66fd023463e458a0d9918385b6504c0": {
      "model_module": "cytoscape-clj",
      "model_module_version": "^0.2.3",
      "model_name": "ElementModel",
      "state": {
       "_model_module_version": "^0.2.3",
       "_view_module_version": "^0.2.3",
       "data": {
        "id": "b"
       },
       "position": {
        "x": 15,
        "y": 15
       }
      }
     },
     "f8298b7b4dab483125fa9c114a47a30c": {
      "model_module": "cytoscape-clj",
      "model_module_version": "^0.2.3",
      "model_name": "ElementModel",
      "state": {
       "_model_module_version": "^0.2.3",
       "_view_module_version": "^0.2.3",
       "data": {
        "id": "a"
       },
       "position": {
        "x": 74.52686575649119,
        "y": 76.25627158105391
       },
       "selected": true
      }
     },
     "fa1d18fa51ae4efb7d07506dfe6604a3": {
      "model_module": "cytoscape-clj",
      "model_module_version": "^0.2.3",
      "model_name": "CytoscapeStyleModel",
      "state": {
       "_model_module_version": "^0.2.3"
      }
     }
    },
    "version_major": 2,
    "version_minor": 0
   }
  }
 },
 "nbformat": 4,
 "nbformat_minor": 4
}
