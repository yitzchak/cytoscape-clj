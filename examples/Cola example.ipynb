{
 "cells": [
  {
   "cell_type": "code",
   "execution_count": null,
   "metadata": {},
   "outputs": [],
   "source": [
    "(ql:quickload :cytoscape-clj)"
   ]
  },
  {
   "cell_type": "code",
   "execution_count": null,
   "metadata": {},
   "outputs": [],
   "source": [
    "(defparameter c (cytoscape:make-cytoscape-widget :graph-layouts (list (make-instance 'cytoscape:cola-layout))))\n",
    "\n",
    "(cytoscape:add-graph c (shasht:read-json (alexandria:read-file-into-string \"colaData.json\")))\n",
    "\n",
    "(j:display c)"
   ]
  },
  {
   "cell_type": "code",
   "execution_count": null,
   "metadata": {},
   "outputs": [],
   "source": []
  }
 ],
 "metadata": {
  "kernelspec": {
   "display_name": "Common Lisp (SBCL)",
   "language": "common-lisp",
   "name": "common-lisp_sbcl"
  },
  "language_info": {
   "codemirror_mode": "text/x-common-lisp",
   "file_extension": ".lisp",
   "mimetype": "text/x-common-lisp",
   "name": "common-lisp",
   "pygments_lexer": "common-lisp",
   "version": "2.1.1"
  },
  "widgets": {
   "application/vnd.jupyter.widget-state+json": {
    "state": {
     "00e98317bba64a32188714e8ca29e673": {
      "model_module": "cytoscape-clj",
      "model_module_version": "^0.2.7",
      "model_name": "ElementModel",
      "state": {
       "_model_module_version": "^0.2.7",
       "_view_module_version": "^0.2.7",
       "data": {
        "id": "95",
        "label": "P"
       },
       "position": {
        "x": 354.06490856852133,
        "y": -0.6664595356235239
       }
      }
     },
     "0256434201bc486d5118abb485292801": {
      "model_module": "cytoscape-clj",
      "model_module_version": "^0.2.7",
      "model_name": "ElementModel",
      "state": {
       "_model_module_version": "^0.2.7",
       "_view_module_version": "^0.2.7",
       "data": {
        "source": "130",
        "target": "164"
       },
       "group": "edges"
      }
     },
     "067b68f76a7c440c6358ddbbe534c058": {
      "model_module": "cytoscape-clj",
      "model_module_version": "^0.2.7",
      "model_name": "ElementModel",
      "state": {
       "_model_module_version": "^0.2.7",
       "_view_module_version": "^0.2.7",
       "data": {
        "source": "80",
        "target": "76"
       },
       "group": "edges"
      }
     },
     "06a04b524e2640a1ecb646099caf4194": {
      "model_module": "cytoscape-clj",
      "model_module_version": "^0.2.7",
      "model_name": "ElementModel",
      "state": {
       "_model_module_version": "^0.2.7",
       "_view_module_version": "^0.2.7",
       "data": {
        "source": "178",
        "target": "189"
       },
       "group": "edges"
      }
     },
     "079b502f6cb8409e687f419478b78d88": {
      "model_module": "cytoscape-clj",
      "model_module_version": "^0.2.7",
      "model_name": "ElementModel",
      "state": {
       "_model_module_version": "^0.2.7",
       "_view_module_version": "^0.2.7",
       "data": {
        "source": "95",
        "target": "89"
       },
       "group": "edges"
      }
     },
     "082b4f16e9bf4c42672f13d270b1b515": {
      "model_module": "cytoscape-clj",
      "model_module_version": "^0.2.7",
      "model_name": "ElementModel",
      "state": {
       "_model_module_version": "^0.2.7",
       "_view_module_version": "^0.2.7",
       "data": {
        "id": "71",
        "label": "UTP"
       },
       "position": {
        "x": 199.22227343391842,
        "y": 0.346471254342017
       }
      }
     },
     "0d46795c9af547f06521fa3e0e4ecb6c": {
      "model_module": "cytoscape-clj",
      "model_module_version": "^0.2.7",
      "model_name": "ElementModel",
      "state": {
       "_model_module_version": "^0.2.7",
       "_view_module_version": "^0.2.7",
       "data": {
        "source": "52",
        "target": "12"
       },
       "group": "edges"
      }
     },
     "0d6d02fbac91497cdbf123851b218b7f": {
      "model_module": "cytoscape-clj",
      "model_module_version": "^0.2.7",
      "model_name": "ElementModel",
      "state": {
       "_model_module_version": "^0.2.7",
       "_view_module_version": "^0.2.7",
       "data": {
        "id": "103",
        "label": "P"
       },
       "position": {
        "x": 304.0649075685214,
        "y": -13.124417204222707
       }
      }
     },
     "138582c841da4bf71fb51c62c3f806ff": {
      "model_module": "cytoscape-clj",
      "model_module_version": "^0.2.7",
      "model_name": "CytoscapeStyleModel",
      "state": {
       "_model_module_version": "^0.2.7"
      }
     },
     "13955acff4354f546d0407e0dfa5102a": {
      "model_module": "cytoscape-clj",
      "model_module_version": "^0.2.7",
      "model_name": "ElementModel",
      "state": {
       "_model_module_version": "^0.2.7",
       "_view_module_version": "^0.2.7",
       "data": {
        "id": "22",
        "label": "glucose 6-phosphate"
       },
       "position": {
        "x": -253.22535328514724,
        "y": -39.71589119925059
       }
      }
     },
     "1ac1f346f7d44cb330dd6965b91da037": {
      "model_module": "cytoscape-clj",
      "model_module_version": "^0.2.7",
      "model_name": "ElementModel",
      "state": {
       "_model_module_version": "^0.2.7",
       "_view_module_version": "^0.2.7",
       "data": {
        "source": "28",
        "target": "30"
       },
       "group": "edges"
      }
     },
     "1f4b2b98106b4125c76deb3cd2b4ea25": {
      "model_module": "cytoscape-clj",
      "model_module_version": "^0.2.7",
      "model_name": "ElementModel",
      "state": {
       "_model_module_version": "^0.2.7",
       "_view_module_version": "^0.2.7",
       "data": {
        "id": "52",
        "label": "ATP"
       },
       "position": {
        "x": 199.22227343391842,
        "y": 50.34647225434202
       }
      }
     },
     "23de089671064172c942c51519089463": {
      "model_module": "cytoscape-clj",
      "model_module_version": "^0.2.7",
      "model_name": "ElementModel",
      "state": {
       "_model_module_version": "^0.2.7",
       "_view_module_version": "^0.2.7",
       "data": {
        "source": "38",
        "target": "41"
       },
       "group": "edges"
      }
     },
     "283bc2b37c6849934afebf511eff08f4": {
      "model_module": "cytoscape-clj",
      "model_module_version": "^0.2.7",
      "model_name": "ElementModel",
      "state": {
       "_model_module_version": "^0.2.7",
       "_view_module_version": "^0.2.7",
       "data": {
        "id": "104",
        "label": "G6P transporter"
       },
       "position": {
        "x": -150.77773356608157,
        "y": -93.30906089996965
       }
      }
     },
     "2a4cc921bdab4e869ad3f49b1d05646f": {
      "model_module": "cytoscape-clj",
      "model_module_version": "^0.2.7",
      "model_name": "ElementModel",
      "state": {
       "_model_module_version": "^0.2.7",
       "_view_module_version": "^0.2.7",
       "data": {
        "id": "80",
        "label": "glucose 1-phosphate"
       },
       "position": {
        "x": -100.77773256608157,
        "y": -43.31997268940636
       }
      }
     },
     "2b0b068f6490460a79e55bf2ea1b42ac": {
      "model_module": "cytoscape-clj",
      "model_module_version": "^0.2.7",
      "model_name": "ElementModel",
      "state": {
       "_model_module_version": "^0.2.7",
       "_view_module_version": "^0.2.7",
       "data": {
        "id": "44",
        "label": "fructose 6-phosphate"
       },
       "position": {
        "x": -206.03714386198155,
        "y": 41.30125870523863
       }
      }
     },
     "2b4ed9a90fc549dfa90dcdbc3595d0cd": {
      "model_module": "cytoscape-clj",
      "model_module_version": "^0.2.7",
      "model_name": "ElementModel",
      "state": {
       "_model_module_version": "^0.2.7",
       "_view_module_version": "^0.2.7",
       "data": {
        "id": "166",
        "label": "ADP"
       },
       "position": {
        "x": -311.0362620716048,
        "y": 62.76391123656631
       }
      }
     },
     "2c18a94bf41d4b1756805803eb37d84b": {
      "model_module": "cytoscape-clj",
      "model_module_version": "^0.2.7",
      "model_name": "ElementModel",
      "state": {
       "_model_module_version": "^0.2.7",
       "_view_module_version": "^0.2.7",
       "data": {
        "source": "30",
        "target": "22"
       },
       "group": "edges"
      }
     },
     "2e18c519e42942edb2ccfe426c6e76b7": {
      "model_module": "cytoscape-clj",
      "model_module_version": "^0.2.7",
      "model_name": "ElementModel",
      "state": {
       "_model_module_version": "^0.2.7",
       "_view_module_version": "^0.2.7",
       "data": {
        "source": "149",
        "target": "156"
       },
       "group": "edges"
      }
     },
     "3523882b13614f5fc0590b5636fdf0db": {
      "model_module": "cytoscape-clj",
      "model_module_version": "^0.2.7",
      "model_name": "ElementModel",
      "state": {
       "_model_module_version": "^0.2.7",
       "_view_module_version": "^0.2.7",
       "data": {
        "id": "158",
        "label": "P"
       },
       "position": {
        "x": 99.22227143391842,
        "y": 11.246665203084888
       }
      }
     },
     "35f54e535bc447f1d54c30f4582f2119": {
      "model_module": "cytoscape-clj",
      "model_module_version": "^0.2.7",
      "model_name": "ElementModel",
      "state": {
       "_model_module_version": "^0.2.7",
       "_view_module_version": "^0.2.7",
       "data": {
        "id": "172",
        "label": "starch"
       },
       "position": {
        "x": -103.22535028514726,
        "y": 56.690942100030334
       }
      }
     },
     "37e238c0f66d49d33f51c276e4f11943": {
      "model_module": "cytoscape-clj",
      "model_module_version": "^0.2.7",
      "model_name": "ElementModel",
      "state": {
       "_model_module_version": "^0.2.7",
       "_view_module_version": "^0.2.7",
       "data": {
        "id": "30",
        "label": "hexokinase"
       },
       "position": {
        "x": 49.222270433918425,
        "y": -22.231178757510104
       }
      }
     },
     "3bd205f5aed54f63b80e0dce6c1cbcf2": {
      "model_module": "cytoscape-clj",
      "model_module_version": "^0.2.7",
      "model_name": "ElementModel",
      "state": {
       "_model_module_version": "^0.2.7",
       "_view_module_version": "^0.2.7",
       "data": {
        "source": "30",
        "target": "47"
       },
       "group": "edges"
      }
     },
     "3ca1330aa4a14173f36b9dd6faced7a0": {
      "model_module": "cytoscape-clj",
      "model_module_version": "^0.2.7",
      "model_name": "ElementModel",
      "state": {
       "_model_module_version": "^0.2.7",
       "_view_module_version": "^0.2.7",
       "data": {
        "id": "46",
        "label": "ATP"
       },
       "position": {
        "x": -200.77773456608156,
        "y": -58.69874329476136
       }
      }
     },
     "3d819370023646d1a3242926659bee76": {
      "model_module": "cytoscape-clj",
      "model_module_version": "^0.2.7",
      "model_name": "ElementModel",
      "state": {
       "_model_module_version": "^0.2.7",
       "_view_module_version": "^0.2.7",
       "data": {
        "source": "38",
        "target": "4"
       },
       "group": "edges"
      }
     },
     "3e7a1823081f45b9dff8cbe5539fca24": {
      "model_module": "cytoscape-clj",
      "model_module_version": "^0.2.7",
      "model_name": "ElementModel",
      "state": {
       "_model_module_version": "^0.2.7",
       "_view_module_version": "^0.2.7",
       "data": {
        "id": "184",
        "label": "ADP"
       },
       "position": {
        "x": -203.22535228514724,
        "y": -8.698742294761365
       }
      }
     },
     "445e93f74b3448d7ba333d66a6ba4496": {
      "model_module": "cytoscape-clj",
      "model_module_version": "^0.2.7",
      "model_name": "ElementModel",
      "state": {
       "_model_module_version": "^0.2.7",
       "_view_module_version": "^0.2.7",
       "data": {
        "source": "148",
        "target": "149"
       },
       "group": "edges"
      }
     },
     "4619848f605e4775e96087992514c232": {
      "model_module": "cytoscape-clj",
      "model_module_version": "^0.2.7",
      "model_name": "ElementModel",
      "state": {
       "_model_module_version": "^0.2.7",
       "_view_module_version": "^0.2.7",
       "data": {
        "id": "57",
        "label": "ADP"
       },
       "position": {
        "x": 104.06490356852134,
        "y": -53.965732665022124
       }
      }
     },
     "466a99af36e14ef9ada9d457e26ec537": {
      "model_module": "cytoscape-clj",
      "model_module_version": "^0.2.7",
      "model_name": "ElementModel",
      "state": {
       "_model_module_version": "^0.2.7",
       "_view_module_version": "^0.2.7",
       "data": {
        "id": "38",
        "label": "sucrose phosphate synthase"
       },
       "position": {
        "x": 96.77465371485273,
        "y": 61.24666620308488
       }
      }
     },
     "4a12944283aa481e1383539596399a5e": {
      "model_module": "cytoscape-clj",
      "model_module_version": "^0.2.7",
      "model_name": "ElementModel",
      "state": {
       "_model_module_version": "^0.2.7",
       "_view_module_version": "^0.2.7",
       "data": {
        "id": "41",
        "label": "UDP"
       },
       "position": {
        "x": 249.2222744339184,
        "y": 41.844067567983764
       }
      }
     },
     "4cb2fecbea8a44f84bccd8451fa06208": {
      "model_module": "cytoscape-clj",
      "model_module_version": "^0.2.7",
      "model_name": "ElementModel",
      "state": {
       "_model_module_version": "^0.2.7",
       "_view_module_version": "^0.2.7",
       "data": {
        "id": "20",
        "label": "phosphoglucose isomerase"
       },
       "position": {
        "x": -250.77773556608153,
        "y": -89.71589219925058
       }
      }
     },
     "4f5ad1d349d54e30dc15334867e6f338": {
      "model_module": "cytoscape-clj",
      "model_module_version": "^0.2.7",
      "model_name": "ElementModel",
      "state": {
       "_model_module_version": "^0.2.7",
       "_view_module_version": "^0.2.7",
       "data": {
        "id": "109",
        "label": "glucose 6-phosphate"
       },
       "position": {
        "x": 154.06490456852134,
        "y": -103.75570710130056
       }
      }
     },
     "54da6c32369d4fcb06cf5e7578a5fd49": {
      "model_module": "cytoscape-clj",
      "model_module_version": "^0.2.7",
      "model_name": "ElementModel",
      "state": {
       "_model_module_version": "^0.2.7",
       "_view_module_version": "^0.2.7",
       "data": {
        "id": "12",
        "label": "fructokinase"
       },
       "position": {
        "x": -160.20380961198157,
        "y": 110.55045178536368
       }
      }
     },
     "54dbdce94ed64ff4d2b4ce005d69b375": {
      "model_module": "cytoscape-clj",
      "model_module_version": "^0.2.7",
      "model_name": "ElementModel",
      "state": {
       "_model_module_version": "^0.2.7",
       "_view_module_version": "^0.2.7",
       "data": {
        "id": "6",
        "label": "sucrose"
       },
       "position": {
        "x": 154.06490456852134,
        "y": -53.755706101300554
       }
      }
     },
     "57549d7016b04f437960c935dab97d88": {
      "model_module": "cytoscape-clj",
      "model_module_version": "^0.2.7",
      "model_name": "ElementModel",
      "state": {
       "_model_module_version": "^0.2.7",
       "_view_module_version": "^0.2.7",
       "data": {
        "id": "156",
        "label": "phosphate transporter"
       },
       "position": {
        "x": 354.06490856852133,
        "y": -50.66646053562352
       }
      }
     },
     "5a7f6e0664db47f052eef17784676607": {
      "model_module": "cytoscape-clj",
      "model_module_version": "^0.2.7",
      "model_name": "ElementModel",
      "state": {
       "_model_module_version": "^0.2.7",
       "_view_module_version": "^0.2.7",
       "data": {
        "id": "4",
        "label": "sucrose 6-phosphate"
       },
       "position": {
        "x": -256.03714486198163,
        "y": 36.89705858322798
       }
      }
     },
     "5e2a7467528640634b1b318beab7e6a7": {
      "model_module": "cytoscape-clj",
      "model_module_version": "^0.2.7",
      "model_name": "ElementModel",
      "state": {
       "_model_module_version": "^0.2.7",
       "_view_module_version": "^0.2.7",
       "data": {
        "id": "8",
        "label": "invertase"
       },
       "position": {
        "x": -156.03714286198158,
        "y": 56.701854889467064
       }
      }
     },
     "5e69e200c8e64c04d7b9c4ee920e226b": {
      "model_module": "@jupyter-widgets/base",
      "model_module_version": "1.2.0",
      "model_name": "LayoutModel",
      "state": {}
     },
     "5e952a85d057421dc4cf30021e8a1fb1": {
      "model_module": "cytoscape-clj",
      "model_module_version": "^0.2.7",
      "model_name": "ElementModel",
      "state": {
       "_model_module_version": "^0.2.7",
       "_view_module_version": "^0.2.7",
       "data": {
        "id": "164",
        "label": "starch synthase (simpl.)"
       },
       "position": {
        "x": 204.06490556852134,
        "y": -49.65352974565798
       }
      }
     },
     "5ea93c0f37724a6bdb6e8a6ecd0b4f6a": {
      "model_module": "cytoscape-clj",
      "model_module_version": "^0.2.7",
      "model_name": "ElementModel",
      "state": {
       "_model_module_version": "^0.2.7",
       "_view_module_version": "^0.2.7",
       "data": {
        "source": "46",
        "target": "30"
       },
       "group": "edges"
      }
     },
     "626525cd973e4d2b84525aa4a5a5c4b5": {
      "model_module": "cytoscape-clj",
      "model_module_version": "^0.2.7",
      "model_name": "ElementModel",
      "state": {
       "_model_module_version": "^0.2.7",
       "_view_module_version": "^0.2.7",
       "data": {
        "source": "156",
        "target": "158"
       },
       "group": "edges"
      }
     },
     "66298032b71e411d46701e6c4d06fcb1": {
      "model_module": "cytoscape-clj",
      "model_module_version": "^0.2.7",
      "model_name": "ElementModel",
      "state": {
       "_model_module_version": "^0.2.7",
       "_view_module_version": "^0.2.7",
       "data": {
        "source": "80",
        "target": "89"
       },
       "group": "edges"
      }
     },
     "6716e1f92a584997863da5018af3661c": {
      "model_module": "cytoscape-clj",
      "model_module_version": "^0.2.7",
      "model_name": "ElementModel",
      "state": {
       "_model_module_version": "^0.2.7",
       "_view_module_version": "^0.2.7",
       "data": {
        "source": "115",
        "target": "109"
       },
       "group": "edges"
      }
     },
     "684874cd50c94da21dc0902cd402bc46": {
      "model_module": "cytoscape-clj",
      "model_module_version": "^0.2.7",
      "model_name": "ElementModel",
      "state": {
       "_model_module_version": "^0.2.7",
       "_view_module_version": "^0.2.7",
       "data": {
        "id": "90",
        "label": "P"
       },
       "position": {
        "x": 299.2222754339184,
        "y": 40.18790631058161
       }
      }
     },
     "6ca083f2520f4f2462ab18cf4f65fca0": {
      "model_module": "cytoscape-clj",
      "model_module_version": "^0.2.7",
      "model_name": "ElementModel",
      "state": {
       "_model_module_version": "^0.2.7",
       "_view_module_version": "^0.2.7",
       "data": {
        "source": "141",
        "target": "178"
       },
       "group": "edges"
      }
     },
     "7406749fd9c84b4bff15701ef0432910": {
      "model_module": "cytoscape-clj",
      "model_module_version": "^0.2.7",
      "model_name": "ElementModel",
      "state": {
       "_model_module_version": "^0.2.7",
       "_view_module_version": "^0.2.7",
       "data": {
        "source": "104",
        "target": "109"
       },
       "group": "edges"
      }
     },
     "76de178d46734de26081ee747371bf9d": {
      "model_module": "cytoscape-clj",
      "model_module_version": "^0.2.7",
      "model_name": "ElementModel",
      "state": {
       "_model_module_version": "^0.2.7",
       "_view_module_version": "^0.2.7",
       "data": {
        "source": "4",
        "target": "2"
       },
       "group": "edges"
      }
     },
     "7a28051d914249bd909324dcd05cbea2": {
      "model_module": "cytoscape-clj",
      "model_module_version": "^0.2.7",
      "model_name": "ElementModel",
      "state": {
       "_model_module_version": "^0.2.7",
       "_view_module_version": "^0.2.7",
       "data": {
        "id": "89",
        "label": "G1P transporter"
       },
       "position": {
        "x": 98.1295288880184,
        "y": 112.41953221821468
       }
      }
     },
     "818a493cc16c41574015c3d8e20f942e": {
      "model_module": "cytoscape-clj",
      "model_module_version": "^0.2.7",
      "model_name": "ElementModel",
      "state": {
       "_model_module_version": "^0.2.7",
       "_view_module_version": "^0.2.7",
       "data": {
        "id": "121",
        "label": "glucose 1-phosphate"
       },
       "position": {
        "x": -303.2253542851472,
        "y": -63.102943416772014
       }
      }
     },
     "8af8257389974261ff0b640ce5633634": {
      "model_module": "cytoscape-clj",
      "model_module_version": "^0.2.7",
      "model_name": "ElementModel",
      "state": {
       "_model_module_version": "^0.2.7",
       "_view_module_version": "^0.2.7",
       "data": {
        "source": "128",
        "target": "130"
       },
       "group": "edges"
      }
     },
     "8be330a92a2d4eb84c3356cc65abd565": {
      "model_module": "cytoscape-clj",
      "model_module_version": "^0.2.7",
      "model_name": "ElementModel",
      "state": {
       "_model_module_version": "^0.2.7",
       "_view_module_version": "^0.2.7",
       "data": {
        "source": "76",
        "target": "36"
       },
       "group": "edges"
      }
     },
     "8e1cec5437c8487fdc6d09d927052d75": {
      "model_module": "cytoscape-clj",
      "model_module_version": "^0.2.7",
      "model_name": "ElementModel",
      "state": {
       "_model_module_version": "^0.2.7",
       "_view_module_version": "^0.2.7",
       "data": {
        "source": "20",
        "target": "22"
       },
       "group": "edges"
      }
     },
     "8eceaae0c672477f3bd7bd9e7522c948": {
      "model_module": "cytoscape-clj",
      "model_module_version": "^0.2.7",
      "model_name": "ElementModel",
      "state": {
       "_model_module_version": "^0.2.7",
       "_view_module_version": "^0.2.7",
       "data": {
        "id": "178",
        "label": "ATP/ADP transporter"
       },
       "position": {
        "x": -3.2253482851472484,
        "y": 60.720205330121985
       }
      }
     },
     "8f096be4bbc7406067d950e1464672c9": {
      "model_module": "cytoscape-clj",
      "model_module_version": "^0.2.7",
      "model_name": "ElementModel",
      "state": {
       "_model_module_version": "^0.2.7",
       "_view_module_version": "^0.2.7",
       "data": {
        "source": "12",
        "target": "57"
       },
       "group": "edges"
      }
     },
     "8ff12b547d2b42be8f89653871c3152a": {
      "model_module": "cytoscape-clj",
      "model_module_version": "^0.2.7",
      "model_name": "ElementModel",
      "state": {
       "_model_module_version": "^0.2.7",
       "_view_module_version": "^0.2.7",
       "data": {
        "source": "141",
        "target": "128"
       },
       "group": "edges"
      }
     },
     "922afa21ae7143bf416ea2234eb6e6e5": {
      "model_module": "cytoscape-clj",
      "model_module_version": "^0.2.7",
      "model_name": "ElementModel",
      "state": {
       "_model_module_version": "^0.2.7",
       "_view_module_version": "^0.2.7",
       "data": {
        "source": "8",
        "target": "28"
       },
       "group": "edges"
      }
     },
     "94ba1ebec00547bc115481f6a432a208": {
      "model_module": "cytoscape-clj",
      "model_module_version": "^0.2.7",
      "model_name": "ElementModel",
      "state": {
       "_model_module_version": "^0.2.7",
       "_view_module_version": "^0.2.7",
       "data": {
        "source": "104",
        "target": "103"
       },
       "group": "edges"
      }
     },
     "96c33c7c615f4004d0336606ffb98a36": {
      "model_module": "cytoscape-clj",
      "model_module_version": "^0.2.7",
      "model_name": "ElementModel",
      "state": {
       "_model_module_version": "^0.2.7",
       "_view_module_version": "^0.2.7",
       "data": {
        "id": "36",
        "label": "UDP - glucose"
       },
       "position": {
        "x": -150.77773356608157,
        "y": -43.30905989996965
       }
      }
     },
     "9af1a3193d6f46c41fd7019d1a3c975a": {
      "model_module": "cytoscape-clj",
      "model_module_version": "^0.2.7",
      "model_name": "ElementModel",
      "state": {
       "_model_module_version": "^0.2.7",
       "_view_module_version": "^0.2.7",
       "data": {
        "source": "121",
        "target": "115"
       },
       "group": "edges"
      }
     },
     "9b0e5a2c39804357f93529771ec47594": {
      "model_module": "cytoscape-clj",
      "model_module_version": "^0.2.7",
      "model_name": "ElementModel",
      "state": {
       "_model_module_version": "^0.2.7",
       "_view_module_version": "^0.2.7",
       "data": {
        "source": "86",
        "target": "80"
       },
       "group": "edges"
      }
     },
     "9f084a25ece44f7dc9767fa1e896aeb0": {
      "model_module": "cytoscape-clj",
      "model_module_version": "^0.2.7",
      "model_name": "ElementModel",
      "state": {
       "_model_module_version": "^0.2.7",
       "_view_module_version": "^0.2.7",
       "data": {
        "id": "10",
        "label": "fructose"
       },
       "position": {
        "x": 148.1295298880184,
        "y": 96.24429689869943
       }
      }
     },
     "a0dda7ff2f794b0361ee27fc5ba4fb31": {
      "model_module": "cytoscape-clj",
      "model_module_version": "^0.2.7",
      "model_name": "ElementModel",
      "state": {
       "_model_module_version": "^0.2.7",
       "_view_module_version": "^0.2.7",
       "data": {
        "id": "102",
        "label": "P"
       },
       "position": {
        "x": -353.22535528514726,
        "y": 12.763910236566318
       }
      }
     },
     "a1562eed046f4a3846630c369608a0e9": {
      "model_module": "cytoscape-clj",
      "model_module_version": "^0.2.7",
      "model_name": "ElementModel",
      "state": {
       "_model_module_version": "^0.2.7",
       "_view_module_version": "^0.2.7",
       "data": {
        "id": "141",
        "label": "ATP"
       },
       "position": {
        "x": 54.06490256852134,
        "y": -72.2311797575101
       }
      }
     },
     "a1bf2f9f21434545f4cac375bf242758": {
      "model_module": "cytoscape-clj",
      "model_module_version": "^0.2.7",
      "model_name": "ElementModel",
      "state": {
       "_model_module_version": "^0.2.7",
       "_view_module_version": "^0.2.7",
       "data": {
        "id": "179",
        "label": "ADP"
       },
       "position": {
        "x": 254.0649065685213,
        "y": -9.812094689418386
       }
      }
     },
     "a306095b337244ba872da3c25c2efa4f": {
      "model_module": "cytoscape-clj",
      "model_module_version": "^0.2.7",
      "model_name": "ElementModel",
      "state": {
       "_model_module_version": "^0.2.7",
       "_view_module_version": "^0.2.7",
       "data": {
        "source": "22",
        "target": "86"
       },
       "group": "edges"
      }
     },
     "a4447694deea46233f0033c7b9371fea": {
      "model_module": "cytoscape-clj",
      "model_module_version": "^0.2.7",
      "model_name": "ElementModel",
      "state": {
       "_model_module_version": "^0.2.7",
       "_view_module_version": "^0.2.7",
       "data": {
        "source": "10",
        "target": "12"
       },
       "group": "edges"
      }
     },
     "a49333f3dc8a46599f7fb737eaa3d7e7": {
      "model_module": "cytoscape-clj",
      "model_module_version": "^0.2.7",
      "model_name": "ElementModel",
      "state": {
       "_model_module_version": "^0.2.7",
       "_view_module_version": "^0.2.7",
       "data": {
        "source": "2",
        "target": "6"
       },
       "group": "edges"
      }
     },
     "af865de71b4f4736b89ab732d6713ff0": {
      "model_module": "cytoscape-clj",
      "model_module_version": "^0.2.7",
      "model_name": "ElementModel",
      "state": {
       "_model_module_version": "^0.2.7",
       "_view_module_version": "^0.2.7",
       "data": {
        "id": "128",
        "label": "ADPglucose pyrophosphorylase (pAGPase)"
       },
       "position": {
        "x": 46.77465271485275,
        "y": 77.76882324248989
       }
      }
     },
     "b08b87490dfa419b1ee7d268d4324427": {
      "model_module": "cytoscape-clj",
      "model_module_version": "^0.2.7",
      "model_name": "ElementModel",
      "state": {
       "_model_module_version": "^0.2.7",
       "_view_module_version": "^0.2.7",
       "data": {
        "id": "76",
        "label": "UDP glucose pyrophosphorylase"
       },
       "position": {
        "x": 27.421724984052883,
        "y": -122.2311807575101
       }
      }
     },
     "b0ded89f7ce74d9f7d7d46383e06155d": {
      "model_module": "cytoscape-clj",
      "model_module_version": "^0.2.7",
      "model_name": "ElementModel",
      "state": {
       "_model_module_version": "^0.2.7",
       "_view_module_version": "^0.2.7",
       "data": {
        "id": "136",
        "label": "PP"
       },
       "position": {
        "x": -50.77773156608157,
        "y": -39.27979666987801
       }
      }
     },
     "b607fe73c78f4cda659d1b2a411b7376": {
      "model_module": "cytoscape-clj",
      "model_module_version": "^0.2.7",
      "model_name": "ElementModel",
      "state": {
       "_model_module_version": "^0.2.7",
       "_view_module_version": "^0.2.7",
       "data": {
        "source": "71",
        "target": "76"
       },
       "group": "edges"
      }
     },
     "b71404153acf407210c3be3f33ec35e6": {
      "model_module": "cytoscape-clj",
      "model_module_version": "^0.2.7",
      "model_name": "ElementModel",
      "state": {
       "_model_module_version": "^0.2.7",
       "_view_module_version": "^0.2.7",
       "data": {
        "source": "14",
        "target": "20"
       },
       "group": "edges"
      }
     },
     "b7c0b81d01ed437ade5b9274fffed518": {
      "model_module": "cytoscape-clj",
      "model_module_version": "^0.2.7",
      "model_name": "ElementModel",
      "state": {
       "_model_module_version": "^0.2.7",
       "_view_module_version": "^0.2.7",
       "data": {
        "source": "8",
        "target": "10"
       },
       "group": "edges"
      }
     },
     "ba654ce1d75a43cf199347b393681919": {
      "model_module": "cytoscape-clj",
      "model_module_version": "^0.2.7",
      "model_name": "ElementModel",
      "state": {
       "_model_module_version": "^0.2.7",
       "_view_module_version": "^0.2.7",
       "data": {
        "source": "76",
        "target": "66"
       },
       "group": "edges"
      }
     },
     "bb0c81f8f9824533b6feccb64aa039e2": {
      "model_module": "cytoscape-clj",
      "model_module_version": "^0.2.7",
      "model_name": "ElementModel",
      "state": {
       "_model_module_version": "^0.2.7",
       "_view_module_version": "^0.2.7",
       "data": {
        "source": "184",
        "target": "178"
       },
       "group": "edges"
      }
     },
     "bb91558d56f54ee7baa4605c2c83facb": {
      "model_module": "cytoscape-clj",
      "model_module_version": "^0.2.7",
      "model_name": "ElementModel",
      "state": {
       "_model_module_version": "^0.2.7",
       "_view_module_version": "^0.2.7",
       "data": {
        "source": "36",
        "target": "38"
       },
       "group": "edges"
      }
     },
     "bbde208ae42b4c9e6ddb96907d5fe1d7": {
      "model_module": "cytoscape-clj",
      "model_module_version": "^0.2.7",
      "model_name": "ElementModel",
      "state": {
       "_model_module_version": "^0.2.7",
       "_view_module_version": "^0.2.7",
       "data": {
        "source": "44",
        "target": "38"
       },
       "group": "edges"
      }
     },
     "bf3c4ef6cf764db4ee6d9bdfeb7f99c4": {
      "model_module": "cytoscape-clj",
      "model_module_version": "^0.2.7",
      "model_name": "ElementModel",
      "state": {
       "_model_module_version": "^0.2.7",
       "_view_module_version": "^0.2.7",
       "data": {
        "source": "22",
        "target": "104"
       },
       "group": "edges"
      }
     },
     "c0b79ded0325462b4e11729b27edd3fc": {
      "model_module": "cytoscape-clj",
      "model_module_version": "^0.2.7",
      "model_name": "ElementModel",
      "state": {
       "_model_module_version": "^0.2.7",
       "_view_module_version": "^0.2.7",
       "data": {
        "source": "41",
        "target": "33"
       },
       "group": "edges"
      }
     },
     "c3b81140da4544ae41eeae1c0add0c96": {
      "model_module": "cytoscape-clj",
      "model_module_version": "^0.2.7",
      "model_name": "ElementModel",
      "state": {
       "_model_module_version": "^0.2.7",
       "_view_module_version": "^0.2.7",
       "data": {
        "id": "115",
        "label": "phospho- glucomutase (cPGM)"
       },
       "position": {
        "x": -210.2038106119816,
        "y": 91.30125970523864
       }
      }
     },
     "c45371219c814ae2f2fd640d023025d5": {
      "model_module": "cytoscape-clj",
      "model_module_version": "^0.2.7",
      "model_name": "ElementModel",
      "state": {
       "_model_module_version": "^0.2.7",
       "_view_module_version": "^0.2.7",
       "data": {
        "id": "189",
        "label": "ATP"
       },
       "position": {
        "x": -0.777730566081568,
        "y": -40.94639495101543
       }
      }
     },
     "c5a479da7cfd4225f4e4ff29a15df559": {
      "model_module": "cytoscape-clj",
      "model_module_version": "^0.2.7",
      "model_name": "ElementModel",
      "state": {
       "_model_module_version": "^0.2.7",
       "_view_module_version": "^0.2.7",
       "data": {
        "source": "6",
        "target": "8"
       },
       "group": "edges"
      }
     },
     "c7b043b676e3450040f2adcfa4e1a744": {
      "model_module": "cytoscape-clj",
      "model_module_version": "^0.2.7",
      "model_name": "ElementModel",
      "state": {
       "_model_module_version": "^0.2.7",
       "_view_module_version": "^0.2.7",
       "data": {
        "source": "12",
        "target": "14"
       },
       "group": "edges"
      }
     },
     "ce878d472efa4d25aaafb517200c5625": {
      "model_module": "cytoscape-clj",
      "model_module_version": "^0.2.7",
      "model_name": "ElementModel",
      "state": {
       "_model_module_version": "^0.2.7",
       "_view_module_version": "^0.2.7",
       "data": {
        "source": "102",
        "target": "104"
       },
       "group": "edges"
      }
     },
     "d18a3ee0a0c2492eefbdf907635f3229": {
      "model_module": "cytoscape-clj",
      "model_module_version": "^0.2.7",
      "model_name": "ElementModel",
      "state": {
       "_model_module_version": "^0.2.7",
       "_view_module_version": "^0.2.7",
       "data": {
        "source": "164",
        "target": "172"
       },
       "group": "edges"
      }
     },
     "d7153f12503f43b9058311220a326f3a": {
      "model_module": "cytoscape-clj",
      "model_module_version": "^0.2.7",
      "model_name": "ElementModel",
      "state": {
       "_model_module_version": "^0.2.7",
       "_view_module_version": "^0.2.7",
       "data": {
        "id": "28",
        "label": "glucose"
       },
       "position": {
        "x": -353.22535528514726,
        "y": -37.23609076343368
       }
      }
     },
     "d720f12c58bd42f11b3df9bde06d1b18": {
      "model_module": "cytoscape-clj",
      "model_module_version": "^0.2.7",
      "model_name": "ElementModel",
      "state": {
       "_model_module_version": "^0.2.7",
       "_view_module_version": "^0.2.7",
       "data": {
        "id": "2",
        "tooltip": "sucrose phosphate phosphatase"
       },
       "position": {
        "x": -103.22535028514726,
        "y": 6.690941100030344
       }
      }
     },
     "dadfe4bfde1e45a379c659e789401fc9": {
      "model_module": "cytoscape-clj",
      "model_module_version": "^0.2.7",
      "model_name": "ElementModel",
      "state": {
       "_model_module_version": "^0.2.7",
       "_view_module_version": "^0.2.7",
       "data": {
        "source": "2",
        "target": "1"
       },
       "group": "edges"
      }
     },
     "dc06fd4944f144ae50d929fc56bc0fcc": {
      "model_module": "cytoscape-clj",
      "model_module_version": "^0.2.7",
      "model_name": "ElementModel",
      "state": {
       "_model_module_version": "^0.2.7",
       "_view_module_version": "^0.2.7",
       "data": {
        "id": "66",
        "label": "PP"
       },
       "position": {
        "x": 149.22227243391842,
        "y": -3.7557051013005527
       }
      }
     },
     "df0f75884a7a4719b524afcd1a3f072a": {
      "model_module": "cytoscape-clj",
      "model_module_version": "^0.2.7",
      "model_name": "ColaLayoutModel",
      "state": {
       "_model_module_version": "^0.2.7",
       "_view_module_version": "^0.2.7",
       "handle_disconnected": false,
       "unconst_iter": null,
       "ungrabify_while_simulating": false
      }
     },
     "dfd4aaab95a542f7bfa68d18afb8ad31": {
      "model_module": "cytoscape-clj",
      "model_module_version": "^0.2.7",
      "model_name": "ElementModel",
      "state": {
       "_model_module_version": "^0.2.7",
       "_view_module_version": "^0.2.7",
       "data": {
        "id": "86",
        "label": "phospho- glucomutase (cPGM)"
       },
       "position": {
        "x": 349.22227643391835,
        "y": 49.333541464376474
       }
      }
     },
     "e2cc1cda619d491f56ad8eb579f00f39": {
      "model_module": "cytoscape-clj",
      "model_module_version": "^0.2.7",
      "model_name": "ElementModel",
      "state": {
       "_model_module_version": "^0.2.7",
       "_view_module_version": "^0.2.7",
       "data": {
        "source": "136",
        "target": "148"
       },
       "group": "edges"
      }
     },
     "e35fc6d964e643e04158466445f47047": {
      "model_module": "cytoscape-clj",
      "model_module_version": "^0.2.7",
      "model_name": "ElementModel",
      "state": {
       "_model_module_version": "^0.2.7",
       "_view_module_version": "^0.2.7",
       "data": {
        "source": "89",
        "target": "90"
       },
       "group": "edges"
      }
     },
     "e76a0bd500804adb63014ca9c4a6efe7": {
      "model_module": "cytoscape-clj",
      "model_module_version": "^0.2.7",
      "model_name": "ElementModel",
      "state": {
       "_model_module_version": "^0.2.7",
       "_view_module_version": "^0.2.7",
       "data": {
        "source": "128",
        "target": "136"
       },
       "group": "edges"
      }
     },
     "e83ca95eb3b64551d47232ee20ad22a7": {
      "model_module": "cytoscape-clj",
      "model_module_version": "^0.2.7",
      "model_name": "ElementModel",
      "state": {
       "_model_module_version": "^0.2.7",
       "_view_module_version": "^0.2.7",
       "data": {
        "source": "33",
        "target": "10"
       },
       "group": "edges"
      }
     },
     "eb80847f98cb4fac59d22a8c43f699ee": {
      "model_module": "cytoscape-clj",
      "model_module_version": "^0.2.7",
      "model_name": "ElementModel",
      "state": {
       "_model_module_version": "^0.2.7",
       "_view_module_version": "^0.2.7",
       "data": {
        "id": "148",
        "label": "inorganic diphosphatase"
       },
       "position": {
        "x": -53.22534928514724,
        "y": 14.1183023140161
       }
      }
     },
     "ecf2084e4df04a0d492eaa38496e1bdb": {
      "model_module": "cytoscape-clj",
      "model_module_version": "^0.2.7",
      "model_name": "ElementModel",
      "state": {
       "_model_module_version": "^0.2.7",
       "_view_module_version": "^0.2.7",
       "data": {
        "id": "1",
        "label": "P"
       },
       "position": {
        "x": -3.2253482851472484,
        "y": 10.720204330121987
       }
      }
     },
     "ed80eae2416f45f8086bf68c96abfe06": {
      "model_module": "cytoscape-clj",
      "model_module_version": "^0.2.7",
      "model_name": "ElementModel",
      "state": {
       "_model_module_version": "^0.2.7",
       "_view_module_version": "^0.2.7",
       "data": {
        "source": "6",
        "target": "33"
       },
       "group": "edges"
      }
     },
     "f02359c41420464ec64341c23feb2d8b": {
      "model_module": "cytoscape-clj",
      "model_module_version": "^0.2.7",
      "model_name": "ElementModel",
      "state": {
       "_model_module_version": "^0.2.7",
       "_view_module_version": "^0.2.7",
       "data": {
        "id": "33",
        "label": "sucrose synthase"
       },
       "position": {
        "x": -303.2253542851472,
        "y": -13.102942416772015
       }
      }
     },
     "f0245b98ac77439f8a345e49d15b3181": {
      "model_module": "cytoscape-clj",
      "model_module_version": "^0.2.7",
      "model_name": "CytoscapeModel",
      "state": {
       "_model_module_version": "^0.2.7",
       "_view_module_version": "^0.2.7",
       "box_selection_enabled": true,
       "data": {
        "fu": "bar"
       },
       "desktop_tap_threshold": 4,
       "elements": [
        "IPY_MODEL_ecf2084e4df04a0d492eaa38496e1bdb",
        "IPY_MODEL_d720f12c58bd42f11b3df9bde06d1b18",
        "IPY_MODEL_5a7f6e0664db47f052eef17784676607",
        "IPY_MODEL_54dbdce94ed64ff4d2b4ce005d69b375",
        "IPY_MODEL_5e2a7467528640634b1b318beab7e6a7",
        "IPY_MODEL_9f084a25ece44f7dc9767fa1e896aeb0",
        "IPY_MODEL_54da6c32369d4fcb06cf5e7578a5fd49",
        "IPY_MODEL_fa2c242c94854e8c14a10ff344f1d8d9",
        "IPY_MODEL_4cb2fecbea8a44f84bccd8451fa06208",
        "IPY_MODEL_13955acff4354f546d0407e0dfa5102a",
        "IPY_MODEL_d7153f12503f43b9058311220a326f3a",
        "IPY_MODEL_37e238c0f66d49d33f51c276e4f11943",
        "IPY_MODEL_f02359c41420464ec64341c23feb2d8b",
        "IPY_MODEL_96c33c7c615f4004d0336606ffb98a36",
        "IPY_MODEL_466a99af36e14ef9ada9d457e26ec537",
        "IPY_MODEL_4a12944283aa481e1383539596399a5e",
        "IPY_MODEL_2b0b068f6490460a79e55bf2ea1b42ac",
        "IPY_MODEL_3ca1330aa4a14173f36b9dd6faced7a0",
        "IPY_MODEL_fb94caed197c41f11f8eb037d27184a4",
        "IPY_MODEL_1f4b2b98106b4125c76deb3cd2b4ea25",
        "IPY_MODEL_4619848f605e4775e96087992514c232",
        "IPY_MODEL_dc06fd4944f144ae50d929fc56bc0fcc",
        "IPY_MODEL_082b4f16e9bf4c42672f13d270b1b515",
        "IPY_MODEL_b08b87490dfa419b1ee7d268d4324427",
        "IPY_MODEL_2a4cc921bdab4e869ad3f49b1d05646f",
        "IPY_MODEL_dfd4aaab95a542f7bfa68d18afb8ad31",
        "IPY_MODEL_7a28051d914249bd909324dcd05cbea2",
        "IPY_MODEL_684874cd50c94da21dc0902cd402bc46",
        "IPY_MODEL_00e98317bba64a32188714e8ca29e673",
        "IPY_MODEL_a0dda7ff2f794b0361ee27fc5ba4fb31",
        "IPY_MODEL_0d6d02fbac91497cdbf123851b218b7f",
        "IPY_MODEL_283bc2b37c6849934afebf511eff08f4",
        "IPY_MODEL_4f5ad1d349d54e30dc15334867e6f338",
        "IPY_MODEL_c3b81140da4544ae41eeae1c0add0c96",
        "IPY_MODEL_818a493cc16c41574015c3d8e20f942e",
        "IPY_MODEL_af865de71b4f4736b89ab732d6713ff0",
        "IPY_MODEL_fa4640cabf344de872973324d7d5abb0",
        "IPY_MODEL_b0ded89f7ce74d9f7d7d46383e06155d",
        "IPY_MODEL_a1562eed046f4a3846630c369608a0e9",
        "IPY_MODEL_eb80847f98cb4fac59d22a8c43f699ee",
        "IPY_MODEL_f84ae69c24964cb6883f7d38f593ffd7",
        "IPY_MODEL_57549d7016b04f437960c935dab97d88",
        "IPY_MODEL_3523882b13614f5fc0590b5636fdf0db",
        "IPY_MODEL_5e952a85d057421dc4cf30021e8a1fb1",
        "IPY_MODEL_2b4ed9a90fc549dfa90dcdbc3595d0cd",
        "IPY_MODEL_35f54e535bc447f1d54c30f4582f2119",
        "IPY_MODEL_8eceaae0c672477f3bd7bd9e7522c948",
        "IPY_MODEL_a1bf2f9f21434545f4cac375bf242758",
        "IPY_MODEL_3e7a1823081f45b9dff8cbe5539fca24",
        "IPY_MODEL_c45371219c814ae2f2fd640d023025d5",
        "IPY_MODEL_dadfe4bfde1e45a379c659e789401fc9",
        "IPY_MODEL_76de178d46734de26081ee747371bf9d",
        "IPY_MODEL_a49333f3dc8a46599f7fb737eaa3d7e7",
        "IPY_MODEL_c5a479da7cfd4225f4e4ff29a15df559",
        "IPY_MODEL_b7c0b81d01ed437ade5b9274fffed518",
        "IPY_MODEL_c7b043b676e3450040f2adcfa4e1a744",
        "IPY_MODEL_b71404153acf407210c3be3f33ec35e6",
        "IPY_MODEL_8e1cec5437c8487fdc6d09d927052d75",
        "IPY_MODEL_922afa21ae7143bf416ea2234eb6e6e5",
        "IPY_MODEL_1ac1f346f7d44cb330dd6965b91da037",
        "IPY_MODEL_2c18a94bf41d4b1756805803eb37d84b",
        "IPY_MODEL_ed80eae2416f45f8086bf68c96abfe06",
        "IPY_MODEL_e83ca95eb3b64551d47232ee20ad22a7",
        "IPY_MODEL_f0a656539bdd4f51b074e348bf8a6235",
        "IPY_MODEL_bb91558d56f54ee7baa4605c2c83facb",
        "IPY_MODEL_3d819370023646d1a3242926659bee76",
        "IPY_MODEL_23de089671064172c942c51519089463",
        "IPY_MODEL_c0b79ded0325462b4e11729b27edd3fc",
        "IPY_MODEL_bbde208ae42b4c9e6ddb96907d5fe1d7",
        "IPY_MODEL_0d46795c9af547f06521fa3e0e4ecb6c",
        "IPY_MODEL_8f096be4bbc7406067d950e1464672c9",
        "IPY_MODEL_5ea93c0f37724a6bdb6e8a6ecd0b4f6a",
        "IPY_MODEL_3bd205f5aed54f63b80e0dce6c1cbcf2",
        "IPY_MODEL_b607fe73c78f4cda659d1b2a411b7376",
        "IPY_MODEL_ba654ce1d75a43cf199347b393681919",
        "IPY_MODEL_8be330a92a2d4eb84c3356cc65abd565",
        "IPY_MODEL_067b68f76a7c440c6358ddbbe534c058",
        "IPY_MODEL_a306095b337244ba872da3c25c2efa4f",
        "IPY_MODEL_9b0e5a2c39804357f93529771ec47594",
        "IPY_MODEL_079b502f6cb8409e687f419478b78d88",
        "IPY_MODEL_e35fc6d964e643e04158466445f47047",
        "IPY_MODEL_ce878d472efa4d25aaafb517200c5625",
        "IPY_MODEL_66298032b71e411d46701e6c4d06fcb1",
        "IPY_MODEL_7406749fd9c84b4bff15701ef0432910",
        "IPY_MODEL_6716e1f92a584997863da5018af3661c",
        "IPY_MODEL_f8a389d1d16c4cd96e1f3701334f4689",
        "IPY_MODEL_9af1a3193d6f46c41fd7019d1a3c975a",
        "IPY_MODEL_fa83ec2356ae492badf589addd789f79",
        "IPY_MODEL_8af8257389974261ff0b640ce5633634",
        "IPY_MODEL_8ff12b547d2b42be8f89653871c3152a",
        "IPY_MODEL_e76a0bd500804adb63014ca9c4a6efe7",
        "IPY_MODEL_e2cc1cda619d491f56ad8eb579f00f39",
        "IPY_MODEL_445e93f74b3448d7ba333d66a6ba4496",
        "IPY_MODEL_2e18c519e42942edb2ccfe426c6e76b7",
        "IPY_MODEL_626525cd973e4d2b84525aa4a5a5c4b5",
        "IPY_MODEL_0256434201bc486d5118abb485292801",
        "IPY_MODEL_fdc8045be678415d7f17f4ad9d723a86",
        "IPY_MODEL_ffc9fc3a1309448029e39f5add7ba5f1",
        "IPY_MODEL_bb0c81f8f9824533b6feccb64aa039e2",
        "IPY_MODEL_06a04b524e2640a1ecb646099caf4194",
        "IPY_MODEL_6ca083f2520f4f2462ab18cf4f65fca0",
        "IPY_MODEL_94ba1ebec00547bc115481f6a432a208",
        "IPY_MODEL_a4447694deea46233f0033c7b9371fea",
        "IPY_MODEL_d18a3ee0a0c2492eefbdf907635f3229",
        "IPY_MODEL_bf3c4ef6cf764db4ee6d9bdfeb7f99c4"
       ],
       "graph_layouts": [
        "IPY_MODEL_df0f75884a7a4719b524afcd1a3f072a"
       ],
       "layout": "IPY_MODEL_5e69e200c8e64c04d7b9c4ee920e226b",
       "max_zoom": 9.999999999999999e+49,
       "min_zoom": 1.0000000000000001e-50,
       "pan": {
        "x": 288.20644206428346,
        "y": 203.43073792719377
       },
       "style": "IPY_MODEL_138582c841da4bf71fb51c62c3f806ff",
       "tooltip_source": "tooltip",
       "zoom": 0.6993193678827243
      }
     },
     "f0a656539bdd4f51b074e348bf8a6235": {
      "model_module": "cytoscape-clj",
      "model_module_version": "^0.2.7",
      "model_name": "ElementModel",
      "state": {
       "_model_module_version": "^0.2.7",
       "_view_module_version": "^0.2.7",
       "data": {
        "source": "33",
        "target": "36"
       },
       "group": "edges"
      }
     },
     "f84ae69c24964cb6883f7d38f593ffd7": {
      "model_module": "cytoscape-clj",
      "model_module_version": "^0.2.7",
      "model_name": "ElementModel",
      "state": {
       "_model_module_version": "^0.2.7",
       "_view_module_version": "^0.2.7",
       "data": {
        "id": "149",
        "label": "P"
       },
       "position": {
        "x": 254.0649065685213,
        "y": -59.81209568941838
       }
      }
     },
     "f8a389d1d16c4cd96e1f3701334f4689": {
      "model_module": "cytoscape-clj",
      "model_module_version": "^0.2.7",
      "model_name": "ElementModel",
      "state": {
       "_model_module_version": "^0.2.7",
       "_view_module_version": "^0.2.7",
       "data": {
        "source": "121",
        "target": "89"
       },
       "group": "edges"
      }
     },
     "fa2c242c94854e8c14a10ff344f1d8d9": {
      "model_module": "cytoscape-clj",
      "model_module_version": "^0.2.7",
      "model_name": "ElementModel",
      "state": {
       "_model_module_version": "^0.2.7",
       "_view_module_version": "^0.2.7",
       "data": {
        "id": "14",
        "label": "fructose 6-phosphate"
       },
       "position": {
        "x": 46.77465271485275,
        "y": 27.768822242489893
       }
      }
     },
     "fa4640cabf344de872973324d7d5abb0": {
      "model_module": "cytoscape-clj",
      "model_module_version": "^0.2.7",
      "model_name": "ElementModel",
      "state": {
       "_model_module_version": "^0.2.7",
       "_view_module_version": "^0.2.7",
       "data": {
        "id": "130",
        "label": "ADP - glucose"
       },
       "position": {
        "x": 149.22227243391842,
        "y": 46.24429589869944
       }
      }
     },
     "fa83ec2356ae492badf589addd789f79": {
      "model_module": "cytoscape-clj",
      "model_module_version": "^0.2.7",
      "model_name": "ElementModel",
      "state": {
       "_model_module_version": "^0.2.7",
       "_view_module_version": "^0.2.7",
       "data": {
        "source": "121",
        "target": "128"
       },
       "group": "edges"
      }
     },
     "fb94caed197c41f11f8eb037d27184a4": {
      "model_module": "cytoscape-clj",
      "model_module_version": "^0.2.7",
      "model_name": "ElementModel",
      "state": {
       "_model_module_version": "^0.2.7",
       "_view_module_version": "^0.2.7",
       "data": {
        "id": "47",
        "label": "ATP"
       },
       "position": {
        "x": -153.22535128514724,
        "y": 6.701853889467055
       }
      }
     },
     "fdc8045be678415d7f17f4ad9d723a86": {
      "model_module": "cytoscape-clj",
      "model_module_version": "^0.2.7",
      "model_name": "ElementModel",
      "state": {
       "_model_module_version": "^0.2.7",
       "_view_module_version": "^0.2.7",
       "data": {
        "source": "164",
        "target": "166"
       },
       "group": "edges"
      }
     },
     "ffc9fc3a1309448029e39f5add7ba5f1": {
      "model_module": "cytoscape-clj",
      "model_module_version": "^0.2.7",
      "model_name": "ElementModel",
      "state": {
       "_model_module_version": "^0.2.7",
       "_view_module_version": "^0.2.7",
       "data": {
        "source": "178",
        "target": "179"
       },
       "group": "edges"
      }
     }
    },
    "version_major": 2,
    "version_minor": 0
   }
  }
 },
 "nbformat": 4,
 "nbformat_minor": 4
}
