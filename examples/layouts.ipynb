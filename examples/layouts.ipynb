{
 "cells": [
  {
   "cell_type": "code",
   "execution_count": null,
   "metadata": {},
   "outputs": [],
   "source": [
    "(ql:quickload :cytoscape-clj)"
   ]
  },
  {
   "cell_type": "code",
   "execution_count": null,
   "metadata": {},
   "outputs": [],
   "source": [
    "(defparameter *count* 0)\n",
    "(defparameter +size+ 300)\n",
    "(defparameter +margin+ 30)\n",
    "(defparameter +columns+ 4)\n",
    "\n",
    "(defparameter *cyto* (cytoscape:make-cytoscape-widget\n",
    "                       :layout (make-instance 'jupyter-widgets:layout :height \"640px\")\n",
    "                       :graph-style \"node { content: data(name); } \n",
    "                                                  node.child { text-valign: center; text-halign: center; }\n",
    "                                                  edge { curve-style: bezier; }\"))\n",
    "\n",
    "(defun element-id (id i)\n",
    "  (format nil \"~A-~A\" id i))\n",
    "\n",
    "(defun add-graphs (&rest layouts)\n",
    "  (dolist (layout layouts)\n",
    "    (let ((id (jupyter:make-uuid))\n",
    "          (elements nil))\n",
    "      (push (cytoscape:make-element\n",
    "              :group \"nodes\"\n",
    "              :data (j:make-object \"id\" id\n",
    "                                   \"name\" (string-downcase (class-name (class-of layout))))\n",
    "              :classes (list id))\n",
    "            elements)\n",
    "      (dotimes (i 7)\n",
    "        (push (cytoscape:make-element\n",
    "                :group \"nodes\"\n",
    "                :data (j:make-object \"id\" (element-id id i)\n",
    "                                     \"parent\" id\n",
    "                                     \"name\" (format nil \"~A\" i))\n",
    "                :classes (list id \"child\"))\n",
    "              elements))\n",
    "      (dotimes (i 3)\n",
    "        ; Edge from the corner to the next side\n",
    "        (push (cytoscape:make-element\n",
    "                :group \"edges\"\n",
    "                :data (j:make-object \"parent\" id\n",
    "                                     \"id\" (jupyter:make-uuid)\n",
    "                                     \"source\" (element-id id (* 2 i))\n",
    "                                     \"target\" (element-id id (1+ (* 2 i))))\n",
    "                :classes (list id))\n",
    "              elements)\n",
    "        ; Edge from the corner to the previous side\n",
    "        (push (cytoscape:make-element\n",
    "                :group \"edges\"\n",
    "                :data (j:make-object \"parent\" id\n",
    "                                     \"id\" (jupyter:make-uuid)\n",
    "                                     \"source\" (element-id id (* 2 i))\n",
    "                                     \"target\" (element-id id (mod (1- (* 2 i)) 6)))\n",
    "                :classes (list id))\n",
    "              elements)\n",
    "        ; Edge from the corner to the middle\n",
    "        (push (cytoscape:make-element\n",
    "                :group \"edges\"\n",
    "                :data (j:make-object \"parent\" id\n",
    "                                     \"id\" (jupyter:make-uuid)\n",
    "                                     \"source\" (element-id id (* 2 i))\n",
    "                                     \"target\" (element-id id 6))\n",
    "                :classes (list id))\n",
    "              elements)\n",
    "        ; Edge from the side to the next side\n",
    "        (push (cytoscape:make-element\n",
    "                :group \"edges\"\n",
    "                :data (j:make-object \"parent\" id\n",
    "                                     \"id\" (jupyter:make-uuid)\n",
    "                                     \"source\" (element-id id (1+ (* 2 i)))\n",
    "                                     \"target\" (element-id id (mod (1- (* 2 i)) 6)))\n",
    "                :classes (list id))\n",
    "              elements)\n",
    "        ; Edge from the side to the middle\n",
    "        (push (cytoscape:make-element\n",
    "                :group \"edges\"\n",
    "                :data (j:make-object \"parent\" id\n",
    "                                     \"id\" (jupyter:make-uuid)\n",
    "                                     \"source\" (element-id id (1+ (* 2 i)))\n",
    "                                     \"target\" (element-id id 6))\n",
    "                :classes (list id))\n",
    "              elements))\n",
    "      (setf (cytoscape:selector layout) (format nil \".~A\" id))\n",
    "      (multiple-value-bind (row col) (floor *count* +columns+)\n",
    "        (setf (cytoscape:bounding-box layout) (list (cons \"x1\" (* (+ +margin+ +size+) col))\n",
    "                                                    (cons \"y1\" (* (+ +margin+ +size+) row))\n",
    "                                                    (cons \"w\" +size+)\n",
    "                                                    (cons \"h\" +size+))))\n",
    "      (incf *count*)\n",
    "      (setf (cytoscape:fit layout) nil)\n",
    "      (cytoscape:on-layout-stop layout (lambda (l) (declare (ignore l)) (cytoscape:fit-elements *cyto*)))\n",
    "      (setf (cytoscape:graph-layouts *cyto*) (append (cytoscape:graph-layouts *cyto*) (list layout)))\n",
    "      (setf (cytoscape:elements *cyto*) (append (cytoscape:elements *cyto*) (reverse elements)))))\n",
    "  (values))\n",
    "\n",
    "*cyto*"
   ]
  },
  {
   "cell_type": "code",
   "execution_count": null,
   "metadata": {},
   "outputs": [],
   "source": [
    "(add-graphs (cytoscape:make-breadth-first-layout)\n",
    "            (cytoscape:make-random-layout)\n",
    "            (cytoscape:make-grid-layout)\n",
    "            (cytoscape:make-circle-layout)\n",
    "            (cytoscape:make-concentric-layout)\n",
    "            (cytoscape:make-cose-layout)\n",
    "            (cytoscape:make-cola-layout)\n",
    "            (cytoscape:make-dagre-layout))"
   ]
  },
  {
   "cell_type": "code",
   "execution_count": null,
   "metadata": {},
   "outputs": [],
   "source": []
  }
 ],
 "metadata": {
  "kernelspec": {
   "display_name": "Common Lisp (SBCL)",
   "language": "common-lisp",
   "name": "common-lisp_sbcl"
  },
  "language_info": {
   "codemirror_mode": "text/x-common-lisp",
   "file_extension": ".lisp",
   "mimetype": "text/x-common-lisp",
   "name": "common-lisp",
   "pygments_lexer": "common-lisp",
   "version": "2.1.1"
  },
  "widgets": {
   "application/vnd.jupyter.widget-state+json": {
    "state": {
     "0270ff88594f45f0ee9e2d86ac5bd834": {
      "model_module": "cytoscape-clj",
      "model_module_version": "^0.2.15",
      "model_name": "DagreLayoutModel",
      "state": {
       "_model_module_version": "^0.2.15",
       "_view_module_version": "^0.2.15",
       "animate": true,
       "animation_duration": 250,
       "bounding_box": {
        "h": 300,
        "w": 300,
        "x1": 990,
        "x2": 1290,
        "y1": 330,
        "y2": 630
       },
       "fit": false,
       "min_length": 1,
       "selector": ".84823821823043b18a7eafeb08670384"
      }
     },
     "05ae61a455194d4873b4305b9868569d": {
      "model_module": "cytoscape-clj",
      "model_module_version": "^0.2.15",
      "model_name": "ConcentricLayoutModel",
      "state": {
       "_model_module_version": "^0.2.15",
       "_view_module_version": "^0.2.15",
       "animate": true,
       "animation_duration": 250,
       "bounding_box": {
        "h": 300,
        "w": 300,
        "x1": 0,
        "y1": 330
       },
       "fit": false,
       "selector": ".e967a0b30dc84d5ba044464cb9da4724"
      }
     },
     "070801781d304d04a78e7cf47925fd2d": {
      "model_module": "cytoscape-clj",
      "model_module_version": "^0.2.15",
      "model_name": "ElementModel",
      "state": {
       "_model_module_version": "^0.2.15",
       "_view_module_version": "^0.2.15",
       "classes": [
        "d6d0f6d47acc476a6fe332245c739f3f"
       ],
       "data": {
        "id": "9442fedb46d44768bc718ca9e58ed5eb",
        "parent": "d6d0f6d47acc476a6fe332245c739f3f",
        "source": "d6d0f6d47acc476a6fe332245c739f3f-2",
        "target": "d6d0f6d47acc476a6fe332245c739f3f-1"
       },
       "group": "edges"
      }
     },
     "07e55b228d7245cef573386a9baa2729": {
      "model_module": "cytoscape-clj",
      "model_module_version": "^0.2.15",
      "model_name": "ElementModel",
      "state": {
       "_model_module_version": "^0.2.15",
       "_view_module_version": "^0.2.15",
       "classes": [
        "fe6235b6a3b14dbdee22cda9dc8d8224",
        "child"
       ],
       "data": {
        "id": "fe6235b6a3b14dbdee22cda9dc8d8224-5",
        "name": "5",
        "parent": "fe6235b6a3b14dbdee22cda9dc8d8224"
       },
       "position": {
        "x": 498.6579749328702,
        "y": 484.64094342872454
       }
      }
     },
     "089b1c50667f4b0dae0d7f49d576f97e": {
      "model_module": "cytoscape-clj",
      "model_module_version": "^0.2.15",
      "model_name": "ElementModel",
      "state": {
       "_model_module_version": "^0.2.15",
       "_view_module_version": "^0.2.15",
       "classes": [
        "e967a0b30dc84d5ba044464cb9da4724"
       ],
       "data": {
        "id": "345412896fa44ccbe862511f2414e0b4",
        "parent": "e967a0b30dc84d5ba044464cb9da4724",
        "source": "e967a0b30dc84d5ba044464cb9da4724-2",
        "target": "e967a0b30dc84d5ba044464cb9da4724-6"
       },
       "group": "edges"
      }
     },
     "0aee80149acc430670495e7800a4e8bf": {
      "model_module": "cytoscape-clj",
      "model_module_version": "^0.2.15",
      "model_name": "ElementModel",
      "state": {
       "_model_module_version": "^0.2.15",
       "_view_module_version": "^0.2.15",
       "classes": [
        "fe6235b6a3b14dbdee22cda9dc8d8224"
       ],
       "data": {
        "id": "f9a1e6309324414d182281b38fe7485d",
        "parent": "fe6235b6a3b14dbdee22cda9dc8d8224",
        "source": "fe6235b6a3b14dbdee22cda9dc8d8224-2",
        "target": "fe6235b6a3b14dbdee22cda9dc8d8224-1"
       },
       "group": "edges"
      }
     },
     "0c7a380ba627441ec2200ddcb4c3447c": {
      "model_module": "cytoscape-clj",
      "model_module_version": "^0.2.15",
      "model_name": "ElementModel",
      "state": {
       "_model_module_version": "^0.2.15",
       "_view_module_version": "^0.2.15",
       "classes": [
        "e1cc7cee093f4ae47e52d4df60434c11"
       ],
       "data": {
        "id": "c6255f64880846804d0731ab310b963a",
        "parent": "e1cc7cee093f4ae47e52d4df60434c11",
        "source": "e1cc7cee093f4ae47e52d4df60434c11-4",
        "target": "e1cc7cee093f4ae47e52d4df60434c11-5"
       },
       "group": "edges"
      }
     },
     "0d67296d582d46ddab63085311627a4e": {
      "model_module": "cytoscape-clj",
      "model_module_version": "^0.2.15",
      "model_name": "ElementModel",
      "state": {
       "_model_module_version": "^0.2.15",
       "_view_module_version": "^0.2.15",
       "classes": [
        "d6d0f6d47acc476a6fe332245c739f3f",
        "child"
       ],
       "data": {
        "id": "d6d0f6d47acc476a6fe332245c739f3f-4",
        "name": "4",
        "parent": "d6d0f6d47acc476a6fe332245c739f3f"
       },
       "position": {
        "x": 1087.933951305893,
        "y": 258.1162641482903
       }
      }
     },
     "0e16b2ebb5104dc8b6b9be0779d5fefc": {
      "model_module": "cytoscape-clj",
      "model_module_version": "^0.2.15",
      "model_name": "ElementModel",
      "state": {
       "_model_module_version": "^0.2.15",
       "_view_module_version": "^0.2.15",
       "classes": [
        "84823821823043b18a7eafeb08670384"
       ],
       "data": {
        "id": "07356cfc95ae4d12c7039a8c3aff1c0a",
        "parent": "84823821823043b18a7eafeb08670384",
        "source": "84823821823043b18a7eafeb08670384-4",
        "target": "84823821823043b18a7eafeb08670384-3"
       },
       "group": "edges"
      }
     },
     "0ed00ba4bebe4574c1f63f670ad9ea0d": {
      "model_module": "cytoscape-clj",
      "model_module_version": "^0.2.15",
      "model_name": "ElementModel",
      "state": {
       "_model_module_version": "^0.2.15",
       "_view_module_version": "^0.2.15",
       "classes": [
        "d6d0f6d47acc476a6fe332245c739f3f"
       ],
       "data": {
        "id": "9fb51c01c2ee4811bd5e00a1a5f685dd",
        "parent": "d6d0f6d47acc476a6fe332245c739f3f",
        "source": "d6d0f6d47acc476a6fe332245c739f3f-0",
        "target": "d6d0f6d47acc476a6fe332245c739f3f-1"
       },
       "group": "edges"
      }
     },
     "11902b5c3e3a49c7d8b4a285e422afb5": {
      "model_module": "cytoscape-clj",
      "model_module_version": "^0.2.15",
      "model_name": "ElementModel",
      "state": {
       "_model_module_version": "^0.2.15",
       "_view_module_version": "^0.2.15",
       "classes": [
        "00e54a84b501419260ed6abae2ef020a",
        "child"
       ],
       "data": {
        "id": "00e54a84b501419260ed6abae2ef020a-2",
        "name": "2",
        "parent": "00e54a84b501419260ed6abae2ef020a"
       },
       "position": {
        "x": 910,
        "y": 50
       }
      }
     },
     "1202631b42f24860a33f19a4cdc0e075": {
      "model_module": "cytoscape-clj",
      "model_module_version": "^0.2.15",
      "model_name": "ElementModel",
      "state": {
       "_model_module_version": "^0.2.15",
       "_view_module_version": "^0.2.15",
       "classes": [
        "e967a0b30dc84d5ba044464cb9da4724"
       ],
       "data": {
        "id": "52939008236f40074171f70924fe1e70",
        "parent": "e967a0b30dc84d5ba044464cb9da4724",
        "source": "e967a0b30dc84d5ba044464cb9da4724-1",
        "target": "e967a0b30dc84d5ba044464cb9da4724-6"
       },
       "group": "edges"
      }
     },
     "17dbdba817104417294c2dafa105ed05": {
      "model_module": "cytoscape-clj",
      "model_module_version": "^0.2.15",
      "model_name": "ElementModel",
      "state": {
       "_model_module_version": "^0.2.15",
       "_view_module_version": "^0.2.15",
       "classes": [
        "00e54a84b501419260ed6abae2ef020a"
       ],
       "data": {
        "id": "88ef4f7088664ad61221858c16adc33e",
        "parent": "00e54a84b501419260ed6abae2ef020a",
        "source": "00e54a84b501419260ed6abae2ef020a-2",
        "target": "00e54a84b501419260ed6abae2ef020a-6"
       },
       "group": "edges"
      }
     },
     "18245e80a56b4b84d1e752654090cbfb": {
      "model_module": "cytoscape-clj",
      "model_module_version": "^0.2.15",
      "model_name": "ElementModel",
      "state": {
       "_model_module_version": "^0.2.15",
       "_view_module_version": "^0.2.15",
       "classes": [
        "fe6235b6a3b14dbdee22cda9dc8d8224",
        "child"
       ],
       "data": {
        "id": "fe6235b6a3b14dbdee22cda9dc8d8224-2",
        "name": "2",
        "parent": "fe6235b6a3b14dbdee22cda9dc8d8224"
       },
       "position": {
        "x": 630,
        "y": 463.6802106342987
       }
      }
     },
     "1b96f5660479493a50f68384743b661b": {
      "model_module": "cytoscape-clj",
      "model_module_version": "^0.2.15",
      "model_name": "ElementModel",
      "state": {
       "_model_module_version": "^0.2.15",
       "_view_module_version": "^0.2.15",
       "classes": [
        "d6d0f6d47acc476a6fe332245c739f3f"
       ],
       "data": {
        "id": "303a735387004860f54cb00d6256b6da",
        "parent": "d6d0f6d47acc476a6fe332245c739f3f",
        "source": "d6d0f6d47acc476a6fe332245c739f3f-4",
        "target": "d6d0f6d47acc476a6fe332245c739f3f-6"
       },
       "group": "edges"
      }
     },
     "1cf90c7b775547e7bffd5137d71f2a8f": {
      "model_module": "cytoscape-clj",
      "model_module_version": "^0.2.15",
      "model_name": "ElementModel",
      "state": {
       "_model_module_version": "^0.2.15",
       "_view_module_version": "^0.2.15",
       "classes": [
        "00e54a84b501419260ed6abae2ef020a"
       ],
       "data": {
        "id": "c9077879a4544aa3b53670ff15da5571",
        "parent": "00e54a84b501419260ed6abae2ef020a",
        "source": "00e54a84b501419260ed6abae2ef020a-0",
        "target": "00e54a84b501419260ed6abae2ef020a-5"
       },
       "group": "edges"
      }
     },
     "1df170cde3ea4b2c89e454e1b8fe168d": {
      "model_module": "cytoscape-clj",
      "model_module_version": "^0.2.15",
      "model_name": "ElementModel",
      "state": {
       "_model_module_version": "^0.2.15",
       "_view_module_version": "^0.2.15",
       "classes": [
        "f236591b3d3148216ee9d1b86f00cc2c",
        "child"
       ],
       "data": {
        "id": "f236591b3d3148216ee9d1b86f00cc2c-3",
        "name": "3",
        "parent": "f236591b3d3148216ee9d1b86f00cc2c"
       },
       "position": {
        "x": 565,
        "y": 147
       }
      }
     },
     "1e11b13d57af4482e8261a606988f3ab": {
      "model_module": "cytoscape-clj",
      "model_module_version": "^0.2.15",
      "model_name": "ElementModel",
      "state": {
       "_model_module_version": "^0.2.15",
       "_view_module_version": "^0.2.15",
       "classes": [
        "d6d0f6d47acc476a6fe332245c739f3f"
       ],
       "data": {
        "id": "b388870560bf4768504cd8d46f44d85e",
        "parent": "d6d0f6d47acc476a6fe332245c739f3f",
        "source": "d6d0f6d47acc476a6fe332245c739f3f-2",
        "target": "d6d0f6d47acc476a6fe332245c739f3f-6"
       },
       "group": "edges"
      }
     },
     "1e293d1081524a86ce5310c5cd96e350": {
      "model_module": "cytoscape-clj",
      "model_module_version": "^0.2.15",
      "model_name": "ElementModel",
      "state": {
       "_model_module_version": "^0.2.15",
       "_view_module_version": "^0.2.15",
       "classes": [
        "00e54a84b501419260ed6abae2ef020a"
       ],
       "data": {
        "id": "3df985016fa1480d9d926eec59d465c9",
        "parent": "00e54a84b501419260ed6abae2ef020a",
        "source": "00e54a84b501419260ed6abae2ef020a-3",
        "target": "00e54a84b501419260ed6abae2ef020a-1"
       },
       "group": "edges"
      }
     },
     "1e408b2776e142c4acb396804d4cb375": {
      "model_module": "cytoscape-clj",
      "model_module_version": "^0.2.15",
      "model_name": "ElementModel",
      "state": {
       "_model_module_version": "^0.2.15",
       "_view_module_version": "^0.2.15",
       "classes": [
        "84823821823043b18a7eafeb08670384"
       ],
       "data": {
        "id": "5b08ca4481c04b42ef165b22b87d99df",
        "parent": "84823821823043b18a7eafeb08670384",
        "source": "84823821823043b18a7eafeb08670384-2",
        "target": "84823821823043b18a7eafeb08670384-1"
       },
       "group": "edges"
      }
     },
     "205fe1aee0cb4f4384ab5c9bc36c7be9": {
      "model_module": "cytoscape-clj",
      "model_module_version": "^0.2.15",
      "model_name": "ElementModel",
      "state": {
       "_model_module_version": "^0.2.15",
       "_view_module_version": "^0.2.15",
       "classes": [
        "e967a0b30dc84d5ba044464cb9da4724"
       ],
       "data": {
        "id": "53d15cca9ba54d0fe33ec84e81e9e420",
        "parent": "e967a0b30dc84d5ba044464cb9da4724",
        "source": "e967a0b30dc84d5ba044464cb9da4724-5",
        "target": "e967a0b30dc84d5ba044464cb9da4724-6"
       },
       "group": "edges"
      }
     },
     "239d5bf8830e4b31a364bb5a575d9289": {
      "model_module": "cytoscape-clj",
      "model_module_version": "^0.2.15",
      "model_name": "ElementModel",
      "state": {
       "_model_module_version": "^0.2.15",
       "_view_module_version": "^0.2.15",
       "classes": [
        "fe6235b6a3b14dbdee22cda9dc8d8224",
        "child"
       ],
       "data": {
        "id": "fe6235b6a3b14dbdee22cda9dc8d8224-1",
        "name": "1",
        "parent": "fe6235b6a3b14dbdee22cda9dc8d8224"
       },
       "position": {
        "x": 537.5620917633762,
        "y": 630
       }
      }
     },
     "239f9ec9a81a427ed28c41ad8e8071b3": {
      "model_module": "cytoscape-clj",
      "model_module_version": "^0.2.15",
      "model_name": "GridLayoutModel",
      "state": {
       "_model_module_version": "^0.2.15",
       "_view_module_version": "^0.2.15",
       "animate": true,
       "animation_duration": 250,
       "bounding_box": {
        "h": 300,
        "w": 300,
        "x1": 660,
        "y1": 0
       },
       "fit": false,
       "selector": ".00e54a84b501419260ed6abae2ef020a"
      }
     },
     "25c8c353797c4708f69f80e0b96839a9": {
      "model_module": "cytoscape-clj",
      "model_module_version": "^0.2.15",
      "model_name": "ElementModel",
      "state": {
       "_model_module_version": "^0.2.15",
       "_view_module_version": "^0.2.15",
       "classes": [
        "84823821823043b18a7eafeb08670384"
       ],
       "data": {
        "id": "a3f0c30c7c904f2d638bf39354096e42",
        "parent": "84823821823043b18a7eafeb08670384",
        "source": "84823821823043b18a7eafeb08670384-4",
        "target": "84823821823043b18a7eafeb08670384-6"
       },
       "group": "edges"
      }
     },
     "25fac7e1c578452aea6b4017e1eabd2d": {
      "model_module": "cytoscape-clj",
      "model_module_version": "^0.2.15",
      "model_name": "ElementModel",
      "state": {
       "_model_module_version": "^0.2.15",
       "_view_module_version": "^0.2.15",
       "classes": [
        "e1cc7cee093f4ae47e52d4df60434c11",
        "child"
       ],
       "data": {
        "id": "e1cc7cee093f4ae47e52d4df60434c11-1",
        "name": "1",
        "parent": "e1cc7cee093f4ae47e52d4df60434c11"
       },
       "position": {
        "x": 1282.4534348584866,
        "y": 633.9411573904767
       }
      }
     },
     "26d8d705ad7947a871f01efebef8b6d0": {
      "model_module": "cytoscape-clj",
      "model_module_version": "^0.2.15",
      "model_name": "ElementModel",
      "state": {
       "_model_module_version": "^0.2.15",
       "_view_module_version": "^0.2.15",
       "classes": [
        "84823821823043b18a7eafeb08670384",
        "child"
       ],
       "data": {
        "id": "84823821823043b18a7eafeb08670384-4",
        "name": "4",
        "parent": "84823821823043b18a7eafeb08670384"
       },
       "position": {
        "x": 990,
        "y": 405
       }
      }
     },
     "289ca9e85c6a402a64748c59b874b315": {
      "model_module": "cytoscape-clj",
      "model_module_version": "^0.2.15",
      "model_name": "ElementModel",
      "state": {
       "_model_module_version": "^0.2.15",
       "_view_module_version": "^0.2.15",
       "classes": [
        "af3d5ca47ddf4cc2112dd6e5c13a3ae5"
       ],
       "data": {
        "id": "521e4615ec8f4009a8f9c57871915e42",
        "parent": "af3d5ca47ddf4cc2112dd6e5c13a3ae5",
        "source": "af3d5ca47ddf4cc2112dd6e5c13a3ae5-2",
        "target": "af3d5ca47ddf4cc2112dd6e5c13a3ae5-3"
       },
       "group": "edges"
      }
     },
     "29a43aa870ac488ce8a64d3e26e5811f": {
      "model_module": "cytoscape-clj",
      "model_module_version": "^0.2.15",
      "model_name": "ElementModel",
      "state": {
       "_model_module_version": "^0.2.15",
       "_view_module_version": "^0.2.15",
       "classes": [
        "fe6235b6a3b14dbdee22cda9dc8d8224"
       ],
       "data": {
        "id": "7f2f6eef8a9445a29fc93d347ff2f36f",
        "parent": "fe6235b6a3b14dbdee22cda9dc8d8224",
        "source": "fe6235b6a3b14dbdee22cda9dc8d8224-5",
        "target": "fe6235b6a3b14dbdee22cda9dc8d8224-6"
       },
       "group": "edges"
      }
     },
     "29cf9fb9da784121165529b47d17fd0d": {
      "model_module": "cytoscape-clj",
      "model_module_version": "^0.2.15",
      "model_name": "ElementModel",
      "state": {
       "_model_module_version": "^0.2.15",
       "_view_module_version": "^0.2.15",
       "classes": [
        "00e54a84b501419260ed6abae2ef020a"
       ],
       "data": {
        "id": "32e41a51811840d81df9bc93ff1ab15b",
        "parent": "00e54a84b501419260ed6abae2ef020a",
        "source": "00e54a84b501419260ed6abae2ef020a-2",
        "target": "00e54a84b501419260ed6abae2ef020a-3"
       },
       "group": "edges"
      }
     },
     "2c8718ba14024a1a95eabb84ff2d3840": {
      "model_module": "cytoscape-clj",
      "model_module_version": "^0.2.15",
      "model_name": "ElementModel",
      "state": {
       "_model_module_version": "^0.2.15",
       "_view_module_version": "^0.2.15",
       "classes": [
        "d6d0f6d47acc476a6fe332245c739f3f"
       ],
       "data": {
        "id": "7e5b7d1a275e4420d06f268856c5f088",
        "parent": "d6d0f6d47acc476a6fe332245c739f3f",
        "source": "d6d0f6d47acc476a6fe332245c739f3f-5",
        "target": "d6d0f6d47acc476a6fe332245c739f3f-6"
       },
       "group": "edges"
      }
     },
     "2d3bd31a25b746fceabfcb779b3a8aca": {
      "model_module": "cytoscape-clj",
      "model_module_version": "^0.2.15",
      "model_name": "ElementModel",
      "state": {
       "_model_module_version": "^0.2.15",
       "_view_module_version": "^0.2.15",
       "classes": [
        "fe6235b6a3b14dbdee22cda9dc8d8224",
        "child"
       ],
       "data": {
        "id": "fe6235b6a3b14dbdee22cda9dc8d8224-6",
        "name": "6",
        "parent": "fe6235b6a3b14dbdee22cda9dc8d8224"
       },
       "position": {
        "x": 565.3474334042802,
        "y": 338.0955319018086
       }
      }
     },
     "2f4bdaaf8dd64907302199e8726f0527": {
      "model_module": "cytoscape-clj",
      "model_module_version": "^0.2.15",
      "model_name": "ElementModel",
      "state": {
       "_model_module_version": "^0.2.15",
       "_view_module_version": "^0.2.15",
       "classes": [
        "84823821823043b18a7eafeb08670384",
        "child"
       ],
       "data": {
        "id": "84823821823043b18a7eafeb08670384-0",
        "name": "0",
        "parent": "84823821823043b18a7eafeb08670384"
       },
       "position": {
        "x": 1015.531914893617,
        "y": 330
       }
      }
     },
     "2fb713273e854887531ee8bf7f049853": {
      "model_module": "cytoscape-clj",
      "model_module_version": "^0.2.15",
      "model_name": "ElementModel",
      "state": {
       "_model_module_version": "^0.2.15",
       "_view_module_version": "^0.2.15",
       "classes": [
        "84823821823043b18a7eafeb08670384",
        "child"
       ],
       "data": {
        "id": "84823821823043b18a7eafeb08670384-5",
        "name": "5",
        "parent": "84823821823043b18a7eafeb08670384"
       },
       "position": {
        "x": 1168.723404255319,
        "y": 480
       }
      }
     },
     "333380311a56421e566ff28a3507d14f": {
      "model_module": "cytoscape-clj",
      "model_module_version": "^0.2.15",
      "model_name": "ElementModel",
      "state": {
       "_model_module_version": "^0.2.15",
       "_view_module_version": "^0.2.15",
       "classes": [
        "f236591b3d3148216ee9d1b86f00cc2c"
       ],
       "data": {
        "id": "db21041823d647817d21d1c546b4e4b3",
        "parent": "f236591b3d3148216ee9d1b86f00cc2c",
        "source": "f236591b3d3148216ee9d1b86f00cc2c-2",
        "target": "f236591b3d3148216ee9d1b86f00cc2c-3"
       },
       "group": "edges"
      }
     },
     "333712f379094e9083559ba0c641d08e": {
      "model_module": "cytoscape-clj",
      "model_module_version": "^0.2.15",
      "model_name": "ElementModel",
      "state": {
       "_model_module_version": "^0.2.15",
       "_view_module_version": "^0.2.15",
       "classes": [
        "f236591b3d3148216ee9d1b86f00cc2c"
       ],
       "data": {
        "id": "6a3121d3cc1c4ce7146e8ea7be4524f2",
        "parent": "f236591b3d3148216ee9d1b86f00cc2c",
        "source": "f236591b3d3148216ee9d1b86f00cc2c-4",
        "target": "f236591b3d3148216ee9d1b86f00cc2c-3"
       },
       "group": "edges"
      }
     },
     "341534e57a1641847f90c0f57a232820": {
      "model_module": "cytoscape-clj",
      "model_module_version": "^0.2.15",
      "model_name": "ElementModel",
      "state": {
       "_model_module_version": "^0.2.15",
       "_view_module_version": "^0.2.15",
       "classes": [
        "fe6235b6a3b14dbdee22cda9dc8d8224"
       ],
       "data": {
        "id": "3d022b811d0249036ed41e010cf00adc",
        "parent": "fe6235b6a3b14dbdee22cda9dc8d8224",
        "source": "fe6235b6a3b14dbdee22cda9dc8d8224-0",
        "target": "fe6235b6a3b14dbdee22cda9dc8d8224-1"
       },
       "group": "edges"
      }
     },
     "34a55e964e7d44853e34a7af97f8b456": {
      "model_module": "cytoscape-clj",
      "model_module_version": "^0.2.15",
      "model_name": "ElementModel",
      "state": {
       "_model_module_version": "^0.2.15",
       "_view_module_version": "^0.2.15",
       "classes": [
        "fe6235b6a3b14dbdee22cda9dc8d8224"
       ],
       "data": {
        "id": "fe6235b6a3b14dbdee22cda9dc8d8224",
        "name": "cose-layout"
       },
       "position": {
        "x": 564.3289874664351,
        "y": 480
       }
      }
     },
     "34e1c42c9fc640a745659bed79bc851b": {
      "model_module": "cytoscape-clj",
      "model_module_version": "^0.2.15",
      "model_name": "CytoscapeModel",
      "state": {
       "_model_module_version": "^0.2.15",
       "_view_module_version": "^0.2.15",
       "box_selection_enabled": true,
       "desktop_tap_threshold": 4,
       "elements": [
        "IPY_MODEL_6ae83c6baf984dc00ab3e7238d2fac39",
        "IPY_MODEL_ae656b41a2154dfca36167c3a94bc6a3",
        "IPY_MODEL_7d1fd46e3b0e44a26e841a57a44b200c",
        "IPY_MODEL_7b7879b29ce54be8497d67bea924c54e",
        "IPY_MODEL_c8fd6c69b3e94eb54e045c6296a2eebe",
        "IPY_MODEL_fb2d1caf524e403e8d6e8dc8cf8d69ef",
        "IPY_MODEL_effbdc0768234216ec27f0daa0910d46",
        "IPY_MODEL_46c78150c5db4e5b89faa1c665e4e650",
        "IPY_MODEL_7b8ba2197ccb49466820bc6448f0fe94",
        "IPY_MODEL_35cd55d094b949cdc9e910b7922e62af",
        "IPY_MODEL_6544b6c349d345bdeec15d92e54770d8",
        "IPY_MODEL_c2cae71bdde44055f046b6b905482254",
        "IPY_MODEL_fed401e102f04fe633a4dfe1d22b587b",
        "IPY_MODEL_289ca9e85c6a402a64748c59b874b315",
        "IPY_MODEL_f4600e1393504bcb4ed1648828c01c6e",
        "IPY_MODEL_fdc9670bdd1a451b50f6e4c51b8bc773",
        "IPY_MODEL_4a12b7b67c93410db5157e2b7b353231",
        "IPY_MODEL_899d61d3552540a7c19f6bb864f31ea5",
        "IPY_MODEL_aba3f09c7b0846a83ef777fe945c3cd8",
        "IPY_MODEL_7d16457cb7de42fa0848f6e6d555afa5",
        "IPY_MODEL_479880663b434e9bf9da12ca6c6263c1",
        "IPY_MODEL_66ef7041beab4994341135350c36bcae",
        "IPY_MODEL_c4a583d92e8647fe5310b141ff1585c2",
        "IPY_MODEL_d65c6513367a4234b9e3ebfc0c54f811",
        "IPY_MODEL_b59ba07a36ee4e6256bbe2b99dc62b0f",
        "IPY_MODEL_fe0790cabfad4f5c42a053ce9abbfe92",
        "IPY_MODEL_73f2a0a24f564781f05e9a6aa368747b",
        "IPY_MODEL_1df170cde3ea4b2c89e454e1b8fe168d",
        "IPY_MODEL_6c1434088eba456e760d1dd0f09aef73",
        "IPY_MODEL_e1ab5502263948fe615b918d4a16c643",
        "IPY_MODEL_a469f900ef3c4c25d2bea10974626299",
        "IPY_MODEL_960c14b5b8a14a62bf77fb710236944d",
        "IPY_MODEL_59215c7ebaf44bb1e915bcab6398546f",
        "IPY_MODEL_e0a6ebad629b4360f9034628ca69d79d",
        "IPY_MODEL_7ff9d80c65a347ca8d729af831aa5f78",
        "IPY_MODEL_73554f5799a248bc4ee4046ef20f5e5f",
        "IPY_MODEL_333380311a56421e566ff28a3507d14f",
        "IPY_MODEL_5cc5567c9e0b4acad675543c8cc3f288",
        "IPY_MODEL_6fc1672d090047e5cf93b03eb461ae23",
        "IPY_MODEL_7326d7404ee24e9177d109aff9f5f34e",
        "IPY_MODEL_3866670cd8524c8b21a9fe59840d363b",
        "IPY_MODEL_8b735e36a1a740408487c81829c0f57c",
        "IPY_MODEL_333712f379094e9083559ba0c641d08e",
        "IPY_MODEL_5822d3c353a64fdb29455ce6944027f6",
        "IPY_MODEL_6dabc96cf35440cf8d3dd42cca17218b",
        "IPY_MODEL_f3c51a01867a45c207909bc1af99f397",
        "IPY_MODEL_8ee6a4922ad440e493770df5ea5483bb",
        "IPY_MODEL_952478b24a354d8180b7126bb7cbed9a",
        "IPY_MODEL_54fb37a16b8a4bad16d79a0358e3346d",
        "IPY_MODEL_11902b5c3e3a49c7d8b4a285e422afb5",
        "IPY_MODEL_4bfc1b103eb04fcf0b4a336a3fd5413e",
        "IPY_MODEL_b4a15b7c6dbb447368b8016fa5c8aae8",
        "IPY_MODEL_5f13c1140dab4d4d9e88f9f5a12c25e9",
        "IPY_MODEL_a27e218aa5164ead118f4ee4abc726ab",
        "IPY_MODEL_894663cdb66a4be1f02447a56ed13fe9",
        "IPY_MODEL_1cf90c7b775547e7bffd5137d71f2a8f",
        "IPY_MODEL_442c89ac4e2945ee78a75e5faf23085d",
        "IPY_MODEL_73cf4c04f48243a6f2bc1261393772d4",
        "IPY_MODEL_4f57f2f427d44a9c9adc47291578ec13",
        "IPY_MODEL_29cf9fb9da784121165529b47d17fd0d",
        "IPY_MODEL_a732b90e37934fde201e8fc4dce64249",
        "IPY_MODEL_17dbdba817104417294c2dafa105ed05",
        "IPY_MODEL_1e293d1081524a86ce5310c5cd96e350",
        "IPY_MODEL_b070fd0ee6d846ba2703b5f8dfaad602",
        "IPY_MODEL_b31a38cb8b404641cef41c78ce61a419",
        "IPY_MODEL_d4b5ba22836d4f30befdf1d294a7e09f",
        "IPY_MODEL_a96c4d8222e14141e791ff56f65a96d3",
        "IPY_MODEL_e9d96f58a459462779f0b3055da63818",
        "IPY_MODEL_cd783cb752064255571ca4516a182e45",
        "IPY_MODEL_d8321aba432c469b60fe427c45f41822",
        "IPY_MODEL_472e13263c4f45716e654fb63a21ae68",
        "IPY_MODEL_65b8548cb2794c295c2fc2b0e60361d9",
        "IPY_MODEL_38daff1c43864db4bfd460f70ec0a15a",
        "IPY_MODEL_f001e93aede942a40744113846f502a4",
        "IPY_MODEL_0d67296d582d46ddab63085311627a4e",
        "IPY_MODEL_442ca2cb40ac4210786b6d18e38790c8",
        "IPY_MODEL_870f7988e54c44292f1867c90899ff0c",
        "IPY_MODEL_0ed00ba4bebe4574c1f63f670ad9ea0d",
        "IPY_MODEL_57af4d7ea8a9431579f2ca33e714d3f5",
        "IPY_MODEL_dcf323076ccb40a256923a4b71965947",
        "IPY_MODEL_adbb56dca68f4001b61fe8a1cbd7f2c6",
        "IPY_MODEL_c38176f016af4af5173f6bdf1c4c867e",
        "IPY_MODEL_a8c814d6690d4343332330b4f5d3dac7",
        "IPY_MODEL_070801781d304d04a78e7cf47925fd2d",
        "IPY_MODEL_1e11b13d57af4482e8261a606988f3ab",
        "IPY_MODEL_fe2eba001a8144ee218d57c795586fad",
        "IPY_MODEL_f4588bbc4c8e457e798afea4111f8458",
        "IPY_MODEL_9b800663f5a44aadccb5f51fcc047a3e",
        "IPY_MODEL_6b23b7254b7c4627cd0d972ec8b4ff98",
        "IPY_MODEL_1b96f5660479493a50f68384743b661b",
        "IPY_MODEL_aa28450a9cda415d87a49047966c3c74",
        "IPY_MODEL_2c8718ba14024a1a95eabb84ff2d3840",
        "IPY_MODEL_f7d98fb8802c474af88a47f7ef049ae8",
        "IPY_MODEL_542c6d0db4fd474e30939d04e9f7ea06",
        "IPY_MODEL_7dcb071a78424fa18e7ccc3760ad6ee0",
        "IPY_MODEL_ca3223513a41448b000bd7b0c23a01ca",
        "IPY_MODEL_8f9f5e2deafe4d5c73a92756caab807b",
        "IPY_MODEL_d69847e0319c443aa14f8efdc2eb480a",
        "IPY_MODEL_95445df6eeea4cce7b3724e201869283",
        "IPY_MODEL_b96a27d4f0fe4c24ca4d5231315fe56b",
        "IPY_MODEL_8d3c2283ddd748e9814dba2b3f2b1b58",
        "IPY_MODEL_c22237e8c86d46a3748aebf6d327b0c4",
        "IPY_MODEL_789585f91ad24df52c465e6a0f6dd870",
        "IPY_MODEL_faf086a06a044df6af5cdca66ca7c4b8",
        "IPY_MODEL_1202631b42f24860a33f19a4cdc0e075",
        "IPY_MODEL_b487b60a96b6463c69a99b83c4739efe",
        "IPY_MODEL_e36ff35485984ce3c5e5df242fc6511b",
        "IPY_MODEL_089b1c50667f4b0dae0d7f49d576f97e",
        "IPY_MODEL_94f94f00e62d4af4977fba9953273e47",
        "IPY_MODEL_811fb6ac038c4b1ff657ff6b9185257a",
        "IPY_MODEL_dbcecefc7ad54a43943551b77fc6a64e",
        "IPY_MODEL_d326028b5e1f42133d3ac4ee3e90e5a2",
        "IPY_MODEL_bee408dbf7af472dfcc5f28185d0a7b0",
        "IPY_MODEL_c1d6d1a36bf949e9c1016bbb2fa8b69c",
        "IPY_MODEL_205fe1aee0cb4f4384ab5c9bc36c7be9",
        "IPY_MODEL_34a55e964e7d44853e34a7af97f8b456",
        "IPY_MODEL_e91bb6868b93414aea5f4405b5458292",
        "IPY_MODEL_239d5bf8830e4b31a364bb5a575d9289",
        "IPY_MODEL_18245e80a56b4b84d1e752654090cbfb",
        "IPY_MODEL_517354e302414c44b4bfb7f038e3992f",
        "IPY_MODEL_7954d3d0caa44c1869953c138ac953f5",
        "IPY_MODEL_07e55b228d7245cef573386a9baa2729",
        "IPY_MODEL_2d3bd31a25b746fceabfcb779b3a8aca",
        "IPY_MODEL_341534e57a1641847f90c0f57a232820",
        "IPY_MODEL_c1487b774eef4ce7fc2fae39b0147d88",
        "IPY_MODEL_96cf2e9d2bb74f3265fe5650fde01949",
        "IPY_MODEL_cbef26df64a746437180b0e4b320f288",
        "IPY_MODEL_cd42d28b5b254fdd2adfe0390011cd42",
        "IPY_MODEL_8952b53114174a91335629ce576b5a02",
        "IPY_MODEL_0aee80149acc430670495e7800a4e8bf",
        "IPY_MODEL_c89e9cfe172b4d630ce5055fc9a557c0",
        "IPY_MODEL_88ebbd2c1e094770d6188f3f667a6674",
        "IPY_MODEL_a84e2375139b4d8ea20cd86dcf69b911",
        "IPY_MODEL_4442083e560f48babe86ab82e2fee537",
        "IPY_MODEL_3f3a159ed8b84dfdf77d3725943cd2d2",
        "IPY_MODEL_66988210c7974b18f3a789c8fa22bbd1",
        "IPY_MODEL_ee90a669523241070daea63f21cb7baa",
        "IPY_MODEL_29a43aa870ac488ce8a64d3e26e5811f",
        "IPY_MODEL_ab51080b82e642b01822aa19c0b32db8",
        "IPY_MODEL_c3bc6f33ff734cb7d384d9c7377afe51",
        "IPY_MODEL_25fac7e1c578452aea6b4017e1eabd2d",
        "IPY_MODEL_66e91542afd944d417f3eb7e7311f452",
        "IPY_MODEL_a1e1877168b94a416c03848e669cb141",
        "IPY_MODEL_4eb9498ecc96434cc6cf56f34dd46a98",
        "IPY_MODEL_fbf629f1390d4e2f098a7c459652587b",
        "IPY_MODEL_e3ae70523fcc4626c515b35ed5aeff50",
        "IPY_MODEL_fa27b5fbfda546e57777863fa963cdee",
        "IPY_MODEL_70be8244e540467fca17117889352a1d",
        "IPY_MODEL_e9b1b1b37c3d47163d415c74ca41b6d1",
        "IPY_MODEL_70873b276c9c4e067efc2b8ffb8537ea",
        "IPY_MODEL_6857c723c9554bd327d4417f5327d98e",
        "IPY_MODEL_f3146dce91f546aecb65a8f0295e7283",
        "IPY_MODEL_e0638d9555e14adb12f2ca2c36460269",
        "IPY_MODEL_afd98822a33143d3251eeaa4ea0951a1",
        "IPY_MODEL_4aa5a8cc3c59413f268b980bb24e4d4e",
        "IPY_MODEL_602f7b4d10f741441d98a84be3e29766",
        "IPY_MODEL_0c7a380ba627441ec2200ddcb4c3447c",
        "IPY_MODEL_6a2d73a8d8434b1f5f2bd6b44b5b27ad",
        "IPY_MODEL_5fc6d2705f584ca65efba1077f95d447",
        "IPY_MODEL_721c7a43f2b843a3692d257d9c21655b",
        "IPY_MODEL_4c7f2b2e23914b4d0fc1b5ddbba403fe",
        "IPY_MODEL_5e1d7e4cff3c4a13672e566ecc27af64",
        "IPY_MODEL_2f4bdaaf8dd64907302199e8726f0527",
        "IPY_MODEL_7a75a68dd76249eb788bb7e465cd0f6f",
        "IPY_MODEL_e21e00dcd15149a8c1f7b6e776f05e5b",
        "IPY_MODEL_f5c7225b361a458e1bfd29f5912eeab7",
        "IPY_MODEL_26d8d705ad7947a871f01efebef8b6d0",
        "IPY_MODEL_2fb713273e854887531ee8bf7f049853",
        "IPY_MODEL_51b30fca32334b20f18782e62dfa97e1",
        "IPY_MODEL_c4e633dc13334eb25d6f86e6813cfd5f",
        "IPY_MODEL_b7df1d59f5d346554a5cb9864891eb48",
        "IPY_MODEL_67256259e0354e19d4e7e9ed33ce3107",
        "IPY_MODEL_74b6d9505bde477524d00eeb11ce6d10",
        "IPY_MODEL_3c3140852a4d4aa292008cf463cf4e58",
        "IPY_MODEL_ab5362f7d9e640a348a4bb6bf0221399",
        "IPY_MODEL_1e408b2776e142c4acb396804d4cb375",
        "IPY_MODEL_3e3140416d0b4ae0c47ab56a097d6bd1",
        "IPY_MODEL_6790ada227b747c3813509d430fb722d",
        "IPY_MODEL_72b2ad4fe9204d68e848db1b3ad22e74",
        "IPY_MODEL_e55ce2e8e61b44babda8f084a243909e",
        "IPY_MODEL_0e16b2ebb5104dc8b6b9be0779d5fefc",
        "IPY_MODEL_25c8c353797c4708f69f80e0b96839a9",
        "IPY_MODEL_a82aaafcee8f4b476a561f5548c01b1e",
        "IPY_MODEL_74a6f758fc5e4cece2bf2d15bb687eb9"
       ],
       "graph_layouts": [
        "IPY_MODEL_784cb01250e34c80d7779b5e10e0cb25",
        "IPY_MODEL_c9ab5093045a4b8bb164f1b750120db1",
        "IPY_MODEL_239f9ec9a81a427ed28c41ad8e8071b3",
        "IPY_MODEL_860fcb33b3974d700fb0be11c9268464",
        "IPY_MODEL_05ae61a455194d4873b4305b9868569d",
        "IPY_MODEL_5d974dba86324f0c1e97b202451d56e8",
        "IPY_MODEL_7de53e9795a542507ed4d46632beb30d",
        "IPY_MODEL_0270ff88594f45f0ee9e2d86ac5bd834"
       ],
       "graph_style": "node { content: data(name); } \n                                                  node.child { text-valign: center; text-halign: center; }\n                                                  edge { curve-style: bezier; }",
       "layout": "IPY_MODEL_9b1ec4b011314eadd0727008b6ec5205",
       "max_zoom": 9.999999999999999e+49,
       "min_zoom": 1.0000000000000001e-50,
       "pan": {
        "X": 0,
        "Y": 0
       },
       "style": "IPY_MODEL_8520f26bf7a3491654d35354d7dbeb6e",
       "tooltip_source": "tooltip"
      }
     },
     "35cd55d094b949cdc9e910b7922e62af": {
      "model_module": "cytoscape-clj",
      "model_module_version": "^0.2.15",
      "model_name": "ElementModel",
      "state": {
       "_model_module_version": "^0.2.15",
       "_view_module_version": "^0.2.15",
       "classes": [
        "af3d5ca47ddf4cc2112dd6e5c13a3ae5"
       ],
       "data": {
        "id": "a1fe3eb8f0564a0b286fbd3eee301810",
        "parent": "af3d5ca47ddf4cc2112dd6e5c13a3ae5",
        "source": "af3d5ca47ddf4cc2112dd6e5c13a3ae5-0",
        "target": "af3d5ca47ddf4cc2112dd6e5c13a3ae5-5"
       },
       "group": "edges"
      }
     },
     "3866670cd8524c8b21a9fe59840d363b": {
      "model_module": "cytoscape-clj",
      "model_module_version": "^0.2.15",
      "model_name": "ElementModel",
      "state": {
       "_model_module_version": "^0.2.15",
       "_view_module_version": "^0.2.15",
       "classes": [
        "f236591b3d3148216ee9d1b86f00cc2c"
       ],
       "data": {
        "id": "388f769b184b458dc3ce0f43e00107c2",
        "parent": "f236591b3d3148216ee9d1b86f00cc2c",
        "source": "f236591b3d3148216ee9d1b86f00cc2c-3",
        "target": "f236591b3d3148216ee9d1b86f00cc2c-6"
       },
       "group": "edges"
      }
     },
     "38daff1c43864db4bfd460f70ec0a15a": {
      "model_module": "cytoscape-clj",
      "model_module_version": "^0.2.15",
      "model_name": "ElementModel",
      "state": {
       "_model_module_version": "^0.2.15",
       "_view_module_version": "^0.2.15",
       "classes": [
        "d6d0f6d47acc476a6fe332245c739f3f",
        "child"
       ],
       "data": {
        "id": "d6d0f6d47acc476a6fe332245c739f3f-2",
        "name": "2",
        "parent": "d6d0f6d47acc476a6fe332245c739f3f"
       },
       "position": {
        "x": 1256.9913494618188,
        "y": 176.7025120747577
       }
      }
     },
     "3c3140852a4d4aa292008cf463cf4e58": {
      "model_module": "cytoscape-clj",
      "model_module_version": "^0.2.15",
      "model_name": "ElementModel",
      "state": {
       "_model_module_version": "^0.2.15",
       "_view_module_version": "^0.2.15",
       "classes": [
        "84823821823043b18a7eafeb08670384"
       ],
       "data": {
        "id": "d31ce1335d9145f18e8c2f340d17367f",
        "parent": "84823821823043b18a7eafeb08670384",
        "source": "84823821823043b18a7eafeb08670384-1",
        "target": "84823821823043b18a7eafeb08670384-6"
       },
       "group": "edges"
      }
     },
     "3e3140416d0b4ae0c47ab56a097d6bd1": {
      "model_module": "cytoscape-clj",
      "model_module_version": "^0.2.15",
      "model_name": "ElementModel",
      "state": {
       "_model_module_version": "^0.2.15",
       "_view_module_version": "^0.2.15",
       "classes": [
        "84823821823043b18a7eafeb08670384"
       ],
       "data": {
        "id": "959244f6141b4b69dfad87103af63650",
        "parent": "84823821823043b18a7eafeb08670384",
        "source": "84823821823043b18a7eafeb08670384-2",
        "target": "84823821823043b18a7eafeb08670384-6"
       },
       "group": "edges"
      }
     },
     "3f3a159ed8b84dfdf77d3725943cd2d2": {
      "model_module": "cytoscape-clj",
      "model_module_version": "^0.2.15",
      "model_name": "ElementModel",
      "state": {
       "_model_module_version": "^0.2.15",
       "_view_module_version": "^0.2.15",
       "classes": [
        "fe6235b6a3b14dbdee22cda9dc8d8224"
       ],
       "data": {
        "id": "d8c6d92146e340ec6b2b5d40a7d69e4e",
        "parent": "fe6235b6a3b14dbdee22cda9dc8d8224",
        "source": "fe6235b6a3b14dbdee22cda9dc8d8224-4",
        "target": "fe6235b6a3b14dbdee22cda9dc8d8224-3"
       },
       "group": "edges"
      }
     },
     "442c89ac4e2945ee78a75e5faf23085d": {
      "model_module": "cytoscape-clj",
      "model_module_version": "^0.2.15",
      "model_name": "ElementModel",
      "state": {
       "_model_module_version": "^0.2.15",
       "_view_module_version": "^0.2.15",
       "classes": [
        "00e54a84b501419260ed6abae2ef020a"
       ],
       "data": {
        "id": "df1b12291f9f46679d861719c0c04897",
        "parent": "00e54a84b501419260ed6abae2ef020a",
        "source": "00e54a84b501419260ed6abae2ef020a-0",
        "target": "00e54a84b501419260ed6abae2ef020a-6"
       },
       "group": "edges"
      }
     },
     "442ca2cb40ac4210786b6d18e38790c8": {
      "model_module": "cytoscape-clj",
      "model_module_version": "^0.2.15",
      "model_name": "ElementModel",
      "state": {
       "_model_module_version": "^0.2.15",
       "_view_module_version": "^0.2.15",
       "classes": [
        "d6d0f6d47acc476a6fe332245c739f3f",
        "child"
       ],
       "data": {
        "id": "d6d0f6d47acc476a6fe332245c739f3f-5",
        "name": "5",
        "parent": "d6d0f6d47acc476a6fe332245c739f3f"
       },
       "position": {
        "x": 1023.0086505381812,
        "y": 176.70251207475778
       }
      }
     },
     "4442083e560f48babe86ab82e2fee537": {
      "model_module": "cytoscape-clj",
      "model_module_version": "^0.2.15",
      "model_name": "ElementModel",
      "state": {
       "_model_module_version": "^0.2.15",
       "_view_module_version": "^0.2.15",
       "classes": [
        "fe6235b6a3b14dbdee22cda9dc8d8224"
       ],
       "data": {
        "id": "8e18495dfa7341f2598fe302f7633bff",
        "parent": "fe6235b6a3b14dbdee22cda9dc8d8224",
        "source": "fe6235b6a3b14dbdee22cda9dc8d8224-4",
        "target": "fe6235b6a3b14dbdee22cda9dc8d8224-5"
       },
       "group": "edges"
      }
     },
     "46c78150c5db4e5b89faa1c665e4e650": {
      "model_module": "cytoscape-clj",
      "model_module_version": "^0.2.15",
      "model_name": "ElementModel",
      "state": {
       "_model_module_version": "^0.2.15",
       "_view_module_version": "^0.2.15",
       "classes": [
        "af3d5ca47ddf4cc2112dd6e5c13a3ae5",
        "child"
       ],
       "data": {
        "id": "af3d5ca47ddf4cc2112dd6e5c13a3ae5-6",
        "name": "6",
        "parent": "af3d5ca47ddf4cc2112dd6e5c13a3ae5"
       },
       "position": {
        "x": 200,
        "y": 150
       }
      }
     },
     "472e13263c4f45716e654fb63a21ae68": {
      "model_module": "cytoscape-clj",
      "model_module_version": "^0.2.15",
      "model_name": "ElementModel",
      "state": {
       "_model_module_version": "^0.2.15",
       "_view_module_version": "^0.2.15",
       "classes": [
        "d6d0f6d47acc476a6fe332245c739f3f",
        "child"
       ],
       "data": {
        "id": "d6d0f6d47acc476a6fe332245c739f3f-0",
        "name": "0",
        "parent": "d6d0f6d47acc476a6fe332245c739f3f"
       },
       "position": {
        "x": 1140,
        "y": 30
       }
      }
     },
     "479880663b434e9bf9da12ca6c6263c1": {
      "model_module": "cytoscape-clj",
      "model_module_version": "^0.2.15",
      "model_name": "ElementModel",
      "state": {
       "_model_module_version": "^0.2.15",
       "_view_module_version": "^0.2.15",
       "classes": [
        "af3d5ca47ddf4cc2112dd6e5c13a3ae5"
       ],
       "data": {
        "id": "781fdcb7cd224185dbaed42bf0dd2d99",
        "parent": "af3d5ca47ddf4cc2112dd6e5c13a3ae5",
        "source": "af3d5ca47ddf4cc2112dd6e5c13a3ae5-4",
        "target": "af3d5ca47ddf4cc2112dd6e5c13a3ae5-6"
       },
       "group": "edges"
      }
     },
     "4a12b7b67c93410db5157e2b7b353231": {
      "model_module": "cytoscape-clj",
      "model_module_version": "^0.2.15",
      "model_name": "ElementModel",
      "state": {
       "_model_module_version": "^0.2.15",
       "_view_module_version": "^0.2.15",
       "classes": [
        "af3d5ca47ddf4cc2112dd6e5c13a3ae5"
       ],
       "data": {
        "id": "382989b91790499b10ae46910d6fa09d",
        "parent": "af3d5ca47ddf4cc2112dd6e5c13a3ae5",
        "source": "af3d5ca47ddf4cc2112dd6e5c13a3ae5-3",
        "target": "af3d5ca47ddf4cc2112dd6e5c13a3ae5-1"
       },
       "group": "edges"
      }
     },
     "4aa5a8cc3c59413f268b980bb24e4d4e": {
      "model_module": "cytoscape-clj",
      "model_module_version": "^0.2.15",
      "model_name": "ElementModel",
      "state": {
       "_model_module_version": "^0.2.15",
       "_view_module_version": "^0.2.15",
       "classes": [
        "e1cc7cee093f4ae47e52d4df60434c11"
       ],
       "data": {
        "id": "a286d24ac5fe460271acc316f78c2e68",
        "parent": "e1cc7cee093f4ae47e52d4df60434c11",
        "source": "e1cc7cee093f4ae47e52d4df60434c11-3",
        "target": "e1cc7cee093f4ae47e52d4df60434c11-1"
       },
       "group": "edges"
      }
     },
     "4bfc1b103eb04fcf0b4a336a3fd5413e": {
      "model_module": "cytoscape-clj",
      "model_module_version": "^0.2.15",
      "model_name": "ElementModel",
      "state": {
       "_model_module_version": "^0.2.15",
       "_view_module_version": "^0.2.15",
       "classes": [
        "00e54a84b501419260ed6abae2ef020a",
        "child"
       ],
       "data": {
        "id": "00e54a84b501419260ed6abae2ef020a-3",
        "name": "3",
        "parent": "00e54a84b501419260ed6abae2ef020a"
       },
       "position": {
        "x": 710,
        "y": 150
       }
      }
     },
     "4c7f2b2e23914b4d0fc1b5ddbba403fe": {
      "model_module": "cytoscape-clj",
      "model_module_version": "^0.2.15",
      "model_name": "ElementModel",
      "state": {
       "_model_module_version": "^0.2.15",
       "_view_module_version": "^0.2.15",
       "classes": [
        "e1cc7cee093f4ae47e52d4df60434c11"
       ],
       "data": {
        "id": "8986dbe07f1346991763ff65f5c7638c",
        "parent": "e1cc7cee093f4ae47e52d4df60434c11",
        "source": "e1cc7cee093f4ae47e52d4df60434c11-5",
        "target": "e1cc7cee093f4ae47e52d4df60434c11-6"
       },
       "group": "edges"
      }
     },
     "4eb9498ecc96434cc6cf56f34dd46a98": {
      "model_module": "cytoscape-clj",
      "model_module_version": "^0.2.15",
      "model_name": "ElementModel",
      "state": {
       "_model_module_version": "^0.2.15",
       "_view_module_version": "^0.2.15",
       "classes": [
        "e1cc7cee093f4ae47e52d4df60434c11",
        "child"
       ],
       "data": {
        "id": "e1cc7cee093f4ae47e52d4df60434c11-4",
        "name": "4",
        "parent": "e1cc7cee093f4ae47e52d4df60434c11"
       },
       "position": {
        "x": 1332.4534358584865,
        "y": 683.9411583904766
       }
      }
     },
     "4f57f2f427d44a9c9adc47291578ec13": {
      "model_module": "cytoscape-clj",
      "model_module_version": "^0.2.15",
      "model_name": "ElementModel",
      "state": {
       "_model_module_version": "^0.2.15",
       "_view_module_version": "^0.2.15",
       "classes": [
        "00e54a84b501419260ed6abae2ef020a"
       ],
       "data": {
        "id": "7b9028e4ffd149be9a9a6df83fcf712a",
        "parent": "00e54a84b501419260ed6abae2ef020a",
        "source": "00e54a84b501419260ed6abae2ef020a-1",
        "target": "00e54a84b501419260ed6abae2ef020a-6"
       },
       "group": "edges"
      }
     },
     "517354e302414c44b4bfb7f038e3992f": {
      "model_module": "cytoscape-clj",
      "model_module_version": "^0.2.15",
      "model_name": "ElementModel",
      "state": {
       "_model_module_version": "^0.2.15",
       "_view_module_version": "^0.2.15",
       "classes": [
        "fe6235b6a3b14dbdee22cda9dc8d8224",
        "child"
       ],
       "data": {
        "id": "fe6235b6a3b14dbdee22cda9dc8d8224-3",
        "name": "3",
        "parent": "fe6235b6a3b14dbdee22cda9dc8d8224"
       },
       "position": {
        "x": 565.1673133553115,
        "y": 484.9522925055419
       }
      }
     },
     "51b30fca32334b20f18782e62dfa97e1": {
      "model_module": "cytoscape-clj",
      "model_module_version": "^0.2.15",
      "model_name": "ElementModel",
      "state": {
       "_model_module_version": "^0.2.15",
       "_view_module_version": "^0.2.15",
       "classes": [
        "84823821823043b18a7eafeb08670384",
        "child"
       ],
       "data": {
        "id": "84823821823043b18a7eafeb08670384-6",
        "name": "6",
        "parent": "84823821823043b18a7eafeb08670384"
       },
       "position": {
        "x": 1092.127659574468,
        "y": 630
       }
      }
     },
     "542c6d0db4fd474e30939d04e9f7ea06": {
      "model_module": "cytoscape-clj",
      "model_module_version": "^0.2.15",
      "model_name": "ElementModel",
      "state": {
       "_model_module_version": "^0.2.15",
       "_view_module_version": "^0.2.15",
       "classes": [
        "e967a0b30dc84d5ba044464cb9da4724",
        "child"
       ],
       "data": {
        "id": "e967a0b30dc84d5ba044464cb9da4724-0",
        "name": "0",
        "parent": "e967a0b30dc84d5ba044464cb9da4724"
       },
       "position": {
        "x": 150,
        "y": 411.7157287525381
       }
      }
     },
     "54fb37a16b8a4bad16d79a0358e3346d": {
      "model_module": "cytoscape-clj",
      "model_module_version": "^0.2.15",
      "model_name": "ElementModel",
      "state": {
       "_model_module_version": "^0.2.15",
       "_view_module_version": "^0.2.15",
       "classes": [
        "00e54a84b501419260ed6abae2ef020a",
        "child"
       ],
       "data": {
        "id": "00e54a84b501419260ed6abae2ef020a-1",
        "name": "1",
        "parent": "00e54a84b501419260ed6abae2ef020a"
       },
       "position": {
        "x": 810,
        "y": 50
       }
      }
     },
     "57af4d7ea8a9431579f2ca33e714d3f5": {
      "model_module": "cytoscape-clj",
      "model_module_version": "^0.2.15",
      "model_name": "ElementModel",
      "state": {
       "_model_module_version": "^0.2.15",
       "_view_module_version": "^0.2.15",
       "classes": [
        "d6d0f6d47acc476a6fe332245c739f3f"
       ],
       "data": {
        "id": "a868c297435f44daf7bd72303c8bc01b",
        "parent": "d6d0f6d47acc476a6fe332245c739f3f",
        "source": "d6d0f6d47acc476a6fe332245c739f3f-0",
        "target": "d6d0f6d47acc476a6fe332245c739f3f-5"
       },
       "group": "edges"
      }
     },
     "5822d3c353a64fdb29455ce6944027f6": {
      "model_module": "cytoscape-clj",
      "model_module_version": "^0.2.15",
      "model_name": "ElementModel",
      "state": {
       "_model_module_version": "^0.2.15",
       "_view_module_version": "^0.2.15",
       "classes": [
        "f236591b3d3148216ee9d1b86f00cc2c"
       ],
       "data": {
        "id": "3d169b2a6b8c436a3fae8ad3cbc26013",
        "parent": "f236591b3d3148216ee9d1b86f00cc2c",
        "source": "f236591b3d3148216ee9d1b86f00cc2c-4",
        "target": "f236591b3d3148216ee9d1b86f00cc2c-6"
       },
       "group": "edges"
      }
     },
     "59215c7ebaf44bb1e915bcab6398546f": {
      "model_module": "cytoscape-clj",
      "model_module_version": "^0.2.15",
      "model_name": "ElementModel",
      "state": {
       "_model_module_version": "^0.2.15",
       "_view_module_version": "^0.2.15",
       "classes": [
        "f236591b3d3148216ee9d1b86f00cc2c"
       ],
       "data": {
        "id": "7c60d41b5cd14f0cd37aa383a490a5a7",
        "parent": "f236591b3d3148216ee9d1b86f00cc2c",
        "source": "f236591b3d3148216ee9d1b86f00cc2c-0",
        "target": "f236591b3d3148216ee9d1b86f00cc2c-5"
       },
       "group": "edges"
      }
     },
     "5cc5567c9e0b4acad675543c8cc3f288": {
      "model_module": "cytoscape-clj",
      "model_module_version": "^0.2.15",
      "model_name": "ElementModel",
      "state": {
       "_model_module_version": "^0.2.15",
       "_view_module_version": "^0.2.15",
       "classes": [
        "f236591b3d3148216ee9d1b86f00cc2c"
       ],
       "data": {
        "id": "5a2416877e364aebc28f4f11156db65f",
        "parent": "f236591b3d3148216ee9d1b86f00cc2c",
        "source": "f236591b3d3148216ee9d1b86f00cc2c-2",
        "target": "f236591b3d3148216ee9d1b86f00cc2c-1"
       },
       "group": "edges"
      }
     },
     "5d974dba86324f0c1e97b202451d56e8": {
      "model_module": "cytoscape-clj",
      "model_module_version": "^0.2.15",
      "model_name": "CoseLayoutModel",
      "state": {
       "_model_module_version": "^0.2.15",
       "_view_module_version": "^0.2.15",
       "animation_duration": 250,
       "bounding_box": {
        "h": 300,
        "w": 300,
        "x1": 330,
        "y1": 330
       },
       "fit": false,
       "refresh": 10,
       "selector": ".fe6235b6a3b14dbdee22cda9dc8d8224"
      }
     },
     "5e1d7e4cff3c4a13672e566ecc27af64": {
      "model_module": "cytoscape-clj",
      "model_module_version": "^0.2.15",
      "model_name": "ElementModel",
      "state": {
       "_model_module_version": "^0.2.15",
       "_view_module_version": "^0.2.15",
       "classes": [
        "84823821823043b18a7eafeb08670384"
       ],
       "data": {
        "id": "84823821823043b18a7eafeb08670384",
        "name": "dagre-layout"
       },
       "position": {
        "x": 1140,
        "y": 480
       }
      }
     },
     "5f13c1140dab4d4d9e88f9f5a12c25e9": {
      "model_module": "cytoscape-clj",
      "model_module_version": "^0.2.15",
      "model_name": "ElementModel",
      "state": {
       "_model_module_version": "^0.2.15",
       "_view_module_version": "^0.2.15",
       "classes": [
        "00e54a84b501419260ed6abae2ef020a",
        "child"
       ],
       "data": {
        "id": "00e54a84b501419260ed6abae2ef020a-5",
        "name": "5",
        "parent": "00e54a84b501419260ed6abae2ef020a"
       },
       "position": {
        "x": 910,
        "y": 150
       }
      }
     },
     "5fc6d2705f584ca65efba1077f95d447": {
      "model_module": "cytoscape-clj",
      "model_module_version": "^0.2.15",
      "model_name": "ElementModel",
      "state": {
       "_model_module_version": "^0.2.15",
       "_view_module_version": "^0.2.15",
       "classes": [
        "e1cc7cee093f4ae47e52d4df60434c11"
       ],
       "data": {
        "id": "58f74fee29a445360a435cb8bb5b7497",
        "parent": "e1cc7cee093f4ae47e52d4df60434c11",
        "source": "e1cc7cee093f4ae47e52d4df60434c11-4",
        "target": "e1cc7cee093f4ae47e52d4df60434c11-6"
       },
       "group": "edges"
      }
     },
     "602f7b4d10f741441d98a84be3e29766": {
      "model_module": "cytoscape-clj",
      "model_module_version": "^0.2.15",
      "model_name": "ElementModel",
      "state": {
       "_model_module_version": "^0.2.15",
       "_view_module_version": "^0.2.15",
       "classes": [
        "e1cc7cee093f4ae47e52d4df60434c11"
       ],
       "data": {
        "id": "8dec09bf583b493c71b0b3ee314034fe",
        "parent": "e1cc7cee093f4ae47e52d4df60434c11",
        "source": "e1cc7cee093f4ae47e52d4df60434c11-3",
        "target": "e1cc7cee093f4ae47e52d4df60434c11-6"
       },
       "group": "edges"
      }
     },
     "6544b6c349d345bdeec15d92e54770d8": {
      "model_module": "cytoscape-clj",
      "model_module_version": "^0.2.15",
      "model_name": "ElementModel",
      "state": {
       "_model_module_version": "^0.2.15",
       "_view_module_version": "^0.2.15",
       "classes": [
        "af3d5ca47ddf4cc2112dd6e5c13a3ae5"
       ],
       "data": {
        "id": "c6ca1c9f7265479568329d913e3352c2",
        "parent": "af3d5ca47ddf4cc2112dd6e5c13a3ae5",
        "source": "af3d5ca47ddf4cc2112dd6e5c13a3ae5-0",
        "target": "af3d5ca47ddf4cc2112dd6e5c13a3ae5-6"
       },
       "group": "edges"
      }
     },
     "65b8548cb2794c295c2fc2b0e60361d9": {
      "model_module": "cytoscape-clj",
      "model_module_version": "^0.2.15",
      "model_name": "ElementModel",
      "state": {
       "_model_module_version": "^0.2.15",
       "_view_module_version": "^0.2.15",
       "classes": [
        "d6d0f6d47acc476a6fe332245c739f3f",
        "child"
       ],
       "data": {
        "id": "d6d0f6d47acc476a6fe332245c739f3f-1",
        "name": "1",
        "parent": "d6d0f6d47acc476a6fe332245c739f3f"
       },
       "position": {
        "x": 1233.8197778961635,
        "y": 75.18122377695195
       }
      }
     },
     "66988210c7974b18f3a789c8fa22bbd1": {
      "model_module": "cytoscape-clj",
      "model_module_version": "^0.2.15",
      "model_name": "ElementModel",
      "state": {
       "_model_module_version": "^0.2.15",
       "_view_module_version": "^0.2.15",
       "classes": [
        "fe6235b6a3b14dbdee22cda9dc8d8224"
       ],
       "data": {
        "id": "241babfca9ab442a18aa1f16189aa189",
        "parent": "fe6235b6a3b14dbdee22cda9dc8d8224",
        "source": "fe6235b6a3b14dbdee22cda9dc8d8224-4",
        "target": "fe6235b6a3b14dbdee22cda9dc8d8224-6"
       },
       "group": "edges"
      }
     },
     "66e91542afd944d417f3eb7e7311f452": {
      "model_module": "cytoscape-clj",
      "model_module_version": "^0.2.15",
      "model_name": "ElementModel",
      "state": {
       "_model_module_version": "^0.2.15",
       "_view_module_version": "^0.2.15",
       "classes": [
        "e1cc7cee093f4ae47e52d4df60434c11",
        "child"
       ],
       "data": {
        "id": "e1cc7cee093f4ae47e52d4df60434c11-2",
        "name": "2",
        "parent": "e1cc7cee093f4ae47e52d4df60434c11"
       },
       "position": {
        "x": 1232.4534338584867,
        "y": 660.0720921288644
       }
      }
     },
     "66ef7041beab4994341135350c36bcae": {
      "model_module": "cytoscape-clj",
      "model_module_version": "^0.2.15",
      "model_name": "ElementModel",
      "state": {
       "_model_module_version": "^0.2.15",
       "_view_module_version": "^0.2.15",
       "classes": [
        "af3d5ca47ddf4cc2112dd6e5c13a3ae5"
       ],
       "data": {
        "id": "38d32c88d6c44862edb4bba677e880c5",
        "parent": "af3d5ca47ddf4cc2112dd6e5c13a3ae5",
        "source": "af3d5ca47ddf4cc2112dd6e5c13a3ae5-5",
        "target": "af3d5ca47ddf4cc2112dd6e5c13a3ae5-3"
       },
       "group": "edges"
      }
     },
     "67256259e0354e19d4e7e9ed33ce3107": {
      "model_module": "cytoscape-clj",
      "model_module_version": "^0.2.15",
      "model_name": "ElementModel",
      "state": {
       "_model_module_version": "^0.2.15",
       "_view_module_version": "^0.2.15",
       "classes": [
        "84823821823043b18a7eafeb08670384"
       ],
       "data": {
        "id": "876a7bbaf65647a9f8f85b08d771f303",
        "parent": "84823821823043b18a7eafeb08670384",
        "source": "84823821823043b18a7eafeb08670384-0",
        "target": "84823821823043b18a7eafeb08670384-6"
       },
       "group": "edges"
      }
     },
     "6790ada227b747c3813509d430fb722d": {
      "model_module": "cytoscape-clj",
      "model_module_version": "^0.2.15",
      "model_name": "ElementModel",
      "state": {
       "_model_module_version": "^0.2.15",
       "_view_module_version": "^0.2.15",
       "classes": [
        "84823821823043b18a7eafeb08670384"
       ],
       "data": {
        "id": "8bf933ba62f648c774ed6f613fd51880",
        "parent": "84823821823043b18a7eafeb08670384",
        "source": "84823821823043b18a7eafeb08670384-3",
        "target": "84823821823043b18a7eafeb08670384-1"
       },
       "group": "edges"
      }
     },
     "6857c723c9554bd327d4417f5327d98e": {
      "model_module": "cytoscape-clj",
      "model_module_version": "^0.2.15",
      "model_name": "ElementModel",
      "state": {
       "_model_module_version": "^0.2.15",
       "_view_module_version": "^0.2.15",
       "classes": [
        "e1cc7cee093f4ae47e52d4df60434c11"
       ],
       "data": {
        "id": "60bf6804fcfd4129ba1f939deb46138d",
        "parent": "e1cc7cee093f4ae47e52d4df60434c11",
        "source": "e1cc7cee093f4ae47e52d4df60434c11-1",
        "target": "e1cc7cee093f4ae47e52d4df60434c11-6"
       },
       "group": "edges"
      }
     },
     "6a2d73a8d8434b1f5f2bd6b44b5b27ad": {
      "model_module": "cytoscape-clj",
      "model_module_version": "^0.2.15",
      "model_name": "ElementModel",
      "state": {
       "_model_module_version": "^0.2.15",
       "_view_module_version": "^0.2.15",
       "classes": [
        "e1cc7cee093f4ae47e52d4df60434c11"
       ],
       "data": {
        "id": "40ce1f96e1524777050909e8a20902d5",
        "parent": "e1cc7cee093f4ae47e52d4df60434c11",
        "source": "e1cc7cee093f4ae47e52d4df60434c11-4",
        "target": "e1cc7cee093f4ae47e52d4df60434c11-3"
       },
       "group": "edges"
      }
     },
     "6ae83c6baf984dc00ab3e7238d2fac39": {
      "model_module": "cytoscape-clj",
      "model_module_version": "^0.2.15",
      "model_name": "ElementModel",
      "state": {
       "_model_module_version": "^0.2.15",
       "_view_module_version": "^0.2.15",
       "classes": [
        "af3d5ca47ddf4cc2112dd6e5c13a3ae5"
       ],
       "data": {
        "id": "af3d5ca47ddf4cc2112dd6e5c13a3ae5",
        "name": "breadth-first-layout"
       }
      }
     },
     "6b23b7254b7c4627cd0d972ec8b4ff98": {
      "model_module": "cytoscape-clj",
      "model_module_version": "^0.2.15",
      "model_name": "ElementModel",
      "state": {
       "_model_module_version": "^0.2.15",
       "_view_module_version": "^0.2.15",
       "classes": [
        "d6d0f6d47acc476a6fe332245c739f3f"
       ],
       "data": {
        "id": "2ef60100dbd346557adf15aa1fb4328f",
        "parent": "d6d0f6d47acc476a6fe332245c739f3f",
        "source": "d6d0f6d47acc476a6fe332245c739f3f-4",
        "target": "d6d0f6d47acc476a6fe332245c739f3f-3"
       },
       "group": "edges"
      }
     },
     "6c1434088eba456e760d1dd0f09aef73": {
      "model_module": "cytoscape-clj",
      "model_module_version": "^0.2.15",
      "model_name": "ElementModel",
      "state": {
       "_model_module_version": "^0.2.15",
       "_view_module_version": "^0.2.15",
       "classes": [
        "f236591b3d3148216ee9d1b86f00cc2c",
        "child"
       ],
       "data": {
        "id": "f236591b3d3148216ee9d1b86f00cc2c-4",
        "name": "4",
        "parent": "f236591b3d3148216ee9d1b86f00cc2c"
       },
       "position": {
        "x": 505,
        "y": 68
       }
      }
     },
     "6dabc96cf35440cf8d3dd42cca17218b": {
      "model_module": "cytoscape-clj",
      "model_module_version": "^0.2.15",
      "model_name": "ElementModel",
      "state": {
       "_model_module_version": "^0.2.15",
       "_view_module_version": "^0.2.15",
       "classes": [
        "f236591b3d3148216ee9d1b86f00cc2c"
       ],
       "data": {
        "id": "02a5978d0fc949c6b66560be8dc874b8",
        "parent": "f236591b3d3148216ee9d1b86f00cc2c",
        "source": "f236591b3d3148216ee9d1b86f00cc2c-5",
        "target": "f236591b3d3148216ee9d1b86f00cc2c-3"
       },
       "group": "edges"
      }
     },
     "6fc1672d090047e5cf93b03eb461ae23": {
      "model_module": "cytoscape-clj",
      "model_module_version": "^0.2.15",
      "model_name": "ElementModel",
      "state": {
       "_model_module_version": "^0.2.15",
       "_view_module_version": "^0.2.15",
       "classes": [
        "f236591b3d3148216ee9d1b86f00cc2c"
       ],
       "data": {
        "id": "42ff986c1991420bc717030b45b3cde2",
        "parent": "f236591b3d3148216ee9d1b86f00cc2c",
        "source": "f236591b3d3148216ee9d1b86f00cc2c-2",
        "target": "f236591b3d3148216ee9d1b86f00cc2c-6"
       },
       "group": "edges"
      }
     },
     "70873b276c9c4e067efc2b8ffb8537ea": {
      "model_module": "cytoscape-clj",
      "model_module_version": "^0.2.15",
      "model_name": "ElementModel",
      "state": {
       "_model_module_version": "^0.2.15",
       "_view_module_version": "^0.2.15",
       "classes": [
        "e1cc7cee093f4ae47e52d4df60434c11"
       ],
       "data": {
        "id": "b7da31e4d442455847e0a3a70dac1321",
        "parent": "e1cc7cee093f4ae47e52d4df60434c11",
        "source": "e1cc7cee093f4ae47e52d4df60434c11-1",
        "target": "e1cc7cee093f4ae47e52d4df60434c11-5"
       },
       "group": "edges"
      }
     },
     "70be8244e540467fca17117889352a1d": {
      "model_module": "cytoscape-clj",
      "model_module_version": "^0.2.15",
      "model_name": "ElementModel",
      "state": {
       "_model_module_version": "^0.2.15",
       "_view_module_version": "^0.2.15",
       "classes": [
        "e1cc7cee093f4ae47e52d4df60434c11"
       ],
       "data": {
        "id": "55c18c97d8a644e998142a68e7575d8e",
        "parent": "e1cc7cee093f4ae47e52d4df60434c11",
        "source": "e1cc7cee093f4ae47e52d4df60434c11-0",
        "target": "e1cc7cee093f4ae47e52d4df60434c11-5"
       },
       "group": "edges"
      }
     },
     "721c7a43f2b843a3692d257d9c21655b": {
      "model_module": "cytoscape-clj",
      "model_module_version": "^0.2.15",
      "model_name": "ElementModel",
      "state": {
       "_model_module_version": "^0.2.15",
       "_view_module_version": "^0.2.15",
       "classes": [
        "e1cc7cee093f4ae47e52d4df60434c11"
       ],
       "data": {
        "id": "462e87aa007b49e79339898c4abd8005",
        "parent": "e1cc7cee093f4ae47e52d4df60434c11",
        "source": "e1cc7cee093f4ae47e52d4df60434c11-5",
        "target": "e1cc7cee093f4ae47e52d4df60434c11-3"
       },
       "group": "edges"
      }
     },
     "72b2ad4fe9204d68e848db1b3ad22e74": {
      "model_module": "cytoscape-clj",
      "model_module_version": "^0.2.15",
      "model_name": "ElementModel",
      "state": {
       "_model_module_version": "^0.2.15",
       "_view_module_version": "^0.2.15",
       "classes": [
        "84823821823043b18a7eafeb08670384"
       ],
       "data": {
        "id": "252eadfb03f34aa28435a59f373f90f7",
        "parent": "84823821823043b18a7eafeb08670384",
        "source": "84823821823043b18a7eafeb08670384-3",
        "target": "84823821823043b18a7eafeb08670384-6"
       },
       "group": "edges"
      }
     },
     "7326d7404ee24e9177d109aff9f5f34e": {
      "model_module": "cytoscape-clj",
      "model_module_version": "^0.2.15",
      "model_name": "ElementModel",
      "state": {
       "_model_module_version": "^0.2.15",
       "_view_module_version": "^0.2.15",
       "classes": [
        "f236591b3d3148216ee9d1b86f00cc2c"
       ],
       "data": {
        "id": "d3307d8c12e34c14de5b8816c21bc052",
        "parent": "f236591b3d3148216ee9d1b86f00cc2c",
        "source": "f236591b3d3148216ee9d1b86f00cc2c-3",
        "target": "f236591b3d3148216ee9d1b86f00cc2c-1"
       },
       "group": "edges"
      }
     },
     "73554f5799a248bc4ee4046ef20f5e5f": {
      "model_module": "cytoscape-clj",
      "model_module_version": "^0.2.15",
      "model_name": "ElementModel",
      "state": {
       "_model_module_version": "^0.2.15",
       "_view_module_version": "^0.2.15",
       "classes": [
        "f236591b3d3148216ee9d1b86f00cc2c"
       ],
       "data": {
        "id": "1169bec0a4884e1e2152e9b7bc2e4fe3",
        "parent": "f236591b3d3148216ee9d1b86f00cc2c",
        "source": "f236591b3d3148216ee9d1b86f00cc2c-1",
        "target": "f236591b3d3148216ee9d1b86f00cc2c-6"
       },
       "group": "edges"
      }
     },
     "73cf4c04f48243a6f2bc1261393772d4": {
      "model_module": "cytoscape-clj",
      "model_module_version": "^0.2.15",
      "model_name": "ElementModel",
      "state": {
       "_model_module_version": "^0.2.15",
       "_view_module_version": "^0.2.15",
       "classes": [
        "00e54a84b501419260ed6abae2ef020a"
       ],
       "data": {
        "id": "eaeb61c2f87e41376776ba744b4ad33e",
        "parent": "00e54a84b501419260ed6abae2ef020a",
        "source": "00e54a84b501419260ed6abae2ef020a-1",
        "target": "00e54a84b501419260ed6abae2ef020a-5"
       },
       "group": "edges"
      }
     },
     "73f2a0a24f564781f05e9a6aa368747b": {
      "model_module": "cytoscape-clj",
      "model_module_version": "^0.2.15",
      "model_name": "ElementModel",
      "state": {
       "_model_module_version": "^0.2.15",
       "_view_module_version": "^0.2.15",
       "classes": [
        "f236591b3d3148216ee9d1b86f00cc2c",
        "child"
       ],
       "data": {
        "id": "f236591b3d3148216ee9d1b86f00cc2c-2",
        "name": "2",
        "parent": "f236591b3d3148216ee9d1b86f00cc2c"
       },
       "position": {
        "x": 530,
        "y": 215
       }
      }
     },
     "74a6f758fc5e4cece2bf2d15bb687eb9": {
      "model_module": "cytoscape-clj",
      "model_module_version": "^0.2.15",
      "model_name": "ElementModel",
      "state": {
       "_model_module_version": "^0.2.15",
       "_view_module_version": "^0.2.15",
       "classes": [
        "84823821823043b18a7eafeb08670384"
       ],
       "data": {
        "id": "bbd26d25d7c845a3da901aaa9e866da5",
        "parent": "84823821823043b18a7eafeb08670384",
        "source": "84823821823043b18a7eafeb08670384-5",
        "target": "84823821823043b18a7eafeb08670384-6"
       },
       "group": "edges"
      }
     },
     "74b6d9505bde477524d00eeb11ce6d10": {
      "model_module": "cytoscape-clj",
      "model_module_version": "^0.2.15",
      "model_name": "ElementModel",
      "state": {
       "_model_module_version": "^0.2.15",
       "_view_module_version": "^0.2.15",
       "classes": [
        "84823821823043b18a7eafeb08670384"
       ],
       "data": {
        "id": "b4d8b138da5b4954c89076a511544bbe",
        "parent": "84823821823043b18a7eafeb08670384",
        "source": "84823821823043b18a7eafeb08670384-1",
        "target": "84823821823043b18a7eafeb08670384-5"
       },
       "group": "edges"
      }
     },
     "784cb01250e34c80d7779b5e10e0cb25": {
      "model_module": "cytoscape-clj",
      "model_module_version": "^0.2.15",
      "model_name": "BreadthFirstLayoutModel",
      "state": {
       "_model_module_version": "^0.2.15",
       "_view_module_version": "^0.2.15",
       "animate": true,
       "animation_duration": 250,
       "bounding_box": {
        "h": 300,
        "w": 300,
        "x1": 0,
        "y1": 0
       },
       "fit": false,
       "selector": ".af3d5ca47ddf4cc2112dd6e5c13a3ae5",
       "spacing_factor": null
      }
     },
     "789585f91ad24df52c465e6a0f6dd870": {
      "model_module": "cytoscape-clj",
      "model_module_version": "^0.2.15",
      "model_name": "ElementModel",
      "state": {
       "_model_module_version": "^0.2.15",
       "_view_module_version": "^0.2.15",
       "classes": [
        "e967a0b30dc84d5ba044464cb9da4724"
       ],
       "data": {
        "id": "1fbb380304124c3df7f7924af0b5e616",
        "parent": "e967a0b30dc84d5ba044464cb9da4724",
        "source": "e967a0b30dc84d5ba044464cb9da4724-0",
        "target": "e967a0b30dc84d5ba044464cb9da4724-6"
       },
       "group": "edges"
      }
     },
     "7954d3d0caa44c1869953c138ac953f5": {
      "model_module": "cytoscape-clj",
      "model_module_version": "^0.2.15",
      "model_name": "ElementModel",
      "state": {
       "_model_module_version": "^0.2.15",
       "_view_module_version": "^0.2.15",
       "classes": [
        "fe6235b6a3b14dbdee22cda9dc8d8224",
        "child"
       ],
       "data": {
        "id": "fe6235b6a3b14dbdee22cda9dc8d8224-4",
        "name": "4",
        "parent": "fe6235b6a3b14dbdee22cda9dc8d8224"
       },
       "position": {
        "x": 500.1023437203393,
        "y": 330
       }
      }
     },
     "7a75a68dd76249eb788bb7e465cd0f6f": {
      "model_module": "cytoscape-clj",
      "model_module_version": "^0.2.15",
      "model_name": "ElementModel",
      "state": {
       "_model_module_version": "^0.2.15",
       "_view_module_version": "^0.2.15",
       "classes": [
        "84823821823043b18a7eafeb08670384",
        "child"
       ],
       "data": {
        "id": "84823821823043b18a7eafeb08670384-1",
        "name": "1",
        "parent": "84823821823043b18a7eafeb08670384"
       },
       "position": {
        "x": 1290,
        "y": 405
       }
      }
     },
     "7b7879b29ce54be8497d67bea924c54e": {
      "model_module": "cytoscape-clj",
      "model_module_version": "^0.2.15",
      "model_name": "ElementModel",
      "state": {
       "_model_module_version": "^0.2.15",
       "_view_module_version": "^0.2.15",
       "classes": [
        "af3d5ca47ddf4cc2112dd6e5c13a3ae5",
        "child"
       ],
       "data": {
        "id": "af3d5ca47ddf4cc2112dd6e5c13a3ae5-2",
        "name": "2",
        "parent": "af3d5ca47ddf4cc2112dd6e5c13a3ae5"
       },
       "position": {
        "x": 128.57142857142858,
        "y": 225
       }
      }
     },
     "7b8ba2197ccb49466820bc6448f0fe94": {
      "model_module": "cytoscape-clj",
      "model_module_version": "^0.2.15",
      "model_name": "ElementModel",
      "state": {
       "_model_module_version": "^0.2.15",
       "_view_module_version": "^0.2.15",
       "classes": [
        "af3d5ca47ddf4cc2112dd6e5c13a3ae5"
       ],
       "data": {
        "id": "3dbdf6e392a44933222ed08d660b0935",
        "parent": "af3d5ca47ddf4cc2112dd6e5c13a3ae5",
        "source": "af3d5ca47ddf4cc2112dd6e5c13a3ae5-0",
        "target": "af3d5ca47ddf4cc2112dd6e5c13a3ae5-1"
       },
       "group": "edges"
      }
     },
     "7d16457cb7de42fa0848f6e6d555afa5": {
      "model_module": "cytoscape-clj",
      "model_module_version": "^0.2.15",
      "model_name": "ElementModel",
      "state": {
       "_model_module_version": "^0.2.15",
       "_view_module_version": "^0.2.15",
       "classes": [
        "af3d5ca47ddf4cc2112dd6e5c13a3ae5"
       ],
       "data": {
        "id": "d3c5b29e9608423630f33abd5cf7e402",
        "parent": "af3d5ca47ddf4cc2112dd6e5c13a3ae5",
        "source": "af3d5ca47ddf4cc2112dd6e5c13a3ae5-4",
        "target": "af3d5ca47ddf4cc2112dd6e5c13a3ae5-3"
       },
       "group": "edges"
      }
     },
     "7d1fd46e3b0e44a26e841a57a44b200c": {
      "model_module": "cytoscape-clj",
      "model_module_version": "^0.2.15",
      "model_name": "ElementModel",
      "state": {
       "_model_module_version": "^0.2.15",
       "_view_module_version": "^0.2.15",
       "classes": [
        "af3d5ca47ddf4cc2112dd6e5c13a3ae5",
        "child"
       ],
       "data": {
        "id": "af3d5ca47ddf4cc2112dd6e5c13a3ae5-1",
        "name": "1",
        "parent": "af3d5ca47ddf4cc2112dd6e5c13a3ae5"
       },
       "position": {
        "x": 85.71428571428572,
        "y": 225
       }
      }
     },
     "7dcb071a78424fa18e7ccc3760ad6ee0": {
      "model_module": "cytoscape-clj",
      "model_module_version": "^0.2.15",
      "model_name": "ElementModel",
      "state": {
       "_model_module_version": "^0.2.15",
       "_view_module_version": "^0.2.15",
       "classes": [
        "e967a0b30dc84d5ba044464cb9da4724",
        "child"
       ],
       "data": {
        "id": "e967a0b30dc84d5ba044464cb9da4724-1",
        "name": "1",
        "parent": "e967a0b30dc84d5ba044464cb9da4724"
       },
       "position": {
        "x": 178.2842712474619,
        "y": 480
       }
      }
     },
     "7de53e9795a542507ed4d46632beb30d": {
      "model_module": "cytoscape-clj",
      "model_module_version": "^0.2.15",
      "model_name": "ColaLayoutModel",
      "state": {
       "_model_module_version": "^0.2.15",
       "_view_module_version": "^0.2.15",
       "bounding_box": {
        "h": 300,
        "w": 300,
        "x1": 660,
        "x2": 960,
        "y1": 330,
        "y2": 630
       },
       "fit": false,
       "handle_disconnected": false,
       "selector": ".e1cc7cee093f4ae47e52d4df60434c11",
       "unconst_iter": null,
       "ungrabify_while_simulating": false
      }
     },
     "7ff9d80c65a347ca8d729af831aa5f78": {
      "model_module": "cytoscape-clj",
      "model_module_version": "^0.2.15",
      "model_name": "ElementModel",
      "state": {
       "_model_module_version": "^0.2.15",
       "_view_module_version": "^0.2.15",
       "classes": [
        "f236591b3d3148216ee9d1b86f00cc2c"
       ],
       "data": {
        "id": "26802fe9094642e7a6d5dfc10ade9b06",
        "parent": "f236591b3d3148216ee9d1b86f00cc2c",
        "source": "f236591b3d3148216ee9d1b86f00cc2c-1",
        "target": "f236591b3d3148216ee9d1b86f00cc2c-5"
       },
       "group": "edges"
      }
     },
     "811fb6ac038c4b1ff657ff6b9185257a": {
      "model_module": "cytoscape-clj",
      "model_module_version": "^0.2.15",
      "model_name": "ElementModel",
      "state": {
       "_model_module_version": "^0.2.15",
       "_view_module_version": "^0.2.15",
       "classes": [
        "e967a0b30dc84d5ba044464cb9da4724"
       ],
       "data": {
        "id": "631c3d98128d49074a4ee97bf01022c7",
        "parent": "e967a0b30dc84d5ba044464cb9da4724",
        "source": "e967a0b30dc84d5ba044464cb9da4724-3",
        "target": "e967a0b30dc84d5ba044464cb9da4724-6"
       },
       "group": "edges"
      }
     },
     "8520f26bf7a3491654d35354d7dbeb6e": {
      "model_module": "cytoscape-clj",
      "model_module_version": "^0.2.15",
      "model_name": "CytoscapeStyleModel",
      "state": {
       "_model_module_version": "^0.2.15"
      }
     },
     "860fcb33b3974d700fb0be11c9268464": {
      "model_module": "cytoscape-clj",
      "model_module_version": "^0.2.15",
      "model_name": "CircleLayoutModel",
      "state": {
       "_model_module_version": "^0.2.15",
       "_view_module_version": "^0.2.15",
       "animate": true,
       "animation_duration": 250,
       "bounding_box": {
        "h": 300,
        "w": 300,
        "x1": 990,
        "y1": 0
       },
       "fit": false,
       "selector": ".d6d0f6d47acc476a6fe332245c739f3f"
      }
     },
     "870f7988e54c44292f1867c90899ff0c": {
      "model_module": "cytoscape-clj",
      "model_module_version": "^0.2.15",
      "model_name": "ElementModel",
      "state": {
       "_model_module_version": "^0.2.15",
       "_view_module_version": "^0.2.15",
       "classes": [
        "d6d0f6d47acc476a6fe332245c739f3f",
        "child"
       ],
       "data": {
        "id": "d6d0f6d47acc476a6fe332245c739f3f-6",
        "name": "6",
        "parent": "d6d0f6d47acc476a6fe332245c739f3f"
       },
       "position": {
        "x": 1046.1802221038365,
        "y": 75.18122377695201
       }
      }
     },
     "88ebbd2c1e094770d6188f3f667a6674": {
      "model_module": "cytoscape-clj",
      "model_module_version": "^0.2.15",
      "model_name": "ElementModel",
      "state": {
       "_model_module_version": "^0.2.15",
       "_view_module_version": "^0.2.15",
       "classes": [
        "fe6235b6a3b14dbdee22cda9dc8d8224"
       ],
       "data": {
        "id": "e88478e3fb6348e3a5ad43b3fe898659",
        "parent": "fe6235b6a3b14dbdee22cda9dc8d8224",
        "source": "fe6235b6a3b14dbdee22cda9dc8d8224-3",
        "target": "fe6235b6a3b14dbdee22cda9dc8d8224-1"
       },
       "group": "edges"
      }
     },
     "894663cdb66a4be1f02447a56ed13fe9": {
      "model_module": "cytoscape-clj",
      "model_module_version": "^0.2.15",
      "model_name": "ElementModel",
      "state": {
       "_model_module_version": "^0.2.15",
       "_view_module_version": "^0.2.15",
       "classes": [
        "00e54a84b501419260ed6abae2ef020a"
       ],
       "data": {
        "id": "b59774ba81be4d58cf3c12bbf0ca4890",
        "parent": "00e54a84b501419260ed6abae2ef020a",
        "source": "00e54a84b501419260ed6abae2ef020a-0",
        "target": "00e54a84b501419260ed6abae2ef020a-1"
       },
       "group": "edges"
      }
     },
     "8952b53114174a91335629ce576b5a02": {
      "model_module": "cytoscape-clj",
      "model_module_version": "^0.2.15",
      "model_name": "ElementModel",
      "state": {
       "_model_module_version": "^0.2.15",
       "_view_module_version": "^0.2.15",
       "classes": [
        "fe6235b6a3b14dbdee22cda9dc8d8224"
       ],
       "data": {
        "id": "cad358ffa0384eef1d064c9efb8c29ec",
        "parent": "fe6235b6a3b14dbdee22cda9dc8d8224",
        "source": "fe6235b6a3b14dbdee22cda9dc8d8224-2",
        "target": "fe6235b6a3b14dbdee22cda9dc8d8224-3"
       },
       "group": "edges"
      }
     },
     "899d61d3552540a7c19f6bb864f31ea5": {
      "model_module": "cytoscape-clj",
      "model_module_version": "^0.2.15",
      "model_name": "ElementModel",
      "state": {
       "_model_module_version": "^0.2.15",
       "_view_module_version": "^0.2.15",
       "classes": [
        "af3d5ca47ddf4cc2112dd6e5c13a3ae5"
       ],
       "data": {
        "id": "55f7fd1a72174a7af7272f0adaee5b72",
        "parent": "af3d5ca47ddf4cc2112dd6e5c13a3ae5",
        "source": "af3d5ca47ddf4cc2112dd6e5c13a3ae5-3",
        "target": "af3d5ca47ddf4cc2112dd6e5c13a3ae5-6"
       },
       "group": "edges"
      }
     },
     "8b735e36a1a740408487c81829c0f57c": {
      "model_module": "cytoscape-clj",
      "model_module_version": "^0.2.15",
      "model_name": "ElementModel",
      "state": {
       "_model_module_version": "^0.2.15",
       "_view_module_version": "^0.2.15",
       "classes": [
        "f236591b3d3148216ee9d1b86f00cc2c"
       ],
       "data": {
        "id": "3d099effc36644223f6012b481cf7573",
        "parent": "f236591b3d3148216ee9d1b86f00cc2c",
        "source": "f236591b3d3148216ee9d1b86f00cc2c-4",
        "target": "f236591b3d3148216ee9d1b86f00cc2c-5"
       },
       "group": "edges"
      }
     },
     "8d3c2283ddd748e9814dba2b3f2b1b58": {
      "model_module": "cytoscape-clj",
      "model_module_version": "^0.2.15",
      "model_name": "ElementModel",
      "state": {
       "_model_module_version": "^0.2.15",
       "_view_module_version": "^0.2.15",
       "classes": [
        "e967a0b30dc84d5ba044464cb9da4724"
       ],
       "data": {
        "id": "6f42f13045b641a25a7778825e0550c4",
        "parent": "e967a0b30dc84d5ba044464cb9da4724",
        "source": "e967a0b30dc84d5ba044464cb9da4724-0",
        "target": "e967a0b30dc84d5ba044464cb9da4724-1"
       },
       "group": "edges"
      }
     },
     "8ee6a4922ad440e493770df5ea5483bb": {
      "model_module": "cytoscape-clj",
      "model_module_version": "^0.2.15",
      "model_name": "ElementModel",
      "state": {
       "_model_module_version": "^0.2.15",
       "_view_module_version": "^0.2.15",
       "classes": [
        "00e54a84b501419260ed6abae2ef020a"
       ],
       "data": {
        "id": "00e54a84b501419260ed6abae2ef020a",
        "name": "grid-layout"
       }
      }
     },
     "8f9f5e2deafe4d5c73a92756caab807b": {
      "model_module": "cytoscape-clj",
      "model_module_version": "^0.2.15",
      "model_name": "ElementModel",
      "state": {
       "_model_module_version": "^0.2.15",
       "_view_module_version": "^0.2.15",
       "classes": [
        "e967a0b30dc84d5ba044464cb9da4724",
        "child"
       ],
       "data": {
        "id": "e967a0b30dc84d5ba044464cb9da4724-3",
        "name": "3",
        "parent": "e967a0b30dc84d5ba044464cb9da4724"
       },
       "position": {
        "x": 150,
        "y": 508.2842712474619
       }
      }
     },
     "94f94f00e62d4af4977fba9953273e47": {
      "model_module": "cytoscape-clj",
      "model_module_version": "^0.2.15",
      "model_name": "ElementModel",
      "state": {
       "_model_module_version": "^0.2.15",
       "_view_module_version": "^0.2.15",
       "classes": [
        "e967a0b30dc84d5ba044464cb9da4724"
       ],
       "data": {
        "id": "dce6651e0f6b4bd98564b60262dc3fe2",
        "parent": "e967a0b30dc84d5ba044464cb9da4724",
        "source": "e967a0b30dc84d5ba044464cb9da4724-3",
        "target": "e967a0b30dc84d5ba044464cb9da4724-1"
       },
       "group": "edges"
      }
     },
     "952478b24a354d8180b7126bb7cbed9a": {
      "model_module": "cytoscape-clj",
      "model_module_version": "^0.2.15",
      "model_name": "ElementModel",
      "state": {
       "_model_module_version": "^0.2.15",
       "_view_module_version": "^0.2.15",
       "classes": [
        "00e54a84b501419260ed6abae2ef020a",
        "child"
       ],
       "data": {
        "id": "00e54a84b501419260ed6abae2ef020a-0",
        "name": "0",
        "parent": "00e54a84b501419260ed6abae2ef020a"
       },
       "position": {
        "x": 710,
        "y": 50
       }
      }
     },
     "95445df6eeea4cce7b3724e201869283": {
      "model_module": "cytoscape-clj",
      "model_module_version": "^0.2.15",
      "model_name": "ElementModel",
      "state": {
       "_model_module_version": "^0.2.15",
       "_view_module_version": "^0.2.15",
       "classes": [
        "e967a0b30dc84d5ba044464cb9da4724",
        "child"
       ],
       "data": {
        "id": "e967a0b30dc84d5ba044464cb9da4724-5",
        "name": "5",
        "parent": "e967a0b30dc84d5ba044464cb9da4724"
       },
       "position": {
        "x": 121.7157287525381,
        "y": 480
       }
      }
     },
     "960c14b5b8a14a62bf77fb710236944d": {
      "model_module": "cytoscape-clj",
      "model_module_version": "^0.2.15",
      "model_name": "ElementModel",
      "state": {
       "_model_module_version": "^0.2.15",
       "_view_module_version": "^0.2.15",
       "classes": [
        "f236591b3d3148216ee9d1b86f00cc2c"
       ],
       "data": {
        "id": "4608be03decf4aa1a4104dd8c0062fde",
        "parent": "f236591b3d3148216ee9d1b86f00cc2c",
        "source": "f236591b3d3148216ee9d1b86f00cc2c-0",
        "target": "f236591b3d3148216ee9d1b86f00cc2c-1"
       },
       "group": "edges"
      }
     },
     "96cf2e9d2bb74f3265fe5650fde01949": {
      "model_module": "cytoscape-clj",
      "model_module_version": "^0.2.15",
      "model_name": "ElementModel",
      "state": {
       "_model_module_version": "^0.2.15",
       "_view_module_version": "^0.2.15",
       "classes": [
        "fe6235b6a3b14dbdee22cda9dc8d8224"
       ],
       "data": {
        "id": "711c4c7908d44bb4f198b3f5583a1921",
        "parent": "fe6235b6a3b14dbdee22cda9dc8d8224",
        "source": "fe6235b6a3b14dbdee22cda9dc8d8224-0",
        "target": "fe6235b6a3b14dbdee22cda9dc8d8224-6"
       },
       "group": "edges"
      }
     },
     "9b1ec4b011314eadd0727008b6ec5205": {
      "model_module": "@jupyter-widgets/base",
      "model_module_version": "1.2.0",
      "model_name": "LayoutModel",
      "state": {
       "height": "640px"
      }
     },
     "9b800663f5a44aadccb5f51fcc047a3e": {
      "model_module": "cytoscape-clj",
      "model_module_version": "^0.2.15",
      "model_name": "ElementModel",
      "state": {
       "_model_module_version": "^0.2.15",
       "_view_module_version": "^0.2.15",
       "classes": [
        "d6d0f6d47acc476a6fe332245c739f3f"
       ],
       "data": {
        "id": "21478753a1924328b89f2c28aa89c2b3",
        "parent": "d6d0f6d47acc476a6fe332245c739f3f",
        "source": "d6d0f6d47acc476a6fe332245c739f3f-4",
        "target": "d6d0f6d47acc476a6fe332245c739f3f-5"
       },
       "group": "edges"
      }
     },
     "a1e1877168b94a416c03848e669cb141": {
      "model_module": "cytoscape-clj",
      "model_module_version": "^0.2.15",
      "model_name": "ElementModel",
      "state": {
       "_model_module_version": "^0.2.15",
       "_view_module_version": "^0.2.15",
       "classes": [
        "e1cc7cee093f4ae47e52d4df60434c11",
        "child"
       ],
       "data": {
        "id": "e1cc7cee093f4ae47e52d4df60434c11-3",
        "name": "3",
        "parent": "e1cc7cee093f4ae47e52d4df60434c11"
       },
       "position": {
        "x": 1382.4534368584868,
        "y": 633.9411573904767
       }
      }
     },
     "a27e218aa5164ead118f4ee4abc726ab": {
      "model_module": "cytoscape-clj",
      "model_module_version": "^0.2.15",
      "model_name": "ElementModel",
      "state": {
       "_model_module_version": "^0.2.15",
       "_view_module_version": "^0.2.15",
       "classes": [
        "00e54a84b501419260ed6abae2ef020a",
        "child"
       ],
       "data": {
        "id": "00e54a84b501419260ed6abae2ef020a-6",
        "name": "6",
        "parent": "00e54a84b501419260ed6abae2ef020a"
       },
       "position": {
        "x": 710,
        "y": 250
       }
      }
     },
     "a469f900ef3c4c25d2bea10974626299": {
      "model_module": "cytoscape-clj",
      "model_module_version": "^0.2.15",
      "model_name": "ElementModel",
      "state": {
       "_model_module_version": "^0.2.15",
       "_view_module_version": "^0.2.15",
       "classes": [
        "f236591b3d3148216ee9d1b86f00cc2c",
        "child"
       ],
       "data": {
        "id": "f236591b3d3148216ee9d1b86f00cc2c-6",
        "name": "6",
        "parent": "f236591b3d3148216ee9d1b86f00cc2c"
       },
       "position": {
        "x": 345,
        "y": 95
       }
      }
     },
     "a732b90e37934fde201e8fc4dce64249": {
      "model_module": "cytoscape-clj",
      "model_module_version": "^0.2.15",
      "model_name": "ElementModel",
      "state": {
       "_model_module_version": "^0.2.15",
       "_view_module_version": "^0.2.15",
       "classes": [
        "00e54a84b501419260ed6abae2ef020a"
       ],
       "data": {
        "id": "3f1e4722e06c4e5844e932a2d8531c1b",
        "parent": "00e54a84b501419260ed6abae2ef020a",
        "source": "00e54a84b501419260ed6abae2ef020a-2",
        "target": "00e54a84b501419260ed6abae2ef020a-1"
       },
       "group": "edges"
      }
     },
     "a82aaafcee8f4b476a561f5548c01b1e": {
      "model_module": "cytoscape-clj",
      "model_module_version": "^0.2.15",
      "model_name": "ElementModel",
      "state": {
       "_model_module_version": "^0.2.15",
       "_view_module_version": "^0.2.15",
       "classes": [
        "84823821823043b18a7eafeb08670384"
       ],
       "data": {
        "id": "b754a1882a26479d4486239dda44660b",
        "parent": "84823821823043b18a7eafeb08670384",
        "source": "84823821823043b18a7eafeb08670384-5",
        "target": "84823821823043b18a7eafeb08670384-3"
       },
       "group": "edges"
      }
     },
     "a84e2375139b4d8ea20cd86dcf69b911": {
      "model_module": "cytoscape-clj",
      "model_module_version": "^0.2.15",
      "model_name": "ElementModel",
      "state": {
       "_model_module_version": "^0.2.15",
       "_view_module_version": "^0.2.15",
       "classes": [
        "fe6235b6a3b14dbdee22cda9dc8d8224"
       ],
       "data": {
        "id": "341994077b664bc95bbba47f77500067",
        "parent": "fe6235b6a3b14dbdee22cda9dc8d8224",
        "source": "fe6235b6a3b14dbdee22cda9dc8d8224-3",
        "target": "fe6235b6a3b14dbdee22cda9dc8d8224-6"
       },
       "group": "edges"
      }
     },
     "a8c814d6690d4343332330b4f5d3dac7": {
      "model_module": "cytoscape-clj",
      "model_module_version": "^0.2.15",
      "model_name": "ElementModel",
      "state": {
       "_model_module_version": "^0.2.15",
       "_view_module_version": "^0.2.15",
       "classes": [
        "d6d0f6d47acc476a6fe332245c739f3f"
       ],
       "data": {
        "id": "ad7bee5b4485492347ae8036e83539f5",
        "parent": "d6d0f6d47acc476a6fe332245c739f3f",
        "source": "d6d0f6d47acc476a6fe332245c739f3f-2",
        "target": "d6d0f6d47acc476a6fe332245c739f3f-3"
       },
       "group": "edges"
      }
     },
     "a96c4d8222e14141e791ff56f65a96d3": {
      "model_module": "cytoscape-clj",
      "model_module_version": "^0.2.15",
      "model_name": "ElementModel",
      "state": {
       "_model_module_version": "^0.2.15",
       "_view_module_version": "^0.2.15",
       "classes": [
        "00e54a84b501419260ed6abae2ef020a"
       ],
       "data": {
        "id": "a2a81796e73d405f7a5357f37149a2b8",
        "parent": "00e54a84b501419260ed6abae2ef020a",
        "source": "00e54a84b501419260ed6abae2ef020a-4",
        "target": "00e54a84b501419260ed6abae2ef020a-6"
       },
       "group": "edges"
      }
     },
     "aa28450a9cda415d87a49047966c3c74": {
      "model_module": "cytoscape-clj",
      "model_module_version": "^0.2.15",
      "model_name": "ElementModel",
      "state": {
       "_model_module_version": "^0.2.15",
       "_view_module_version": "^0.2.15",
       "classes": [
        "d6d0f6d47acc476a6fe332245c739f3f"
       ],
       "data": {
        "id": "849c17aa2b224b8b321e63412360f832",
        "parent": "d6d0f6d47acc476a6fe332245c739f3f",
        "source": "d6d0f6d47acc476a6fe332245c739f3f-5",
        "target": "d6d0f6d47acc476a6fe332245c739f3f-3"
       },
       "group": "edges"
      }
     },
     "ab51080b82e642b01822aa19c0b32db8": {
      "model_module": "cytoscape-clj",
      "model_module_version": "^0.2.15",
      "model_name": "ElementModel",
      "state": {
       "_model_module_version": "^0.2.15",
       "_view_module_version": "^0.2.15",
       "classes": [
        "e1cc7cee093f4ae47e52d4df60434c11"
       ],
       "data": {
        "id": "e1cc7cee093f4ae47e52d4df60434c11",
        "name": "cola-layout"
       }
      }
     },
     "ab5362f7d9e640a348a4bb6bf0221399": {
      "model_module": "cytoscape-clj",
      "model_module_version": "^0.2.15",
      "model_name": "ElementModel",
      "state": {
       "_model_module_version": "^0.2.15",
       "_view_module_version": "^0.2.15",
       "classes": [
        "84823821823043b18a7eafeb08670384"
       ],
       "data": {
        "id": "2c040e1510b6470cbc12cf0c2aa31a64",
        "parent": "84823821823043b18a7eafeb08670384",
        "source": "84823821823043b18a7eafeb08670384-2",
        "target": "84823821823043b18a7eafeb08670384-3"
       },
       "group": "edges"
      }
     },
     "aba3f09c7b0846a83ef777fe945c3cd8": {
      "model_module": "cytoscape-clj",
      "model_module_version": "^0.2.15",
      "model_name": "ElementModel",
      "state": {
       "_model_module_version": "^0.2.15",
       "_view_module_version": "^0.2.15",
       "classes": [
        "af3d5ca47ddf4cc2112dd6e5c13a3ae5"
       ],
       "data": {
        "id": "82fb743caecd4a42af27f70f54be523a",
        "parent": "af3d5ca47ddf4cc2112dd6e5c13a3ae5",
        "source": "af3d5ca47ddf4cc2112dd6e5c13a3ae5-4",
        "target": "af3d5ca47ddf4cc2112dd6e5c13a3ae5-5"
       },
       "group": "edges"
      }
     },
     "adbb56dca68f4001b61fe8a1cbd7f2c6": {
      "model_module": "cytoscape-clj",
      "model_module_version": "^0.2.15",
      "model_name": "ElementModel",
      "state": {
       "_model_module_version": "^0.2.15",
       "_view_module_version": "^0.2.15",
       "classes": [
        "d6d0f6d47acc476a6fe332245c739f3f"
       ],
       "data": {
        "id": "b3bdce4e6e3345df830bb336db1eb967",
        "parent": "d6d0f6d47acc476a6fe332245c739f3f",
        "source": "d6d0f6d47acc476a6fe332245c739f3f-1",
        "target": "d6d0f6d47acc476a6fe332245c739f3f-5"
       },
       "group": "edges"
      }
     },
     "ae656b41a2154dfca36167c3a94bc6a3": {
      "model_module": "cytoscape-clj",
      "model_module_version": "^0.2.15",
      "model_name": "ElementModel",
      "state": {
       "_model_module_version": "^0.2.15",
       "_view_module_version": "^0.2.15",
       "classes": [
        "af3d5ca47ddf4cc2112dd6e5c13a3ae5",
        "child"
       ],
       "data": {
        "id": "af3d5ca47ddf4cc2112dd6e5c13a3ae5-0",
        "name": "0",
        "parent": "af3d5ca47ddf4cc2112dd6e5c13a3ae5"
       },
       "position": {
        "x": 42.85714285714286,
        "y": 225
       }
      }
     },
     "afd98822a33143d3251eeaa4ea0951a1": {
      "model_module": "cytoscape-clj",
      "model_module_version": "^0.2.15",
      "model_name": "ElementModel",
      "state": {
       "_model_module_version": "^0.2.15",
       "_view_module_version": "^0.2.15",
       "classes": [
        "e1cc7cee093f4ae47e52d4df60434c11"
       ],
       "data": {
        "id": "7ac2602f459e4ff3ef6a884d7b96a272",
        "parent": "e1cc7cee093f4ae47e52d4df60434c11",
        "source": "e1cc7cee093f4ae47e52d4df60434c11-2",
        "target": "e1cc7cee093f4ae47e52d4df60434c11-6"
       },
       "group": "edges"
      }
     },
     "b070fd0ee6d846ba2703b5f8dfaad602": {
      "model_module": "cytoscape-clj",
      "model_module_version": "^0.2.15",
      "model_name": "ElementModel",
      "state": {
       "_model_module_version": "^0.2.15",
       "_view_module_version": "^0.2.15",
       "classes": [
        "00e54a84b501419260ed6abae2ef020a"
       ],
       "data": {
        "id": "05e6e2e2b127402d61780d289e159e4f",
        "parent": "00e54a84b501419260ed6abae2ef020a",
        "source": "00e54a84b501419260ed6abae2ef020a-3",
        "target": "00e54a84b501419260ed6abae2ef020a-6"
       },
       "group": "edges"
      }
     },
     "b31a38cb8b404641cef41c78ce61a419": {
      "model_module": "cytoscape-clj",
      "model_module_version": "^0.2.15",
      "model_name": "ElementModel",
      "state": {
       "_model_module_version": "^0.2.15",
       "_view_module_version": "^0.2.15",
       "classes": [
        "00e54a84b501419260ed6abae2ef020a"
       ],
       "data": {
        "id": "2c3752bd87dd4628645e6b9f91048dc0",
        "parent": "00e54a84b501419260ed6abae2ef020a",
        "source": "00e54a84b501419260ed6abae2ef020a-4",
        "target": "00e54a84b501419260ed6abae2ef020a-5"
       },
       "group": "edges"
      }
     },
     "b487b60a96b6463c69a99b83c4739efe": {
      "model_module": "cytoscape-clj",
      "model_module_version": "^0.2.15",
      "model_name": "ElementModel",
      "state": {
       "_model_module_version": "^0.2.15",
       "_view_module_version": "^0.2.15",
       "classes": [
        "e967a0b30dc84d5ba044464cb9da4724"
       ],
       "data": {
        "id": "050241e8ad84437f899d941ce99ee6ff",
        "parent": "e967a0b30dc84d5ba044464cb9da4724",
        "source": "e967a0b30dc84d5ba044464cb9da4724-2",
        "target": "e967a0b30dc84d5ba044464cb9da4724-3"
       },
       "group": "edges"
      }
     },
     "b4a15b7c6dbb447368b8016fa5c8aae8": {
      "model_module": "cytoscape-clj",
      "model_module_version": "^0.2.15",
      "model_name": "ElementModel",
      "state": {
       "_model_module_version": "^0.2.15",
       "_view_module_version": "^0.2.15",
       "classes": [
        "00e54a84b501419260ed6abae2ef020a",
        "child"
       ],
       "data": {
        "id": "00e54a84b501419260ed6abae2ef020a-4",
        "name": "4",
        "parent": "00e54a84b501419260ed6abae2ef020a"
       },
       "position": {
        "x": 810,
        "y": 150
       }
      }
     },
     "b59ba07a36ee4e6256bbe2b99dc62b0f": {
      "model_module": "cytoscape-clj",
      "model_module_version": "^0.2.15",
      "model_name": "ElementModel",
      "state": {
       "_model_module_version": "^0.2.15",
       "_view_module_version": "^0.2.15",
       "classes": [
        "f236591b3d3148216ee9d1b86f00cc2c",
        "child"
       ],
       "data": {
        "id": "f236591b3d3148216ee9d1b86f00cc2c-0",
        "name": "0",
        "parent": "f236591b3d3148216ee9d1b86f00cc2c"
       },
       "position": {
        "x": 526,
        "y": 105
       }
      }
     },
     "b7df1d59f5d346554a5cb9864891eb48": {
      "model_module": "cytoscape-clj",
      "model_module_version": "^0.2.15",
      "model_name": "ElementModel",
      "state": {
       "_model_module_version": "^0.2.15",
       "_view_module_version": "^0.2.15",
       "classes": [
        "84823821823043b18a7eafeb08670384"
       ],
       "data": {
        "id": "20394962b1be494744df4c9a280e54ec",
        "parent": "84823821823043b18a7eafeb08670384",
        "source": "84823821823043b18a7eafeb08670384-0",
        "target": "84823821823043b18a7eafeb08670384-5"
       },
       "group": "edges"
      }
     },
     "b96a27d4f0fe4c24ca4d5231315fe56b": {
      "model_module": "cytoscape-clj",
      "model_module_version": "^0.2.15",
      "model_name": "ElementModel",
      "state": {
       "_model_module_version": "^0.2.15",
       "_view_module_version": "^0.2.15",
       "classes": [
        "e967a0b30dc84d5ba044464cb9da4724",
        "child"
       ],
       "data": {
        "id": "e967a0b30dc84d5ba044464cb9da4724-6",
        "name": "6",
        "parent": "e967a0b30dc84d5ba044464cb9da4724"
       },
       "position": {
        "x": 150,
        "y": 451.7157287525381
       }
      }
     },
     "bee408dbf7af472dfcc5f28185d0a7b0": {
      "model_module": "cytoscape-clj",
      "model_module_version": "^0.2.15",
      "model_name": "ElementModel",
      "state": {
       "_model_module_version": "^0.2.15",
       "_view_module_version": "^0.2.15",
       "classes": [
        "e967a0b30dc84d5ba044464cb9da4724"
       ],
       "data": {
        "id": "5e77e09173094e0d0c1e62ee5bd9b4fc",
        "parent": "e967a0b30dc84d5ba044464cb9da4724",
        "source": "e967a0b30dc84d5ba044464cb9da4724-4",
        "target": "e967a0b30dc84d5ba044464cb9da4724-6"
       },
       "group": "edges"
      }
     },
     "c1487b774eef4ce7fc2fae39b0147d88": {
      "model_module": "cytoscape-clj",
      "model_module_version": "^0.2.15",
      "model_name": "ElementModel",
      "state": {
       "_model_module_version": "^0.2.15",
       "_view_module_version": "^0.2.15",
       "classes": [
        "fe6235b6a3b14dbdee22cda9dc8d8224"
       ],
       "data": {
        "id": "f26c784bb7b441c1b993bb1a2ecca055",
        "parent": "fe6235b6a3b14dbdee22cda9dc8d8224",
        "source": "fe6235b6a3b14dbdee22cda9dc8d8224-0",
        "target": "fe6235b6a3b14dbdee22cda9dc8d8224-5"
       },
       "group": "edges"
      }
     },
     "c1d6d1a36bf949e9c1016bbb2fa8b69c": {
      "model_module": "cytoscape-clj",
      "model_module_version": "^0.2.15",
      "model_name": "ElementModel",
      "state": {
       "_model_module_version": "^0.2.15",
       "_view_module_version": "^0.2.15",
       "classes": [
        "e967a0b30dc84d5ba044464cb9da4724"
       ],
       "data": {
        "id": "7c4fba2efc7941faa3cf07787f048b3f",
        "parent": "e967a0b30dc84d5ba044464cb9da4724",
        "source": "e967a0b30dc84d5ba044464cb9da4724-5",
        "target": "e967a0b30dc84d5ba044464cb9da4724-3"
       },
       "group": "edges"
      }
     },
     "c22237e8c86d46a3748aebf6d327b0c4": {
      "model_module": "cytoscape-clj",
      "model_module_version": "^0.2.15",
      "model_name": "ElementModel",
      "state": {
       "_model_module_version": "^0.2.15",
       "_view_module_version": "^0.2.15",
       "classes": [
        "e967a0b30dc84d5ba044464cb9da4724"
       ],
       "data": {
        "id": "6abd55195ea14fe92ba2584a8c29e7f2",
        "parent": "e967a0b30dc84d5ba044464cb9da4724",
        "source": "e967a0b30dc84d5ba044464cb9da4724-0",
        "target": "e967a0b30dc84d5ba044464cb9da4724-5"
       },
       "group": "edges"
      }
     },
     "c2cae71bdde44055f046b6b905482254": {
      "model_module": "cytoscape-clj",
      "model_module_version": "^0.2.15",
      "model_name": "ElementModel",
      "state": {
       "_model_module_version": "^0.2.15",
       "_view_module_version": "^0.2.15",
       "classes": [
        "af3d5ca47ddf4cc2112dd6e5c13a3ae5"
       ],
       "data": {
        "id": "a565545fba2448fa131aa36c81b9100e",
        "parent": "af3d5ca47ddf4cc2112dd6e5c13a3ae5",
        "source": "af3d5ca47ddf4cc2112dd6e5c13a3ae5-1",
        "target": "af3d5ca47ddf4cc2112dd6e5c13a3ae5-5"
       },
       "group": "edges"
      }
     },
     "c38176f016af4af5173f6bdf1c4c867e": {
      "model_module": "cytoscape-clj",
      "model_module_version": "^0.2.15",
      "model_name": "ElementModel",
      "state": {
       "_model_module_version": "^0.2.15",
       "_view_module_version": "^0.2.15",
       "classes": [
        "d6d0f6d47acc476a6fe332245c739f3f"
       ],
       "data": {
        "id": "2171d2b8ce1e4523d79b8c9938a93779",
        "parent": "d6d0f6d47acc476a6fe332245c739f3f",
        "source": "d6d0f6d47acc476a6fe332245c739f3f-1",
        "target": "d6d0f6d47acc476a6fe332245c739f3f-6"
       },
       "group": "edges"
      }
     },
     "c3bc6f33ff734cb7d384d9c7377afe51": {
      "model_module": "cytoscape-clj",
      "model_module_version": "^0.2.15",
      "model_name": "ElementModel",
      "state": {
       "_model_module_version": "^0.2.15",
       "_view_module_version": "^0.2.15",
       "classes": [
        "e1cc7cee093f4ae47e52d4df60434c11",
        "child"
       ],
       "data": {
        "id": "e1cc7cee093f4ae47e52d4df60434c11-0",
        "name": "0",
        "parent": "e1cc7cee093f4ae47e52d4df60434c11"
       },
       "position": {
        "x": 1332.4534358584865,
        "y": 633.9411573904767
       }
      }
     },
     "c4a583d92e8647fe5310b141ff1585c2": {
      "model_module": "cytoscape-clj",
      "model_module_version": "^0.2.15",
      "model_name": "ElementModel",
      "state": {
       "_model_module_version": "^0.2.15",
       "_view_module_version": "^0.2.15",
       "classes": [
        "af3d5ca47ddf4cc2112dd6e5c13a3ae5"
       ],
       "data": {
        "id": "fb0a7514764f4ba7d09c662c3847b9b8",
        "parent": "af3d5ca47ddf4cc2112dd6e5c13a3ae5",
        "source": "af3d5ca47ddf4cc2112dd6e5c13a3ae5-5",
        "target": "af3d5ca47ddf4cc2112dd6e5c13a3ae5-6"
       },
       "group": "edges"
      }
     },
     "c4e633dc13334eb25d6f86e6813cfd5f": {
      "model_module": "cytoscape-clj",
      "model_module_version": "^0.2.15",
      "model_name": "ElementModel",
      "state": {
       "_model_module_version": "^0.2.15",
       "_view_module_version": "^0.2.15",
       "classes": [
        "84823821823043b18a7eafeb08670384"
       ],
       "data": {
        "id": "c84259c0579d4427ea1d61eb1cf1a3c5",
        "parent": "84823821823043b18a7eafeb08670384",
        "source": "84823821823043b18a7eafeb08670384-0",
        "target": "84823821823043b18a7eafeb08670384-1"
       },
       "group": "edges"
      }
     },
     "c89e9cfe172b4d630ce5055fc9a557c0": {
      "model_module": "cytoscape-clj",
      "model_module_version": "^0.2.15",
      "model_name": "ElementModel",
      "state": {
       "_model_module_version": "^0.2.15",
       "_view_module_version": "^0.2.15",
       "classes": [
        "fe6235b6a3b14dbdee22cda9dc8d8224"
       ],
       "data": {
        "id": "6d95c2c1b65941f86855aa6e121545d2",
        "parent": "fe6235b6a3b14dbdee22cda9dc8d8224",
        "source": "fe6235b6a3b14dbdee22cda9dc8d8224-2",
        "target": "fe6235b6a3b14dbdee22cda9dc8d8224-6"
       },
       "group": "edges"
      }
     },
     "c8fd6c69b3e94eb54e045c6296a2eebe": {
      "model_module": "cytoscape-clj",
      "model_module_version": "^0.2.15",
      "model_name": "ElementModel",
      "state": {
       "_model_module_version": "^0.2.15",
       "_view_module_version": "^0.2.15",
       "classes": [
        "af3d5ca47ddf4cc2112dd6e5c13a3ae5",
        "child"
       ],
       "data": {
        "id": "af3d5ca47ddf4cc2112dd6e5c13a3ae5-3",
        "name": "3",
        "parent": "af3d5ca47ddf4cc2112dd6e5c13a3ae5"
       },
       "position": {
        "x": 171.42857142857142,
        "y": 225
       }
      }
     },
     "c9ab5093045a4b8bb164f1b750120db1": {
      "model_module": "cytoscape-clj",
      "model_module_version": "^0.2.15",
      "model_name": "RandomLayoutModel",
      "state": {
       "_model_module_version": "^0.2.15",
       "_view_module_version": "^0.2.15",
       "animate": true,
       "animation_duration": 250,
       "bounding_box": {
        "h": 300,
        "w": 300,
        "x1": 330,
        "y1": 0
       },
       "fit": false,
       "selector": ".f236591b3d3148216ee9d1b86f00cc2c"
      }
     },
     "ca3223513a41448b000bd7b0c23a01ca": {
      "model_module": "cytoscape-clj",
      "model_module_version": "^0.2.15",
      "model_name": "ElementModel",
      "state": {
       "_model_module_version": "^0.2.15",
       "_view_module_version": "^0.2.15",
       "classes": [
        "e967a0b30dc84d5ba044464cb9da4724",
        "child"
       ],
       "data": {
        "id": "e967a0b30dc84d5ba044464cb9da4724-2",
        "name": "2",
        "parent": "e967a0b30dc84d5ba044464cb9da4724"
       },
       "position": {
        "x": 209.13591357920933,
        "y": 514.142135623731
       }
      }
     },
     "cbef26df64a746437180b0e4b320f288": {
      "model_module": "cytoscape-clj",
      "model_module_version": "^0.2.15",
      "model_name": "ElementModel",
      "state": {
       "_model_module_version": "^0.2.15",
       "_view_module_version": "^0.2.15",
       "classes": [
        "fe6235b6a3b14dbdee22cda9dc8d8224"
       ],
       "data": {
        "id": "2763d2a2e8e24a83c3be1029df8545ae",
        "parent": "fe6235b6a3b14dbdee22cda9dc8d8224",
        "source": "fe6235b6a3b14dbdee22cda9dc8d8224-1",
        "target": "fe6235b6a3b14dbdee22cda9dc8d8224-5"
       },
       "group": "edges"
      }
     },
     "cd42d28b5b254fdd2adfe0390011cd42": {
      "model_module": "cytoscape-clj",
      "model_module_version": "^0.2.15",
      "model_name": "ElementModel",
      "state": {
       "_model_module_version": "^0.2.15",
       "_view_module_version": "^0.2.15",
       "classes": [
        "fe6235b6a3b14dbdee22cda9dc8d8224"
       ],
       "data": {
        "id": "f0195a599f0046d67edd78b11bb645e3",
        "parent": "fe6235b6a3b14dbdee22cda9dc8d8224",
        "source": "fe6235b6a3b14dbdee22cda9dc8d8224-1",
        "target": "fe6235b6a3b14dbdee22cda9dc8d8224-6"
       },
       "group": "edges"
      }
     },
     "cd783cb752064255571ca4516a182e45": {
      "model_module": "cytoscape-clj",
      "model_module_version": "^0.2.15",
      "model_name": "ElementModel",
      "state": {
       "_model_module_version": "^0.2.15",
       "_view_module_version": "^0.2.15",
       "classes": [
        "00e54a84b501419260ed6abae2ef020a"
       ],
       "data": {
        "id": "fdbf5f00e1be4d2ef302381639277bf7",
        "parent": "00e54a84b501419260ed6abae2ef020a",
        "source": "00e54a84b501419260ed6abae2ef020a-5",
        "target": "00e54a84b501419260ed6abae2ef020a-6"
       },
       "group": "edges"
      }
     },
     "d326028b5e1f42133d3ac4ee3e90e5a2": {
      "model_module": "cytoscape-clj",
      "model_module_version": "^0.2.15",
      "model_name": "ElementModel",
      "state": {
       "_model_module_version": "^0.2.15",
       "_view_module_version": "^0.2.15",
       "classes": [
        "e967a0b30dc84d5ba044464cb9da4724"
       ],
       "data": {
        "id": "41a57b7cbe1c4a13412a663cef562587",
        "parent": "e967a0b30dc84d5ba044464cb9da4724",
        "source": "e967a0b30dc84d5ba044464cb9da4724-4",
        "target": "e967a0b30dc84d5ba044464cb9da4724-3"
       },
       "group": "edges"
      }
     },
     "d4b5ba22836d4f30befdf1d294a7e09f": {
      "model_module": "cytoscape-clj",
      "model_module_version": "^0.2.15",
      "model_name": "ElementModel",
      "state": {
       "_model_module_version": "^0.2.15",
       "_view_module_version": "^0.2.15",
       "classes": [
        "00e54a84b501419260ed6abae2ef020a"
       ],
       "data": {
        "id": "5838319a664340571535c91ab2480ddd",
        "parent": "00e54a84b501419260ed6abae2ef020a",
        "source": "00e54a84b501419260ed6abae2ef020a-4",
        "target": "00e54a84b501419260ed6abae2ef020a-3"
       },
       "group": "edges"
      }
     },
     "d65c6513367a4234b9e3ebfc0c54f811": {
      "model_module": "cytoscape-clj",
      "model_module_version": "^0.2.15",
      "model_name": "ElementModel",
      "state": {
       "_model_module_version": "^0.2.15",
       "_view_module_version": "^0.2.15",
       "classes": [
        "f236591b3d3148216ee9d1b86f00cc2c"
       ],
       "data": {
        "id": "f236591b3d3148216ee9d1b86f00cc2c",
        "name": "random-layout"
       }
      }
     },
     "d69847e0319c443aa14f8efdc2eb480a": {
      "model_module": "cytoscape-clj",
      "model_module_version": "^0.2.15",
      "model_name": "ElementModel",
      "state": {
       "_model_module_version": "^0.2.15",
       "_view_module_version": "^0.2.15",
       "classes": [
        "e967a0b30dc84d5ba044464cb9da4724",
        "child"
       ],
       "data": {
        "id": "e967a0b30dc84d5ba044464cb9da4724-4",
        "name": "4",
        "parent": "e967a0b30dc84d5ba044464cb9da4724"
       },
       "position": {
        "x": 90.86408642079067,
        "y": 514.142135623731
       }
      }
     },
     "d8321aba432c469b60fe427c45f41822": {
      "model_module": "cytoscape-clj",
      "model_module_version": "^0.2.15",
      "model_name": "ElementModel",
      "state": {
       "_model_module_version": "^0.2.15",
       "_view_module_version": "^0.2.15",
       "classes": [
        "d6d0f6d47acc476a6fe332245c739f3f"
       ],
       "data": {
        "id": "d6d0f6d47acc476a6fe332245c739f3f",
        "name": "circle-layout"
       }
      }
     },
     "dbcecefc7ad54a43943551b77fc6a64e": {
      "model_module": "cytoscape-clj",
      "model_module_version": "^0.2.15",
      "model_name": "ElementModel",
      "state": {
       "_model_module_version": "^0.2.15",
       "_view_module_version": "^0.2.15",
       "classes": [
        "e967a0b30dc84d5ba044464cb9da4724"
       ],
       "data": {
        "id": "3813087c21d341d36334647d7de7c679",
        "parent": "e967a0b30dc84d5ba044464cb9da4724",
        "source": "e967a0b30dc84d5ba044464cb9da4724-4",
        "target": "e967a0b30dc84d5ba044464cb9da4724-5"
       },
       "group": "edges"
      }
     },
     "dcf323076ccb40a256923a4b71965947": {
      "model_module": "cytoscape-clj",
      "model_module_version": "^0.2.15",
      "model_name": "ElementModel",
      "state": {
       "_model_module_version": "^0.2.15",
       "_view_module_version": "^0.2.15",
       "classes": [
        "d6d0f6d47acc476a6fe332245c739f3f"
       ],
       "data": {
        "id": "6bccf0bfa03547ffad5374ced343fe46",
        "parent": "d6d0f6d47acc476a6fe332245c739f3f",
        "source": "d6d0f6d47acc476a6fe332245c739f3f-0",
        "target": "d6d0f6d47acc476a6fe332245c739f3f-6"
       },
       "group": "edges"
      }
     },
     "e0638d9555e14adb12f2ca2c36460269": {
      "model_module": "cytoscape-clj",
      "model_module_version": "^0.2.15",
      "model_name": "ElementModel",
      "state": {
       "_model_module_version": "^0.2.15",
       "_view_module_version": "^0.2.15",
       "classes": [
        "e1cc7cee093f4ae47e52d4df60434c11"
       ],
       "data": {
        "id": "88333f04042f4a3cb007ff1f2383f4f1",
        "parent": "e1cc7cee093f4ae47e52d4df60434c11",
        "source": "e1cc7cee093f4ae47e52d4df60434c11-2",
        "target": "e1cc7cee093f4ae47e52d4df60434c11-1"
       },
       "group": "edges"
      }
     },
     "e0a6ebad629b4360f9034628ca69d79d": {
      "model_module": "cytoscape-clj",
      "model_module_version": "^0.2.15",
      "model_name": "ElementModel",
      "state": {
       "_model_module_version": "^0.2.15",
       "_view_module_version": "^0.2.15",
       "classes": [
        "f236591b3d3148216ee9d1b86f00cc2c"
       ],
       "data": {
        "id": "8720a73d406c4c9671938a47ee65b76c",
        "parent": "f236591b3d3148216ee9d1b86f00cc2c",
        "source": "f236591b3d3148216ee9d1b86f00cc2c-0",
        "target": "f236591b3d3148216ee9d1b86f00cc2c-6"
       },
       "group": "edges"
      }
     },
     "e1ab5502263948fe615b918d4a16c643": {
      "model_module": "cytoscape-clj",
      "model_module_version": "^0.2.15",
      "model_name": "ElementModel",
      "state": {
       "_model_module_version": "^0.2.15",
       "_view_module_version": "^0.2.15",
       "classes": [
        "f236591b3d3148216ee9d1b86f00cc2c",
        "child"
       ],
       "data": {
        "id": "f236591b3d3148216ee9d1b86f00cc2c-5",
        "name": "5",
        "parent": "f236591b3d3148216ee9d1b86f00cc2c"
       },
       "position": {
        "x": 449,
        "y": 35
       }
      }
     },
     "e21e00dcd15149a8c1f7b6e776f05e5b": {
      "model_module": "cytoscape-clj",
      "model_module_version": "^0.2.15",
      "model_name": "ElementModel",
      "state": {
       "_model_module_version": "^0.2.15",
       "_view_module_version": "^0.2.15",
       "classes": [
        "84823821823043b18a7eafeb08670384",
        "child"
       ],
       "data": {
        "id": "84823821823043b18a7eafeb08670384-2",
        "name": "2",
        "parent": "84823821823043b18a7eafeb08670384"
       },
       "position": {
        "x": 1290,
        "y": 330
       }
      }
     },
     "e36ff35485984ce3c5e5df242fc6511b": {
      "model_module": "cytoscape-clj",
      "model_module_version": "^0.2.15",
      "model_name": "ElementModel",
      "state": {
       "_model_module_version": "^0.2.15",
       "_view_module_version": "^0.2.15",
       "classes": [
        "e967a0b30dc84d5ba044464cb9da4724"
       ],
       "data": {
        "id": "3a5f69c4af6e493a0de2ac13e553afa9",
        "parent": "e967a0b30dc84d5ba044464cb9da4724",
        "source": "e967a0b30dc84d5ba044464cb9da4724-2",
        "target": "e967a0b30dc84d5ba044464cb9da4724-1"
       },
       "group": "edges"
      }
     },
     "e3ae70523fcc4626c515b35ed5aeff50": {
      "model_module": "cytoscape-clj",
      "model_module_version": "^0.2.15",
      "model_name": "ElementModel",
      "state": {
       "_model_module_version": "^0.2.15",
       "_view_module_version": "^0.2.15",
       "classes": [
        "e1cc7cee093f4ae47e52d4df60434c11",
        "child"
       ],
       "data": {
        "id": "e1cc7cee093f4ae47e52d4df60434c11-6",
        "name": "6",
        "parent": "e1cc7cee093f4ae47e52d4df60434c11"
       },
       "position": {
        "x": 1282.4534348584866,
        "y": 683.9411583904766
       }
      }
     },
     "e55ce2e8e61b44babda8f084a243909e": {
      "model_module": "cytoscape-clj",
      "model_module_version": "^0.2.15",
      "model_name": "ElementModel",
      "state": {
       "_model_module_version": "^0.2.15",
       "_view_module_version": "^0.2.15",
       "classes": [
        "84823821823043b18a7eafeb08670384"
       ],
       "data": {
        "id": "ea7975ed04b74ff0c3053998a6f3bf2d",
        "parent": "84823821823043b18a7eafeb08670384",
        "source": "84823821823043b18a7eafeb08670384-4",
        "target": "84823821823043b18a7eafeb08670384-5"
       },
       "group": "edges"
      }
     },
     "e91bb6868b93414aea5f4405b5458292": {
      "model_module": "cytoscape-clj",
      "model_module_version": "^0.2.15",
      "model_name": "ElementModel",
      "state": {
       "_model_module_version": "^0.2.15",
       "_view_module_version": "^0.2.15",
       "classes": [
        "fe6235b6a3b14dbdee22cda9dc8d8224",
        "child"
       ],
       "data": {
        "id": "fe6235b6a3b14dbdee22cda9dc8d8224-0",
        "name": "0",
        "parent": "fe6235b6a3b14dbdee22cda9dc8d8224"
       },
       "position": {
        "x": 604.2208092502344,
        "y": 610.2954259141823
       }
      }
     },
     "e9b1b1b37c3d47163d415c74ca41b6d1": {
      "model_module": "cytoscape-clj",
      "model_module_version": "^0.2.15",
      "model_name": "ElementModel",
      "state": {
       "_model_module_version": "^0.2.15",
       "_view_module_version": "^0.2.15",
       "classes": [
        "e1cc7cee093f4ae47e52d4df60434c11"
       ],
       "data": {
        "id": "08c7d4e5bb4d419bbb9932ce05c41688",
        "parent": "e1cc7cee093f4ae47e52d4df60434c11",
        "source": "e1cc7cee093f4ae47e52d4df60434c11-0",
        "target": "e1cc7cee093f4ae47e52d4df60434c11-6"
       },
       "group": "edges"
      }
     },
     "e9d96f58a459462779f0b3055da63818": {
      "model_module": "cytoscape-clj",
      "model_module_version": "^0.2.15",
      "model_name": "ElementModel",
      "state": {
       "_model_module_version": "^0.2.15",
       "_view_module_version": "^0.2.15",
       "classes": [
        "00e54a84b501419260ed6abae2ef020a"
       ],
       "data": {
        "id": "1a59a5ec3cb64e715a2193031ce4a3dd",
        "parent": "00e54a84b501419260ed6abae2ef020a",
        "source": "00e54a84b501419260ed6abae2ef020a-5",
        "target": "00e54a84b501419260ed6abae2ef020a-3"
       },
       "group": "edges"
      }
     },
     "ee90a669523241070daea63f21cb7baa": {
      "model_module": "cytoscape-clj",
      "model_module_version": "^0.2.15",
      "model_name": "ElementModel",
      "state": {
       "_model_module_version": "^0.2.15",
       "_view_module_version": "^0.2.15",
       "classes": [
        "fe6235b6a3b14dbdee22cda9dc8d8224"
       ],
       "data": {
        "id": "a54b897925c94d316e9ef86db8c85cbb",
        "parent": "fe6235b6a3b14dbdee22cda9dc8d8224",
        "source": "fe6235b6a3b14dbdee22cda9dc8d8224-5",
        "target": "fe6235b6a3b14dbdee22cda9dc8d8224-3"
       },
       "group": "edges"
      }
     },
     "effbdc0768234216ec27f0daa0910d46": {
      "model_module": "cytoscape-clj",
      "model_module_version": "^0.2.15",
      "model_name": "ElementModel",
      "state": {
       "_model_module_version": "^0.2.15",
       "_view_module_version": "^0.2.15",
       "classes": [
        "af3d5ca47ddf4cc2112dd6e5c13a3ae5",
        "child"
       ],
       "data": {
        "id": "af3d5ca47ddf4cc2112dd6e5c13a3ae5-5",
        "name": "5",
        "parent": "af3d5ca47ddf4cc2112dd6e5c13a3ae5"
       },
       "position": {
        "x": 257.1428571428571,
        "y": 225
       }
      }
     },
     "f001e93aede942a40744113846f502a4": {
      "model_module": "cytoscape-clj",
      "model_module_version": "^0.2.15",
      "model_name": "ElementModel",
      "state": {
       "_model_module_version": "^0.2.15",
       "_view_module_version": "^0.2.15",
       "classes": [
        "d6d0f6d47acc476a6fe332245c739f3f",
        "child"
       ],
       "data": {
        "id": "d6d0f6d47acc476a6fe332245c739f3f-3",
        "name": "3",
        "parent": "d6d0f6d47acc476a6fe332245c739f3f"
       },
       "position": {
        "x": 1192.066048694107,
        "y": 258.11626414829027
       }
      }
     },
     "f3146dce91f546aecb65a8f0295e7283": {
      "model_module": "cytoscape-clj",
      "model_module_version": "^0.2.15",
      "model_name": "ElementModel",
      "state": {
       "_model_module_version": "^0.2.15",
       "_view_module_version": "^0.2.15",
       "classes": [
        "e1cc7cee093f4ae47e52d4df60434c11"
       ],
       "data": {
        "id": "bcd744b381b545cb5bd3c45c0d65460e",
        "parent": "e1cc7cee093f4ae47e52d4df60434c11",
        "source": "e1cc7cee093f4ae47e52d4df60434c11-2",
        "target": "e1cc7cee093f4ae47e52d4df60434c11-3"
       },
       "group": "edges"
      }
     },
     "f3c51a01867a45c207909bc1af99f397": {
      "model_module": "cytoscape-clj",
      "model_module_version": "^0.2.15",
      "model_name": "ElementModel",
      "state": {
       "_model_module_version": "^0.2.15",
       "_view_module_version": "^0.2.15",
       "classes": [
        "f236591b3d3148216ee9d1b86f00cc2c"
       ],
       "data": {
        "id": "172d078aeb214fbdb474347b7385a26a",
        "parent": "f236591b3d3148216ee9d1b86f00cc2c",
        "source": "f236591b3d3148216ee9d1b86f00cc2c-5",
        "target": "f236591b3d3148216ee9d1b86f00cc2c-6"
       },
       "group": "edges"
      }
     },
     "f4588bbc4c8e457e798afea4111f8458": {
      "model_module": "cytoscape-clj",
      "model_module_version": "^0.2.15",
      "model_name": "ElementModel",
      "state": {
       "_model_module_version": "^0.2.15",
       "_view_module_version": "^0.2.15",
       "classes": [
        "d6d0f6d47acc476a6fe332245c739f3f"
       ],
       "data": {
        "id": "5bbccac8555e4fe34161e37023d1495d",
        "parent": "d6d0f6d47acc476a6fe332245c739f3f",
        "source": "d6d0f6d47acc476a6fe332245c739f3f-3",
        "target": "d6d0f6d47acc476a6fe332245c739f3f-6"
       },
       "group": "edges"
      }
     },
     "f4600e1393504bcb4ed1648828c01c6e": {
      "model_module": "cytoscape-clj",
      "model_module_version": "^0.2.15",
      "model_name": "ElementModel",
      "state": {
       "_model_module_version": "^0.2.15",
       "_view_module_version": "^0.2.15",
       "classes": [
        "af3d5ca47ddf4cc2112dd6e5c13a3ae5"
       ],
       "data": {
        "id": "57b974cffb2f4710643c688b0e034a0b",
        "parent": "af3d5ca47ddf4cc2112dd6e5c13a3ae5",
        "source": "af3d5ca47ddf4cc2112dd6e5c13a3ae5-2",
        "target": "af3d5ca47ddf4cc2112dd6e5c13a3ae5-1"
       },
       "group": "edges"
      }
     },
     "f5c7225b361a458e1bfd29f5912eeab7": {
      "model_module": "cytoscape-clj",
      "model_module_version": "^0.2.15",
      "model_name": "ElementModel",
      "state": {
       "_model_module_version": "^0.2.15",
       "_view_module_version": "^0.2.15",
       "classes": [
        "84823821823043b18a7eafeb08670384",
        "child"
       ],
       "data": {
        "id": "84823821823043b18a7eafeb08670384-3",
        "name": "3",
        "parent": "84823821823043b18a7eafeb08670384"
       },
       "position": {
        "x": 1232.5531914893618,
        "y": 555
       }
      }
     },
     "f7d98fb8802c474af88a47f7ef049ae8": {
      "model_module": "cytoscape-clj",
      "model_module_version": "^0.2.15",
      "model_name": "ElementModel",
      "state": {
       "_model_module_version": "^0.2.15",
       "_view_module_version": "^0.2.15",
       "classes": [
        "e967a0b30dc84d5ba044464cb9da4724"
       ],
       "data": {
        "id": "e967a0b30dc84d5ba044464cb9da4724",
        "name": "concentric-layout"
       }
      }
     },
     "fa27b5fbfda546e57777863fa963cdee": {
      "model_module": "cytoscape-clj",
      "model_module_version": "^0.2.15",
      "model_name": "ElementModel",
      "state": {
       "_model_module_version": "^0.2.15",
       "_view_module_version": "^0.2.15",
       "classes": [
        "e1cc7cee093f4ae47e52d4df60434c11"
       ],
       "data": {
        "id": "35d83e00e01d4b7d15c43c1d52cc45c6",
        "parent": "e1cc7cee093f4ae47e52d4df60434c11",
        "source": "e1cc7cee093f4ae47e52d4df60434c11-0",
        "target": "e1cc7cee093f4ae47e52d4df60434c11-1"
       },
       "group": "edges"
      }
     },
     "faf086a06a044df6af5cdca66ca7c4b8": {
      "model_module": "cytoscape-clj",
      "model_module_version": "^0.2.15",
      "model_name": "ElementModel",
      "state": {
       "_model_module_version": "^0.2.15",
       "_view_module_version": "^0.2.15",
       "classes": [
        "e967a0b30dc84d5ba044464cb9da4724"
       ],
       "data": {
        "id": "a05c2ac64e3849a04d9ebf5fb8e242ce",
        "parent": "e967a0b30dc84d5ba044464cb9da4724",
        "source": "e967a0b30dc84d5ba044464cb9da4724-1",
        "target": "e967a0b30dc84d5ba044464cb9da4724-5"
       },
       "group": "edges"
      }
     },
     "fb2d1caf524e403e8d6e8dc8cf8d69ef": {
      "model_module": "cytoscape-clj",
      "model_module_version": "^0.2.15",
      "model_name": "ElementModel",
      "state": {
       "_model_module_version": "^0.2.15",
       "_view_module_version": "^0.2.15",
       "classes": [
        "af3d5ca47ddf4cc2112dd6e5c13a3ae5",
        "child"
       ],
       "data": {
        "id": "af3d5ca47ddf4cc2112dd6e5c13a3ae5-4",
        "name": "4",
        "parent": "af3d5ca47ddf4cc2112dd6e5c13a3ae5"
       },
       "position": {
        "x": 214.28571428571428,
        "y": 225
       }
      }
     },
     "fbf629f1390d4e2f098a7c459652587b": {
      "model_module": "cytoscape-clj",
      "model_module_version": "^0.2.15",
      "model_name": "ElementModel",
      "state": {
       "_model_module_version": "^0.2.15",
       "_view_module_version": "^0.2.15",
       "classes": [
        "e1cc7cee093f4ae47e52d4df60434c11",
        "child"
       ],
       "data": {
        "id": "e1cc7cee093f4ae47e52d4df60434c11-5",
        "name": "5",
        "parent": "e1cc7cee093f4ae47e52d4df60434c11"
       },
       "position": {
        "x": 1382.4534368584868,
        "y": 683.9411583904766
       }
      }
     },
     "fdc9670bdd1a451b50f6e4c51b8bc773": {
      "model_module": "cytoscape-clj",
      "model_module_version": "^0.2.15",
      "model_name": "ElementModel",
      "state": {
       "_model_module_version": "^0.2.15",
       "_view_module_version": "^0.2.15",
       "classes": [
        "af3d5ca47ddf4cc2112dd6e5c13a3ae5"
       ],
       "data": {
        "id": "25235528c8d44564352e1aa8420a8c65",
        "parent": "af3d5ca47ddf4cc2112dd6e5c13a3ae5",
        "source": "af3d5ca47ddf4cc2112dd6e5c13a3ae5-2",
        "target": "af3d5ca47ddf4cc2112dd6e5c13a3ae5-6"
       },
       "group": "edges"
      }
     },
     "fe0790cabfad4f5c42a053ce9abbfe92": {
      "model_module": "cytoscape-clj",
      "model_module_version": "^0.2.15",
      "model_name": "ElementModel",
      "state": {
       "_model_module_version": "^0.2.15",
       "_view_module_version": "^0.2.15",
       "classes": [
        "f236591b3d3148216ee9d1b86f00cc2c",
        "child"
       ],
       "data": {
        "id": "f236591b3d3148216ee9d1b86f00cc2c-1",
        "name": "1",
        "parent": "f236591b3d3148216ee9d1b86f00cc2c"
       },
       "position": {
        "x": 454,
        "y": 205
       }
      }
     },
     "fe2eba001a8144ee218d57c795586fad": {
      "model_module": "cytoscape-clj",
      "model_module_version": "^0.2.15",
      "model_name": "ElementModel",
      "state": {
       "_model_module_version": "^0.2.15",
       "_view_module_version": "^0.2.15",
       "classes": [
        "d6d0f6d47acc476a6fe332245c739f3f"
       ],
       "data": {
        "id": "79b47a0bf2e145cded64756783ff0350",
        "parent": "d6d0f6d47acc476a6fe332245c739f3f",
        "source": "d6d0f6d47acc476a6fe332245c739f3f-3",
        "target": "d6d0f6d47acc476a6fe332245c739f3f-1"
       },
       "group": "edges"
      }
     },
     "fed401e102f04fe633a4dfe1d22b587b": {
      "model_module": "cytoscape-clj",
      "model_module_version": "^0.2.15",
      "model_name": "ElementModel",
      "state": {
       "_model_module_version": "^0.2.15",
       "_view_module_version": "^0.2.15",
       "classes": [
        "af3d5ca47ddf4cc2112dd6e5c13a3ae5"
       ],
       "data": {
        "id": "f57a42755ff2481b5a1f5999f75b66f3",
        "parent": "af3d5ca47ddf4cc2112dd6e5c13a3ae5",
        "source": "af3d5ca47ddf4cc2112dd6e5c13a3ae5-1",
        "target": "af3d5ca47ddf4cc2112dd6e5c13a3ae5-6"
       },
       "group": "edges"
      }
     }
    },
    "version_major": 2,
    "version_minor": 0
   }
  }
 },
 "nbformat": 4,
 "nbformat_minor": 4
}
