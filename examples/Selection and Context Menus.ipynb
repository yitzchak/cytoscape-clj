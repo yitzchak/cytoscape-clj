{
 "cells": [
  {
   "cell_type": "code",
   "execution_count": 1,
   "metadata": {},
   "outputs": [
    {
     "name": "stdout",
     "output_type": "stream",
     "text": [
      "To load \"cl-cytoscape\":\n",
      "  Load 1 ASDF system:\n",
      "    cl-cytoscape\n",
      "\n",
      "; Loading \"cl-cytoscape\"\n",
      "[package cytoscape]."
     ]
    },
    {
     "data": {
      "text/plain": [
       "(:CL-CYTOSCAPE)"
      ]
     },
     "execution_count": 1,
     "metadata": {},
     "output_type": "execute_result"
    },
    {
     "name": "stdout",
     "output_type": "stream",
     "text": [
      "\n"
     ]
    }
   ],
   "source": [
    "(ql:quickload :cl-cytoscape)"
   ]
  },
  {
   "cell_type": "code",
   "execution_count": 2,
   "metadata": {},
   "outputs": [
    {
     "data": {
      "text/plain": [
       "O"
      ]
     },
     "execution_count": 2,
     "metadata": {},
     "output_type": "execute_result"
    },
    {
     "data": {
      "text/plain": [
       "ON-SELECTION"
      ]
     },
     "execution_count": 2,
     "metadata": {},
     "output_type": "execute_result"
    },
    {
     "data": {
      "text/plain": [
       "C"
      ]
     },
     "execution_count": 2,
     "metadata": {},
     "output_type": "execute_result"
    },
    {
     "data": {
      "text/plain": [
       "NIL"
      ]
     },
     "execution_count": 2,
     "metadata": {},
     "output_type": "execute_result"
    },
    {
     "data": {
      "application/vnd.jupyter.widget-view+json": {
       "model_id": "59c1d8707b18488bb40d8f0fb38829ff",
       "version_major": 2,
       "version_minor": 0
      },
      "text/plain": [
       "A Jupyter Widget"
      ]
     },
     "metadata": {},
     "output_type": "display_data"
    },
    {
     "data": {
      "application/vnd.jupyter.widget-view+json": {
       "model_id": "93fdee1629f6485ddd7eff735c01ea60",
       "version_major": 2,
       "version_minor": 0
      },
      "text/plain": [
       "A Jupyter Widget"
      ]
     },
     "metadata": {},
     "output_type": "display_data"
    }
   ],
   "source": [
    "(defparameter o (make-instance 'jupyter-widgets:text-area :rows 16))\n",
    "\n",
    "(defun on-selection (instance name type old-value new-value source)\n",
    "    (setf (jupyter-widgets:widget-value o)\n",
    "        (format nil \n",
    "                \"~A~&~:[Edge~;Node~] ~A ~:[deselected~;selected~].\" \n",
    "                (jupyter-widgets:widget-value o)\n",
    "                (string= \"nodes\" (cytoscape:group instance))\n",
    "                (cdr (assoc \"id\" (cytoscape:data instance) :test #'string=))\n",
    "                new-value)))\n",
    "\n",
    "(defparameter c (make-instance 'cytoscape:cytoscape-widget :cytoscape-layout '((\"name\" . \"cola\"))\n",
    "                               :elements (list (make-instance 'cytoscape:element :group \"nodes\" :data '((\"id\" . \"a\")))                                         \n",
    "                                               (make-instance 'cytoscape:element :group \"nodes\" :data '((\"id\" . \"b\")))                                         \n",
    "                                               (make-instance 'cytoscape:element :group \"edges\" :data '((\"id\" . \"ab\") (\"source\" . \"a\") (\"target\" . \"b\"))))\n",
    "                               :context-menus (list (make-instance 'cytoscape:context-menu \n",
    "                                                                   :commands (list (make-instance 'cytoscape:menu-command :content \"fu\" :on-select (list (lambda (instance id) (setf (jupyter-widgets:widget-value o) (format nil \"~A~&fu on ~A\" (jupyter-widgets:widget-value o) id)))))\n",
    "                                                                                   (make-instance 'cytoscape:menu-command :content \"bar\" :on-select (list (lambda (instance id) (setf (jupyter-widgets:widget-value o) (format nil \"~A~&bar on ~A\" (jupyter-widgets:widget-value o) id)))))\n",
    "                                                                                   (make-instance 'cytoscape:menu-command :content \"<span class='fa fa-star fa-2x'></span>\" :on-select (list (lambda (instance id) (setf (jupyter-widgets:widget-value o) (format nil \"~A~&star on ~A\" (jupyter-widgets:widget-value o) id)))))))\n",
    "                                                    (make-instance 'cytoscape:context-menu \n",
    "                                                                   :selector \"edge\"\n",
    "                                                                   :commands (list (make-instance 'cytoscape:menu-command :content \"quux\" :on-select (list (lambda (instance id) (setf (jupyter-widgets:widget-value o) (format nil \"~A~&quux on ~A\" (jupyter-widgets:widget-value o) id)))))\n",
    "                                                                                   (make-instance 'cytoscape:menu-command :content \"<span class='fa fa-flash fa-2x'></span>\" :on-select (list (lambda (instance id) (setf (jupyter-widgets:widget-value o) (format nil \"~A~&flash on ~A\" (jupyter-widgets:widget-value o) id))))))))))\n",
    "\n",
    "(dolist (instance (cytoscape:elements c))\n",
    "    (jupyter-widgets:observe instance :selected #'on-selection))\n",
    "\n",
    "c\n",
    "o"
   ]
  },
  {
   "cell_type": "code",
   "execution_count": 3,
   "metadata": {},
   "outputs": [
    {
     "data": {
      "text/plain": [
       "\"red\""
      ]
     },
     "execution_count": 3,
     "metadata": {},
     "output_type": "execute_result"
    }
   ],
   "source": [
    "(setf (cytoscape:active-fill-color (first (cytoscape::context-menus c))) \"red\")"
   ]
  },
  {
   "cell_type": "code",
   "execution_count": null,
   "metadata": {},
   "outputs": [],
   "source": []
  }
 ],
 "metadata": {
  "kernelspec": {
   "display_name": "Common Lisp (clasp)",
   "language": "common-lisp",
   "name": "common-lisp_clasp"
  },
  "language_info": {
   "codemirror_mode": "text/x-common-lisp",
   "file_extension": ".lisp",
   "mimetype": "text/x-common-lisp",
   "name": "common-lisp",
   "pygments_lexer": "common-lisp",
   "version": "cclasp-boehm-0.4.2-2694-g6630803ac-cst"
  }
 },
 "nbformat": 4,
 "nbformat_minor": 4
}
