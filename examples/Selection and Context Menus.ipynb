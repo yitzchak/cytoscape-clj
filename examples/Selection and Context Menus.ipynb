{
 "cells": [
  {
   "cell_type": "code",
   "execution_count": null,
   "metadata": {},
   "outputs": [],
   "source": [
    "(ql:quickload :cytoscape-clj)"
   ]
  },
  {
   "cell_type": "code",
   "execution_count": null,
   "metadata": {},
   "outputs": [],
   "source": [
    "(defparameter o (jw:make-text-area :rows 16))\n",
    "\n",
    "(defun on-selection (instance name type old-value new-value source)\n",
    "  (setf (jupyter-widgets:widget-value o)\n",
    "        (format nil\n",
    "                \"~A~&~:[Edge~;Node~] ~A ~:[deselected~;selected~].\"\n",
    "                (jupyter-widgets:widget-value o)\n",
    "                (string= \"nodes\" (cytoscape:group instance))\n",
    "                (cdr (assoc \"id\" (cytoscape:data instance) :test #'string=))\n",
    "                new-value)))\n",
    "\n",
    "(defparameter c (cytoscape:make-cytoscape-widget :graph-layouts (list (cytoscape:make-cola-layout))\n",
    "                                                 :elements (list (cytoscape:make-element :group \"nodes\" :data (j:make-object \"id\" \"a\"))\n",
    "                                                                 (cytoscape:make-element :group \"nodes\" :data (j:make-object \"id\" \"b\"))\n",
    "                                                                 (cytoscape:make-element :group \"edges\" :data (j:make-object \"id\" \"ab\"\n",
    "                                                                                                                             \"source\" \"a\"\n",
    "                                                                                                                             \"target\" \"b\")))\n",
    "                                                 :context-menus (list (cytoscape:make-context-menu\n",
    "                                                                        :commands (list (cytoscape:make-menu-command :content \"fu\" :on-select (list (lambda (instance id) (setf (jupyter-widgets:widget-value o) (format nil \"~A~&fu on ~A\" (jupyter-widgets:widget-value o) id)))))\n",
    "                                                                                        (cytoscape:make-menu-command :content \"bar\" :on-select (list (lambda (instance id) (setf (jupyter-widgets:widget-value o) (format nil \"~A~&bar on ~A\" (jupyter-widgets:widget-value o) id)))))\n",
    "                                                                                        (cytoscape:make-menu-command :content \"<span class='fa fa-star fa-2x'></span>\" :on-select (list (lambda (instance id) (setf (jupyter-widgets:widget-value o) (format nil \"~A~&star on ~A\" (jupyter-widgets:widget-value o) id)))))))\n",
    "                                                                      (cytoscape:make-context-menu\n",
    "                                                                        :selector \"edge\"\n",
    "                                                                        :commands (list (cytoscape:make-menu-command :content \"quux\" :on-select (list (lambda (instance id) (setf (jupyter-widgets:widget-value o) (format nil \"~A~&quux on ~A\" (jupyter-widgets:widget-value o) id)))))\n",
    "                                                                                        (cytoscape:make-menu-command :content \"<span class='fa fa-flash fa-2x'></span>\" :on-select (list (lambda (instance id) (setf (jupyter-widgets:widget-value o) (format nil \"~A~&flash on ~A\" (jupyter-widgets:widget-value o) id))))))))))\n",
    "\n",
    "(dolist (instance (cytoscape:elements c))\n",
    "  (jupyter-widgets:observe instance :selected #'on-selection))\n",
    "\n",
    "c\n",
    "o"
   ]
  },
  {
   "cell_type": "code",
   "execution_count": null,
   "metadata": {},
   "outputs": [],
   "source": []
  }
 ],
 "metadata": {
  "kernelspec": {
   "display_name": "Common Lisp (SBCL)",
   "language": "common-lisp",
   "name": "common-lisp_sbcl"
  },
  "language_info": {
   "codemirror_mode": "text/x-common-lisp",
   "file_extension": ".lisp",
   "mimetype": "text/x-common-lisp",
   "name": "common-lisp",
   "pygments_lexer": "common-lisp",
   "version": "2.1.1"
  },
  "widgets": {
   "application/vnd.jupyter.widget-state+json": {
    "state": {
     "0b91f1e6793e40cb8f81f5aa566e663b": {
      "model_module": "cytoscape-clj",
      "model_module_version": "^0.2.0",
      "model_name": "ColaLayoutModel",
      "state": {
       "_model_module_version": "^0.2.0",
       "_view_module_version": "^0.2.0",
       "handle_disconnected": false,
       "unconst_iter": null,
       "ungrabify_while_simulating": false
      }
     },
     "1a1a18cde2994b4b73486c9374ec8b18": {
      "model_module": "cytoscape-clj",
      "model_module_version": "^0.2.0",
      "model_name": "ContextMenuModel",
      "state": {
       "_model_module_version": "^0.2.0",
       "_view_module_version": "^0.2.0",
       "commands": [
        "IPY_MODEL_2948c5d628fc442d3850a7adcbef03f9",
        "IPY_MODEL_c80f1aaf6070487ec1ccb59279a3582c"
       ],
       "selector": "edge"
      }
     },
     "1db43f852a1c4085f4f9bdda7e387aa7": {
      "model_module": "@jupyter-widgets/base",
      "model_module_version": "1.2.0",
      "model_name": "LayoutModel",
      "state": {}
     },
     "2948c5d628fc442d3850a7adcbef03f9": {
      "model_module": "cytoscape-clj",
      "model_module_version": "^0.2.0",
      "model_name": "MenuCommandModel",
      "state": {
       "_model_module_version": "^0.2.0",
       "_view_module_version": "^0.2.0",
       "content": "quux",
       "fill_color": []
      }
     },
     "583f08f054bf48b6cef91f24f675e53c": {
      "model_module": "cytoscape-clj",
      "model_module_version": "^0.2.0",
      "model_name": "ElementModel",
      "state": {
       "_model_module_version": "^0.2.0",
       "_view_module_version": "^0.2.0",
       "data": {
        "id": "b"
       },
       "position": {
        "x": -25.495237526274398,
        "y": 0.1376994961049538
       },
       "selected": true
      }
     },
     "59b34d03d71a403bab620d8036eae983": {
      "model_module": "cytoscape-clj",
      "model_module_version": "^0.2.0",
      "model_name": "ContextMenuModel",
      "state": {
       "_model_module_version": "^0.2.0",
       "_view_module_version": "^0.2.0",
       "commands": [
        "IPY_MODEL_88b8e2db37614e5c364bb3bda309aca3",
        "IPY_MODEL_f785271897f6445ff66ed918746ec4b2",
        "IPY_MODEL_8d7d39db569943eee2f47a47c20f4c0c"
       ]
      }
     },
     "768edde821a74af018996cce1bafc6e7": {
      "model_module": "cytoscape-clj",
      "model_module_version": "^0.2.0",
      "model_name": "ElementModel",
      "state": {
       "_model_module_version": "^0.2.0",
       "_view_module_version": "^0.2.0",
       "data": {
        "id": "ab",
        "source": "a",
        "target": "b"
       },
       "group": "edges"
      }
     },
     "7ecdefb1ab8d4c2fad70f55459b8ba3f": {
      "model_module": "cytoscape-clj",
      "model_module_version": "^0.2.0",
      "model_name": "CytoscapeModel",
      "state": {
       "_model_module_version": "^0.2.0",
       "_view_module_version": "^0.2.0",
       "box_selection_enabled": true,
       "context_menus": [
        "IPY_MODEL_59b34d03d71a403bab620d8036eae983",
        "IPY_MODEL_1a1a18cde2994b4b73486c9374ec8b18"
       ],
       "desktop_tap_threshold": 4,
       "elements": [
        "IPY_MODEL_e5881690236b4cd8ab5377bd5116450a",
        "IPY_MODEL_583f08f054bf48b6cef91f24f675e53c",
        "IPY_MODEL_768edde821a74af018996cce1bafc6e7"
       ],
       "graph_layouts": [
        "IPY_MODEL_0b91f1e6793e40cb8f81f5aa566e663b"
       ],
       "layout": "IPY_MODEL_e12ef6ca811b4534fae6c49e4493f41a",
       "max_zoom": 9.999999999999999e+49,
       "min_zoom": 1.0000000000000001e-50,
       "pan": {
        "x": 640.7393479176599,
        "y": 199.2716057868212
       },
       "style": "IPY_MODEL_d9514323acbe4fe95abaad93f8504c27",
       "tooltip_source": "tooltip",
       "zoom": 10.579475361676323
      }
     },
     "88b8e2db37614e5c364bb3bda309aca3": {
      "model_module": "cytoscape-clj",
      "model_module_version": "^0.2.0",
      "model_name": "MenuCommandModel",
      "state": {
       "_model_module_version": "^0.2.0",
       "_view_module_version": "^0.2.0",
       "content": "fu",
       "fill_color": []
      }
     },
     "8d7d39db569943eee2f47a47c20f4c0c": {
      "model_module": "cytoscape-clj",
      "model_module_version": "^0.2.0",
      "model_name": "MenuCommandModel",
      "state": {
       "_model_module_version": "^0.2.0",
       "_view_module_version": "^0.2.0",
       "content": "<span class='fa fa-star fa-2x'></span>",
       "fill_color": []
      }
     },
     "c80f1aaf6070487ec1ccb59279a3582c": {
      "model_module": "cytoscape-clj",
      "model_module_version": "^0.2.0",
      "model_name": "MenuCommandModel",
      "state": {
       "_model_module_version": "^0.2.0",
       "_view_module_version": "^0.2.0",
       "content": "<span class='fa fa-flash fa-2x'></span>",
       "fill_color": []
      }
     },
     "d9514323acbe4fe95abaad93f8504c27": {
      "model_module": "cytoscape-clj",
      "model_module_version": "^0.2.0",
      "model_name": "CytoscapeStyleModel",
      "state": {
       "_model_module_version": "^0.2.0"
      }
     },
     "e12ef6ca811b4534fae6c49e4493f41a": {
      "model_module": "@jupyter-widgets/base",
      "model_module_version": "1.2.0",
      "model_name": "LayoutModel",
      "state": {}
     },
     "e5881690236b4cd8ab5377bd5116450a": {
      "model_module": "cytoscape-clj",
      "model_module_version": "^0.2.0",
      "model_name": "ElementModel",
      "state": {
       "_model_module_version": "^0.2.0",
       "_view_module_version": "^0.2.0",
       "data": {
        "id": "a"
       },
       "position": {
        "x": 24.5047634737256,
        "y": 0
       }
      }
     },
     "ec15c74e24544f2edbf34f523ef02684": {
      "model_module": "@jupyter-widgets/controls",
      "model_module_version": "1.5.0",
      "model_name": "TextareaModel",
      "state": {
       "layout": "IPY_MODEL_1db43f852a1c4085f4f9bdda7e387aa7",
       "rows": 16,
       "style": "IPY_MODEL_fbcf63758261445b44fe29efb9c26ab3",
       "value": "Node b selected."
      }
     },
     "f785271897f6445ff66ed918746ec4b2": {
      "model_module": "cytoscape-clj",
      "model_module_version": "^0.2.0",
      "model_name": "MenuCommandModel",
      "state": {
       "_model_module_version": "^0.2.0",
       "_view_module_version": "^0.2.0",
       "content": "bar",
       "fill_color": []
      }
     },
     "fbcf63758261445b44fe29efb9c26ab3": {
      "model_module": "@jupyter-widgets/controls",
      "model_module_version": "1.5.0",
      "model_name": "DescriptionStyleModel",
      "state": {}
     }
    },
    "version_major": 2,
    "version_minor": 0
   }
  }
 },
 "nbformat": 4,
 "nbformat_minor": 4
}
